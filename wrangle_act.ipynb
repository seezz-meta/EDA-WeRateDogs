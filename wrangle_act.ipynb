{
 "cells": [
  {
   "cell_type": "markdown",
   "metadata": {
    "id": "8LcMAr6vtQVa"
   },
   "source": [
    "# WeRateDogs Twitter Data Wrangling"
   ]
  },
  {
   "cell_type": "markdown",
   "metadata": {
    "id": "Aaz7obeBSl0s"
   },
   "source": [
    "### Table of Contents\n",
    "<ol>\n",
    "<li><a href=\"#intro\">Introduction</a></li>\n",
    "<li><a href=\"#gather\">Gathering Data</a></li>\n",
    "<li><a href=\"#assess\">Assessing Data</a></li>\n",
    "<li><a href=\"#clean\">Cleaning Data</a></li>\n",
    "<li><a href=\"#store\">Storing Data</a></li>\n",
    "<li><a href=\"#visualize\">Analyzing and Visualizing Data</a></li>\n",
    "</ol>"
   ]
  },
  {
   "cell_type": "markdown",
   "metadata": {
    "id": "1uGX49-6WK2Y"
   },
   "source": [
    "<a id=\"intro\"></a>\n",
    "# Introduction"
   ]
  },
  {
   "cell_type": "markdown",
   "metadata": {
    "id": "YW1mf7HZo33q"
   },
   "source": [
    "Wrangle WeRateDogs Twitter data to create interesting and trustworthy analyses and visualizations. Today our main question is: How did WeRateDogs (@dog_rates) tweet frequency affect the account growth and community engagement."
   ]
  },
  {
   "cell_type": "markdown",
   "metadata": {
    "id": "BzNRZ34sALUV"
   },
   "source": [
    "### Twitter Archive\n",
    "1. **tweet_id** - The integer representation of the unique identifier for this Tweet.\n",
    "2. **in_reply_to_status_id** - If the represented Tweet is a reply, this field will contain the integer representation of the original Tweet’s ID.\n",
    "3. **in_reply_to_user_id** - If the represented Tweet is a reply, this field will contain the original Tweet’s author ID.\n",
    "4. **timestamp** - The creation time of the Tweet.\n",
    "5. **source** - The name of the app the user Tweeted from.\n",
    "6. **text** - The actual UTF-8 text of the Tweet.\n",
    "7. **retweeted_status_id** - If the represented Tweet is a retweet, this field will contain the integer representation of the original Tweet’s ID\n",
    "8. **retweeted_status_user_id** - If the represented Tweet is a retweet, this field will contain the original Tweet’s author ID.\n",
    "9. **retweeted_status_timestamp** - The creation time of the retweet.\n",
    "10. **expanded_urls** - An expanded version of display_url/ URL of the media to display to clients.\n",
    "11. **rating_numerator** - numerator on the dog rating.\n",
    "12. **rating_denominator** - denominator on the dog rating.\n",
    "13. **name** - Name of the dog.\n",
    "14. **doggo, floofer, pupper, and puppo** - These columns represent dog stages."
   ]
  },
  {
   "cell_type": "markdown",
   "metadata": {
    "id": "GbR0vl-cK4S7"
   },
   "source": [
    "### Twitter Predictions\n",
    "1. **tweet_id** - The integer representation of the unique identifier for this Tweet.\n",
    "2. **jpg_url** - Image URL.\n",
    "3. **img_num** - number of images in a tweet.\n",
    "4. **p1** - The algorithm's #1 prediction for the image in the tweet.\n",
    "5. **p1_conf** - is whether or not the #1 prediction is a breed of dog.\n",
    "6. **p1_dog** - is whether or not the #1 prediction is a breed of dog.\n",
    "7. **p2** - The algorithm's #2 prediction for the image in the tweet.\n",
    "8. **p2_conf** - is whether or not the #2 prediction is a breed of dog.\n",
    "9. **p2_dog** - is whether or not the #2 prediction is a breed of dog.\n",
    "10. **p3** - The algorithm's #3 prediction for the image in the tweet.\n",
    "11. **p3_conf** - is whether or not the #3 prediction is a breed of dog.\n",
    "12. **p3_dog** - is whether or not the #3 prediction is a breed of dog."
   ]
  },
  {
   "cell_type": "markdown",
   "metadata": {
    "id": "jwIDG6OYvhLz"
   },
   "source": [
    "### Twitter API\n",
    "1. **tweet_id**\t- The integer representation of the unique identifier for this Tweet.\n",
    "2. **retweet_count** - Number of times this Tweet has been retweeted.\n",
    "3. **favorite_count** -  Indicates approximately how many times this Tweet has been liked by Twitter users.\n",
    "4. **followers_count** - The number of followers this account currently has."
   ]
  },
  {
   "cell_type": "markdown",
   "metadata": {
    "id": "MG66ta3MQVpa"
   },
   "source": [
    "<a id=\"gather\"></a>\n",
    "# Step 1: Gathering Data"
   ]
  },
  {
   "cell_type": "markdown",
   "metadata": {
    "id": "EAQIL5l0nGEq"
   },
   "source": [
    "### Imports"
   ]
  },
  {
   "cell_type": "code",
   "execution_count": 3,
   "metadata": {
    "id": "5iSiX8xst0S-"
   },
   "outputs": [],
   "source": [
    "# importing all libraries I will use.\n",
    "import pandas as pd\n",
    "import numpy as np\n",
    "import requests\n",
    "import tweepy\n",
    "import json\n",
    "import os\n",
    "import time\n",
    "import matplotlib.pyplot as plt\n",
    "%matplotlib inline\n",
    "import tweet_auth"
   ]
  },
  {
   "cell_type": "markdown",
   "metadata": {
    "id": "uhzgiTgVWK2a"
   },
   "source": [
    "### Read the file 'twitter-archive-enhanced.csv' using pandas DataFrame."
   ]
  },
  {
   "cell_type": "code",
   "execution_count": 5,
   "metadata": {
    "id": "SiOjtGKBvALE"
   },
   "outputs": [],
   "source": [
    "df_archive = pd.read_csv('twitter-archive-enhanced.csv')"
   ]
  },
  {
   "cell_type": "markdown",
   "metadata": {
    "id": "RK-oN5ZTY7zg"
   },
   "source": [
    "Print a sample of the twitter-archieve sample using DataFrame.sample()"
   ]
  },
  {
   "cell_type": "code",
   "execution_count": 6,
   "metadata": {
    "colab": {
     "base_uri": "https://localhost:8080/",
     "height": 635
    },
    "id": "_hOHnOC-Y8vU",
    "outputId": "7f52957c-b432-414f-ac23-dfbc365825db"
   },
   "outputs": [
    {
     "data": {
      "text/html": [
       "\n",
       "  <div id=\"df-ed1427ef-f378-46a7-8444-901a334d690a\">\n",
       "    <div class=\"colab-df-container\">\n",
       "      <div>\n",
       "<style scoped>\n",
       "    .dataframe tbody tr th:only-of-type {\n",
       "        vertical-align: middle;\n",
       "    }\n",
       "\n",
       "    .dataframe tbody tr th {\n",
       "        vertical-align: top;\n",
       "    }\n",
       "\n",
       "    .dataframe thead th {\n",
       "        text-align: right;\n",
       "    }\n",
       "</style>\n",
       "<table border=\"1\" class=\"dataframe\">\n",
       "  <thead>\n",
       "    <tr style=\"text-align: right;\">\n",
       "      <th></th>\n",
       "      <th>tweet_id</th>\n",
       "      <th>in_reply_to_status_id</th>\n",
       "      <th>in_reply_to_user_id</th>\n",
       "      <th>timestamp</th>\n",
       "      <th>source</th>\n",
       "      <th>text</th>\n",
       "      <th>retweeted_status_id</th>\n",
       "      <th>retweeted_status_user_id</th>\n",
       "      <th>retweeted_status_timestamp</th>\n",
       "      <th>expanded_urls</th>\n",
       "      <th>rating_numerator</th>\n",
       "      <th>rating_denominator</th>\n",
       "      <th>name</th>\n",
       "      <th>doggo</th>\n",
       "      <th>floofer</th>\n",
       "      <th>pupper</th>\n",
       "      <th>puppo</th>\n",
       "    </tr>\n",
       "  </thead>\n",
       "  <tbody>\n",
       "    <tr>\n",
       "      <th>0</th>\n",
       "      <td>892420643555336193</td>\n",
       "      <td>NaN</td>\n",
       "      <td>NaN</td>\n",
       "      <td>2017-08-01 16:23:56 +0000</td>\n",
       "      <td>&lt;a href=\"http://twitter.com/download/iphone\" r...</td>\n",
       "      <td>This is Phineas. He's a mystical boy. Only eve...</td>\n",
       "      <td>NaN</td>\n",
       "      <td>NaN</td>\n",
       "      <td>NaN</td>\n",
       "      <td>https://twitter.com/dog_rates/status/892420643...</td>\n",
       "      <td>13</td>\n",
       "      <td>10</td>\n",
       "      <td>Phineas</td>\n",
       "      <td>None</td>\n",
       "      <td>None</td>\n",
       "      <td>None</td>\n",
       "      <td>None</td>\n",
       "    </tr>\n",
       "    <tr>\n",
       "      <th>1</th>\n",
       "      <td>892177421306343426</td>\n",
       "      <td>NaN</td>\n",
       "      <td>NaN</td>\n",
       "      <td>2017-08-01 00:17:27 +0000</td>\n",
       "      <td>&lt;a href=\"http://twitter.com/download/iphone\" r...</td>\n",
       "      <td>This is Tilly. She's just checking pup on you....</td>\n",
       "      <td>NaN</td>\n",
       "      <td>NaN</td>\n",
       "      <td>NaN</td>\n",
       "      <td>https://twitter.com/dog_rates/status/892177421...</td>\n",
       "      <td>13</td>\n",
       "      <td>10</td>\n",
       "      <td>Tilly</td>\n",
       "      <td>None</td>\n",
       "      <td>None</td>\n",
       "      <td>None</td>\n",
       "      <td>None</td>\n",
       "    </tr>\n",
       "    <tr>\n",
       "      <th>2</th>\n",
       "      <td>891815181378084864</td>\n",
       "      <td>NaN</td>\n",
       "      <td>NaN</td>\n",
       "      <td>2017-07-31 00:18:03 +0000</td>\n",
       "      <td>&lt;a href=\"http://twitter.com/download/iphone\" r...</td>\n",
       "      <td>This is Archie. He is a rare Norwegian Pouncin...</td>\n",
       "      <td>NaN</td>\n",
       "      <td>NaN</td>\n",
       "      <td>NaN</td>\n",
       "      <td>https://twitter.com/dog_rates/status/891815181...</td>\n",
       "      <td>12</td>\n",
       "      <td>10</td>\n",
       "      <td>Archie</td>\n",
       "      <td>None</td>\n",
       "      <td>None</td>\n",
       "      <td>None</td>\n",
       "      <td>None</td>\n",
       "    </tr>\n",
       "    <tr>\n",
       "      <th>3</th>\n",
       "      <td>891689557279858688</td>\n",
       "      <td>NaN</td>\n",
       "      <td>NaN</td>\n",
       "      <td>2017-07-30 15:58:51 +0000</td>\n",
       "      <td>&lt;a href=\"http://twitter.com/download/iphone\" r...</td>\n",
       "      <td>This is Darla. She commenced a snooze mid meal...</td>\n",
       "      <td>NaN</td>\n",
       "      <td>NaN</td>\n",
       "      <td>NaN</td>\n",
       "      <td>https://twitter.com/dog_rates/status/891689557...</td>\n",
       "      <td>13</td>\n",
       "      <td>10</td>\n",
       "      <td>Darla</td>\n",
       "      <td>None</td>\n",
       "      <td>None</td>\n",
       "      <td>None</td>\n",
       "      <td>None</td>\n",
       "    </tr>\n",
       "    <tr>\n",
       "      <th>4</th>\n",
       "      <td>891327558926688256</td>\n",
       "      <td>NaN</td>\n",
       "      <td>NaN</td>\n",
       "      <td>2017-07-29 16:00:24 +0000</td>\n",
       "      <td>&lt;a href=\"http://twitter.com/download/iphone\" r...</td>\n",
       "      <td>This is Franklin. He would like you to stop ca...</td>\n",
       "      <td>NaN</td>\n",
       "      <td>NaN</td>\n",
       "      <td>NaN</td>\n",
       "      <td>https://twitter.com/dog_rates/status/891327558...</td>\n",
       "      <td>12</td>\n",
       "      <td>10</td>\n",
       "      <td>Franklin</td>\n",
       "      <td>None</td>\n",
       "      <td>None</td>\n",
       "      <td>None</td>\n",
       "      <td>None</td>\n",
       "    </tr>\n",
       "  </tbody>\n",
       "</table>\n",
       "</div>\n",
       "      <button class=\"colab-df-convert\" onclick=\"convertToInteractive('df-ed1427ef-f378-46a7-8444-901a334d690a')\"\n",
       "              title=\"Convert this dataframe to an interactive table.\"\n",
       "              style=\"display:none;\">\n",
       "        \n",
       "  <svg xmlns=\"http://www.w3.org/2000/svg\" height=\"24px\"viewBox=\"0 0 24 24\"\n",
       "       width=\"24px\">\n",
       "    <path d=\"M0 0h24v24H0V0z\" fill=\"none\"/>\n",
       "    <path d=\"M18.56 5.44l.94 2.06.94-2.06 2.06-.94-2.06-.94-.94-2.06-.94 2.06-2.06.94zm-11 1L8.5 8.5l.94-2.06 2.06-.94-2.06-.94L8.5 2.5l-.94 2.06-2.06.94zm10 10l.94 2.06.94-2.06 2.06-.94-2.06-.94-.94-2.06-.94 2.06-2.06.94z\"/><path d=\"M17.41 7.96l-1.37-1.37c-.4-.4-.92-.59-1.43-.59-.52 0-1.04.2-1.43.59L10.3 9.45l-7.72 7.72c-.78.78-.78 2.05 0 2.83L4 21.41c.39.39.9.59 1.41.59.51 0 1.02-.2 1.41-.59l7.78-7.78 2.81-2.81c.8-.78.8-2.07 0-2.86zM5.41 20L4 18.59l7.72-7.72 1.47 1.35L5.41 20z\"/>\n",
       "  </svg>\n",
       "      </button>\n",
       "      \n",
       "  <style>\n",
       "    .colab-df-container {\n",
       "      display:flex;\n",
       "      flex-wrap:wrap;\n",
       "      gap: 12px;\n",
       "    }\n",
       "\n",
       "    .colab-df-convert {\n",
       "      background-color: #E8F0FE;\n",
       "      border: none;\n",
       "      border-radius: 50%;\n",
       "      cursor: pointer;\n",
       "      display: none;\n",
       "      fill: #1967D2;\n",
       "      height: 32px;\n",
       "      padding: 0 0 0 0;\n",
       "      width: 32px;\n",
       "    }\n",
       "\n",
       "    .colab-df-convert:hover {\n",
       "      background-color: #E2EBFA;\n",
       "      box-shadow: 0px 1px 2px rgba(60, 64, 67, 0.3), 0px 1px 3px 1px rgba(60, 64, 67, 0.15);\n",
       "      fill: #174EA6;\n",
       "    }\n",
       "\n",
       "    [theme=dark] .colab-df-convert {\n",
       "      background-color: #3B4455;\n",
       "      fill: #D2E3FC;\n",
       "    }\n",
       "\n",
       "    [theme=dark] .colab-df-convert:hover {\n",
       "      background-color: #434B5C;\n",
       "      box-shadow: 0px 1px 3px 1px rgba(0, 0, 0, 0.15);\n",
       "      filter: drop-shadow(0px 1px 2px rgba(0, 0, 0, 0.3));\n",
       "      fill: #FFFFFF;\n",
       "    }\n",
       "  </style>\n",
       "\n",
       "      <script>\n",
       "        const buttonEl =\n",
       "          document.querySelector('#df-ed1427ef-f378-46a7-8444-901a334d690a button.colab-df-convert');\n",
       "        buttonEl.style.display =\n",
       "          google.colab.kernel.accessAllowed ? 'block' : 'none';\n",
       "\n",
       "        async function convertToInteractive(key) {\n",
       "          const element = document.querySelector('#df-ed1427ef-f378-46a7-8444-901a334d690a');\n",
       "          const dataTable =\n",
       "            await google.colab.kernel.invokeFunction('convertToInteractive',\n",
       "                                                     [key], {});\n",
       "          if (!dataTable) return;\n",
       "\n",
       "          const docLinkHtml = 'Like what you see? Visit the ' +\n",
       "            '<a target=\"_blank\" href=https://colab.research.google.com/notebooks/data_table.ipynb>data table notebook</a>'\n",
       "            + ' to learn more about interactive tables.';\n",
       "          element.innerHTML = '';\n",
       "          dataTable['output_type'] = 'display_data';\n",
       "          await google.colab.output.renderOutput(dataTable, element);\n",
       "          const docLink = document.createElement('div');\n",
       "          docLink.innerHTML = docLinkHtml;\n",
       "          element.appendChild(docLink);\n",
       "        }\n",
       "      </script>\n",
       "    </div>\n",
       "  </div>\n",
       "  "
      ],
      "text/plain": [
       "             tweet_id  in_reply_to_status_id  in_reply_to_user_id  \\\n",
       "0  892420643555336193                    NaN                  NaN   \n",
       "1  892177421306343426                    NaN                  NaN   \n",
       "2  891815181378084864                    NaN                  NaN   \n",
       "3  891689557279858688                    NaN                  NaN   \n",
       "4  891327558926688256                    NaN                  NaN   \n",
       "\n",
       "                   timestamp  \\\n",
       "0  2017-08-01 16:23:56 +0000   \n",
       "1  2017-08-01 00:17:27 +0000   \n",
       "2  2017-07-31 00:18:03 +0000   \n",
       "3  2017-07-30 15:58:51 +0000   \n",
       "4  2017-07-29 16:00:24 +0000   \n",
       "\n",
       "                                              source  \\\n",
       "0  <a href=\"http://twitter.com/download/iphone\" r...   \n",
       "1  <a href=\"http://twitter.com/download/iphone\" r...   \n",
       "2  <a href=\"http://twitter.com/download/iphone\" r...   \n",
       "3  <a href=\"http://twitter.com/download/iphone\" r...   \n",
       "4  <a href=\"http://twitter.com/download/iphone\" r...   \n",
       "\n",
       "                                                text  retweeted_status_id  \\\n",
       "0  This is Phineas. He's a mystical boy. Only eve...                  NaN   \n",
       "1  This is Tilly. She's just checking pup on you....                  NaN   \n",
       "2  This is Archie. He is a rare Norwegian Pouncin...                  NaN   \n",
       "3  This is Darla. She commenced a snooze mid meal...                  NaN   \n",
       "4  This is Franklin. He would like you to stop ca...                  NaN   \n",
       "\n",
       "   retweeted_status_user_id retweeted_status_timestamp  \\\n",
       "0                       NaN                        NaN   \n",
       "1                       NaN                        NaN   \n",
       "2                       NaN                        NaN   \n",
       "3                       NaN                        NaN   \n",
       "4                       NaN                        NaN   \n",
       "\n",
       "                                       expanded_urls  rating_numerator  \\\n",
       "0  https://twitter.com/dog_rates/status/892420643...                13   \n",
       "1  https://twitter.com/dog_rates/status/892177421...                13   \n",
       "2  https://twitter.com/dog_rates/status/891815181...                12   \n",
       "3  https://twitter.com/dog_rates/status/891689557...                13   \n",
       "4  https://twitter.com/dog_rates/status/891327558...                12   \n",
       "\n",
       "   rating_denominator      name doggo floofer pupper puppo  \n",
       "0                  10   Phineas  None    None   None  None  \n",
       "1                  10     Tilly  None    None   None  None  \n",
       "2                  10    Archie  None    None   None  None  \n",
       "3                  10     Darla  None    None   None  None  \n",
       "4                  10  Franklin  None    None   None  None  "
      ]
     },
     "execution_count": 6,
     "metadata": {},
     "output_type": "execute_result"
    }
   ],
   "source": [
    "# Using DataFrame.head to print the first five rows of the dataframe.\n",
    "df_archive.head()"
   ]
  },
  {
   "cell_type": "markdown",
   "metadata": {
    "id": "1RbQEs5SQyAw"
   },
   "source": [
    "### Downloading 'image_predictions.tsv' programmatically using the Requests library and read the data using pandas DataFrame. "
   ]
  },
  {
   "cell_type": "code",
   "execution_count": 7,
   "metadata": {
    "id": "8-Dz31MhwGpf"
   },
   "outputs": [],
   "source": [
    "# Sends a GET request.\n",
    "url = 'https://d17h27t6h515a5.cloudfront.net/topher/2017/August/599fd2ad_image-predictions/image-predictions.tsv'\n",
    "response = requests.get(url)\n",
    "\n",
    "# Check if GET request response status code is OK or 200.\n",
    "if response.status_code == 200:\n",
    "    # if status code is OK, open write or create a file and write alll the response content in it.\n",
    "    with open(url.split('/')[-1], mode='wb') as file:\n",
    "        file.write(response.content)\n",
    "else:\n",
    "    print('Incorrect URL or file does not exist.')\n",
    "\n",
    "# Create a prediction dataframe using the downloaded file.\n",
    "df_predictions = pd.read_csv('image-predictions.tsv', sep='\\t', encoding='utf-8')"
   ]
  },
  {
   "cell_type": "markdown",
   "metadata": {
    "id": "QYGAuEP0ZRDO"
   },
   "source": [
    "Print the 'image-predictions.tsv' dataframe using DataFrame.head()"
   ]
  },
  {
   "cell_type": "code",
   "execution_count": 8,
   "metadata": {
    "colab": {
     "base_uri": "https://localhost:8080/",
     "height": 206
    },
    "id": "f-esrD9LZSgM",
    "outputId": "c33e54db-7251-4cd0-88b4-e2e6fa510897"
   },
   "outputs": [
    {
     "data": {
      "text/html": [
       "\n",
       "  <div id=\"df-6dae917d-9e0b-4298-be6c-c7a707636234\">\n",
       "    <div class=\"colab-df-container\">\n",
       "      <div>\n",
       "<style scoped>\n",
       "    .dataframe tbody tr th:only-of-type {\n",
       "        vertical-align: middle;\n",
       "    }\n",
       "\n",
       "    .dataframe tbody tr th {\n",
       "        vertical-align: top;\n",
       "    }\n",
       "\n",
       "    .dataframe thead th {\n",
       "        text-align: right;\n",
       "    }\n",
       "</style>\n",
       "<table border=\"1\" class=\"dataframe\">\n",
       "  <thead>\n",
       "    <tr style=\"text-align: right;\">\n",
       "      <th></th>\n",
       "      <th>tweet_id</th>\n",
       "      <th>jpg_url</th>\n",
       "      <th>img_num</th>\n",
       "      <th>p1</th>\n",
       "      <th>p1_conf</th>\n",
       "      <th>p1_dog</th>\n",
       "      <th>p2</th>\n",
       "      <th>p2_conf</th>\n",
       "      <th>p2_dog</th>\n",
       "      <th>p3</th>\n",
       "      <th>p3_conf</th>\n",
       "      <th>p3_dog</th>\n",
       "    </tr>\n",
       "  </thead>\n",
       "  <tbody>\n",
       "    <tr>\n",
       "      <th>0</th>\n",
       "      <td>666020888022790149</td>\n",
       "      <td>https://pbs.twimg.com/media/CT4udn0WwAA0aMy.jpg</td>\n",
       "      <td>1</td>\n",
       "      <td>Welsh_springer_spaniel</td>\n",
       "      <td>0.465074</td>\n",
       "      <td>True</td>\n",
       "      <td>collie</td>\n",
       "      <td>0.156665</td>\n",
       "      <td>True</td>\n",
       "      <td>Shetland_sheepdog</td>\n",
       "      <td>0.061428</td>\n",
       "      <td>True</td>\n",
       "    </tr>\n",
       "    <tr>\n",
       "      <th>1</th>\n",
       "      <td>666029285002620928</td>\n",
       "      <td>https://pbs.twimg.com/media/CT42GRgUYAA5iDo.jpg</td>\n",
       "      <td>1</td>\n",
       "      <td>redbone</td>\n",
       "      <td>0.506826</td>\n",
       "      <td>True</td>\n",
       "      <td>miniature_pinscher</td>\n",
       "      <td>0.074192</td>\n",
       "      <td>True</td>\n",
       "      <td>Rhodesian_ridgeback</td>\n",
       "      <td>0.072010</td>\n",
       "      <td>True</td>\n",
       "    </tr>\n",
       "    <tr>\n",
       "      <th>2</th>\n",
       "      <td>666033412701032449</td>\n",
       "      <td>https://pbs.twimg.com/media/CT4521TWwAEvMyu.jpg</td>\n",
       "      <td>1</td>\n",
       "      <td>German_shepherd</td>\n",
       "      <td>0.596461</td>\n",
       "      <td>True</td>\n",
       "      <td>malinois</td>\n",
       "      <td>0.138584</td>\n",
       "      <td>True</td>\n",
       "      <td>bloodhound</td>\n",
       "      <td>0.116197</td>\n",
       "      <td>True</td>\n",
       "    </tr>\n",
       "    <tr>\n",
       "      <th>3</th>\n",
       "      <td>666044226329800704</td>\n",
       "      <td>https://pbs.twimg.com/media/CT5Dr8HUEAA-lEu.jpg</td>\n",
       "      <td>1</td>\n",
       "      <td>Rhodesian_ridgeback</td>\n",
       "      <td>0.408143</td>\n",
       "      <td>True</td>\n",
       "      <td>redbone</td>\n",
       "      <td>0.360687</td>\n",
       "      <td>True</td>\n",
       "      <td>miniature_pinscher</td>\n",
       "      <td>0.222752</td>\n",
       "      <td>True</td>\n",
       "    </tr>\n",
       "    <tr>\n",
       "      <th>4</th>\n",
       "      <td>666049248165822465</td>\n",
       "      <td>https://pbs.twimg.com/media/CT5IQmsXIAAKY4A.jpg</td>\n",
       "      <td>1</td>\n",
       "      <td>miniature_pinscher</td>\n",
       "      <td>0.560311</td>\n",
       "      <td>True</td>\n",
       "      <td>Rottweiler</td>\n",
       "      <td>0.243682</td>\n",
       "      <td>True</td>\n",
       "      <td>Doberman</td>\n",
       "      <td>0.154629</td>\n",
       "      <td>True</td>\n",
       "    </tr>\n",
       "  </tbody>\n",
       "</table>\n",
       "</div>\n",
       "      <button class=\"colab-df-convert\" onclick=\"convertToInteractive('df-6dae917d-9e0b-4298-be6c-c7a707636234')\"\n",
       "              title=\"Convert this dataframe to an interactive table.\"\n",
       "              style=\"display:none;\">\n",
       "        \n",
       "  <svg xmlns=\"http://www.w3.org/2000/svg\" height=\"24px\"viewBox=\"0 0 24 24\"\n",
       "       width=\"24px\">\n",
       "    <path d=\"M0 0h24v24H0V0z\" fill=\"none\"/>\n",
       "    <path d=\"M18.56 5.44l.94 2.06.94-2.06 2.06-.94-2.06-.94-.94-2.06-.94 2.06-2.06.94zm-11 1L8.5 8.5l.94-2.06 2.06-.94-2.06-.94L8.5 2.5l-.94 2.06-2.06.94zm10 10l.94 2.06.94-2.06 2.06-.94-2.06-.94-.94-2.06-.94 2.06-2.06.94z\"/><path d=\"M17.41 7.96l-1.37-1.37c-.4-.4-.92-.59-1.43-.59-.52 0-1.04.2-1.43.59L10.3 9.45l-7.72 7.72c-.78.78-.78 2.05 0 2.83L4 21.41c.39.39.9.59 1.41.59.51 0 1.02-.2 1.41-.59l7.78-7.78 2.81-2.81c.8-.78.8-2.07 0-2.86zM5.41 20L4 18.59l7.72-7.72 1.47 1.35L5.41 20z\"/>\n",
       "  </svg>\n",
       "      </button>\n",
       "      \n",
       "  <style>\n",
       "    .colab-df-container {\n",
       "      display:flex;\n",
       "      flex-wrap:wrap;\n",
       "      gap: 12px;\n",
       "    }\n",
       "\n",
       "    .colab-df-convert {\n",
       "      background-color: #E8F0FE;\n",
       "      border: none;\n",
       "      border-radius: 50%;\n",
       "      cursor: pointer;\n",
       "      display: none;\n",
       "      fill: #1967D2;\n",
       "      height: 32px;\n",
       "      padding: 0 0 0 0;\n",
       "      width: 32px;\n",
       "    }\n",
       "\n",
       "    .colab-df-convert:hover {\n",
       "      background-color: #E2EBFA;\n",
       "      box-shadow: 0px 1px 2px rgba(60, 64, 67, 0.3), 0px 1px 3px 1px rgba(60, 64, 67, 0.15);\n",
       "      fill: #174EA6;\n",
       "    }\n",
       "\n",
       "    [theme=dark] .colab-df-convert {\n",
       "      background-color: #3B4455;\n",
       "      fill: #D2E3FC;\n",
       "    }\n",
       "\n",
       "    [theme=dark] .colab-df-convert:hover {\n",
       "      background-color: #434B5C;\n",
       "      box-shadow: 0px 1px 3px 1px rgba(0, 0, 0, 0.15);\n",
       "      filter: drop-shadow(0px 1px 2px rgba(0, 0, 0, 0.3));\n",
       "      fill: #FFFFFF;\n",
       "    }\n",
       "  </style>\n",
       "\n",
       "      <script>\n",
       "        const buttonEl =\n",
       "          document.querySelector('#df-6dae917d-9e0b-4298-be6c-c7a707636234 button.colab-df-convert');\n",
       "        buttonEl.style.display =\n",
       "          google.colab.kernel.accessAllowed ? 'block' : 'none';\n",
       "\n",
       "        async function convertToInteractive(key) {\n",
       "          const element = document.querySelector('#df-6dae917d-9e0b-4298-be6c-c7a707636234');\n",
       "          const dataTable =\n",
       "            await google.colab.kernel.invokeFunction('convertToInteractive',\n",
       "                                                     [key], {});\n",
       "          if (!dataTable) return;\n",
       "\n",
       "          const docLinkHtml = 'Like what you see? Visit the ' +\n",
       "            '<a target=\"_blank\" href=https://colab.research.google.com/notebooks/data_table.ipynb>data table notebook</a>'\n",
       "            + ' to learn more about interactive tables.';\n",
       "          element.innerHTML = '';\n",
       "          dataTable['output_type'] = 'display_data';\n",
       "          await google.colab.output.renderOutput(dataTable, element);\n",
       "          const docLink = document.createElement('div');\n",
       "          docLink.innerHTML = docLinkHtml;\n",
       "          element.appendChild(docLink);\n",
       "        }\n",
       "      </script>\n",
       "    </div>\n",
       "  </div>\n",
       "  "
      ],
      "text/plain": [
       "             tweet_id                                          jpg_url  \\\n",
       "0  666020888022790149  https://pbs.twimg.com/media/CT4udn0WwAA0aMy.jpg   \n",
       "1  666029285002620928  https://pbs.twimg.com/media/CT42GRgUYAA5iDo.jpg   \n",
       "2  666033412701032449  https://pbs.twimg.com/media/CT4521TWwAEvMyu.jpg   \n",
       "3  666044226329800704  https://pbs.twimg.com/media/CT5Dr8HUEAA-lEu.jpg   \n",
       "4  666049248165822465  https://pbs.twimg.com/media/CT5IQmsXIAAKY4A.jpg   \n",
       "\n",
       "   img_num                      p1   p1_conf  p1_dog                  p2  \\\n",
       "0        1  Welsh_springer_spaniel  0.465074    True              collie   \n",
       "1        1                 redbone  0.506826    True  miniature_pinscher   \n",
       "2        1         German_shepherd  0.596461    True            malinois   \n",
       "3        1     Rhodesian_ridgeback  0.408143    True             redbone   \n",
       "4        1      miniature_pinscher  0.560311    True          Rottweiler   \n",
       "\n",
       "    p2_conf  p2_dog                   p3   p3_conf  p3_dog  \n",
       "0  0.156665    True    Shetland_sheepdog  0.061428    True  \n",
       "1  0.074192    True  Rhodesian_ridgeback  0.072010    True  \n",
       "2  0.138584    True           bloodhound  0.116197    True  \n",
       "3  0.360687    True   miniature_pinscher  0.222752    True  \n",
       "4  0.243682    True             Doberman  0.154629    True  "
      ]
     },
     "execution_count": 8,
     "metadata": {},
     "output_type": "execute_result"
    }
   ],
   "source": [
    "# Using DataFrame.head to print the first five rows of the dataframe.\n",
    "df_predictions.head()"
   ]
  },
  {
   "cell_type": "markdown",
   "metadata": {
    "id": "y-2c_OfCWK2e"
   },
   "source": [
    "### Accessing the Twitter API to get additional data using the referrenced tweets in df_archive - tweet_id's\n",
    "\n",
    "Authenticate to the twitter API using the tweepy library."
   ]
  },
  {
   "cell_type": "code",
   "execution_count": 9,
   "metadata": {
    "id": "K4hyDVTxx3OM"
   },
   "outputs": [],
   "source": [
    "# Authenticate to the twitter API using the tweepy.OAuthHandler\n",
    "auth = tweepy.OAuthHandler(tweet_auth.consumer_key, tweet_auth.consumer_secret)\n",
    "auth.set_access_token(tweet_auth.access_token, tweet_auth.access_token_secret)\n",
    "\n",
    "# Create a Twitter API interface using the, json parser as response for our queries, and wait on rate limit.\n",
    "api = tweepy.API(auth, parser=tweepy.parsers.JSONParser(), wait_on_rate_limit=True)"
   ]
  },
  {
   "cell_type": "markdown",
   "metadata": {
    "id": "ei8jvoWCWK2e"
   },
   "source": [
    "Create or open `tweet_json.txt` file and write all good twitter response"
   ]
  },
  {
   "cell_type": "code",
   "execution_count": 10,
   "metadata": {
    "id": "U6_jEH9_x3Qr"
   },
   "outputs": [],
   "source": [
    "# Create or open tweet_json.txt file and write all good twitter response\n",
    "# If api.get_status returns a error write the tweet_it into error_tweets.\n",
    "def get_tweet_status(data, mode:str, e_tweet: list):\n",
    "  e_tweet = e_tweet\n",
    "  start = time.time()\n",
    "  with open(r'tweet_json.txt', mode=mode) as file:\n",
    "      for tweet in data:\n",
    "          try:\n",
    "              tweet_response = api.get_status(id=tweet, tweet_mode='extended')\n",
    "              file.write(json.dumps(tweet_response) + \"\\n\")\n",
    "          except:\n",
    "              e_tweet.append(tweet)\n",
    "  end = time.time()\n",
    "  dicts = {}\n",
    "  return {'start': start,\n",
    "          'end': end,\n",
    "          'e_tweet': e_tweet}\n",
    "\n",
    "error_tweets = []\n",
    "tweets = get_tweet_status(df_archive.tweet_id, mode='w', e_tweet=error_tweets)"
   ]
  },
  {
   "cell_type": "code",
   "execution_count": 11,
   "metadata": {
    "colab": {
     "base_uri": "https://localhost:8080/"
    },
    "id": "CjVhkgqSXR0R",
    "outputId": "3b561274-dbd7-448a-e859-883847bada68"
   },
   "outputs": [
    {
     "name": "stdout",
     "output_type": "stream",
     "text": [
      "There are  33  tweets with errors.\n"
     ]
    }
   ],
   "source": [
    "print(\"There are \", len(tweets['e_tweet']), \" tweets with errors.\")"
   ]
  },
  {
   "cell_type": "markdown",
   "metadata": {
    "id": "1ITpKT11WK2e"
   },
   "source": [
    "Re-run the error tweet_ids to get the extra tweets and append the tweet_json.txt with the good twitter response tweets using tweet_ids from `tweets['e_tweet']`"
   ]
  },
  {
   "cell_type": "code",
   "execution_count": 12,
   "metadata": {
    "id": "JbVFu8lj8vwA"
   },
   "outputs": [],
   "source": [
    "# Create or open tweet_json.txt file and write all good twitter response\n",
    "# If api.get_status returns a error write the tweet_it into e_tweets.\n",
    "tweets = get_tweet_status(tweets['e_tweet'], mode='a', e_tweet=[])"
   ]
  },
  {
   "cell_type": "markdown",
   "metadata": {
    "id": "Q4RIfCK2F__r"
   },
   "source": [
    "Print out the tweets with errors."
   ]
  },
  {
   "cell_type": "code",
   "execution_count": 13,
   "metadata": {
    "colab": {
     "base_uri": "https://localhost:8080/"
    },
    "id": "yYXY8u3ovhL7",
    "outputId": "57d7cf47-fbfa-43d0-941a-0bf0acab20cf"
   },
   "outputs": [
    {
     "name": "stdout",
     "output_type": "stream",
     "text": [
      "There are  30  tweets with errors.\n",
      "[888202515573088257, 877611172832227328, 873697596434513921, 872668790621863937, 872261713294495745, 869988702071779329, 866816280283807744, 861769973181624320, 856602993587888130, 856330835276025856, 851953902622658560, 851861385021730816, 845459076796616705, 844704788403113984, 842892208864923648, 837366284874571778, 837012587749474308, 829374341691346946, 827228250799742977, 812747805718642688, 802247111496568832, 779123168116150273, 775096608509886464, 771004394259247104, 770743923962707968, 766864461642756096, 759923798737051648, 759566828574212096, 754011816964026368, 680055455951884288]\n"
     ]
    }
   ],
   "source": [
    "print(\"There are \", len(tweets['e_tweet']), \" tweets with errors.\")\n",
    "print(tweets['e_tweet'])"
   ]
  },
  {
   "cell_type": "markdown",
   "metadata": {
    "id": "xrMdlhPKF9yr"
   },
   "source": [
    "Write the error tweets to a file called `'error_ids.txt'`"
   ]
  },
  {
   "cell_type": "code",
   "execution_count": 14,
   "metadata": {
    "id": "XP76Fn23vhL7"
   },
   "outputs": [],
   "source": [
    "with open(r'error_ids.txt', mode='w') as file:\n",
    "    for id in tweets['e_tweet']:\n",
    "        file.write(str(id) + \"\\n\")"
   ]
  },
  {
   "cell_type": "markdown",
   "metadata": {
    "id": "-CnTwq-dWK2f"
   },
   "source": [
    "Read all the content in the 'tweet_json.txt' file and save tweet_id, retweet_count, favorite_count, and followers_count to a DataFrame"
   ]
  },
  {
   "cell_type": "code",
   "execution_count": 15,
   "metadata": {
    "id": "Ozolki7hx3UT"
   },
   "outputs": [],
   "source": [
    "# Open 'tweet_json.txt' file in read mode\n",
    "# Read 'tweet_json.txt' to get the json object and append tweet_id, retweet_count, favorite_count, and followers_count tp tweet_list\n",
    "tweet_list = []\n",
    "with open(r'tweet_json.txt', mode='r') as file:\n",
    "    tweets = file.readlines()\n",
    "    for tweet in tweets:\n",
    "        if tweet != \" \":\n",
    "            tweet_line = json.loads(tweet)\n",
    "\n",
    "            tweet_list.append({'tweet_id': tweet_line['id'],\n",
    "                               'retweet_count': tweet_line['retweet_count'],\n",
    "                               'favorite_count': tweet_line['favorite_count'],\n",
    "                               'followers_count': tweet_line['user']['followers_count']})\n",
    "\n",
    "# Create the twitter_api dataframe using tweet_list.\n",
    "df_twitter_api = pd.DataFrame(tweet_list, columns=[\n",
    "                              'tweet_id', 'retweet_count', 'favorite_count', 'followers_count'])"
   ]
  },
  {
   "cell_type": "markdown",
   "metadata": {
    "id": "INbUR6TeWhlI"
   },
   "source": [
    "Print the df_twitter_api dataframe using DataFrame.head()"
   ]
  },
  {
   "cell_type": "code",
   "execution_count": 16,
   "metadata": {
    "colab": {
     "base_uri": "https://localhost:8080/",
     "height": 206
    },
    "id": "ZdIXPC4cWkad",
    "outputId": "e9ca6e60-45f6-47cd-8e67-7d59ae911372"
   },
   "outputs": [
    {
     "data": {
      "text/html": [
       "\n",
       "  <div id=\"df-edeaa275-96a6-4346-8c5f-b0f6eaf6ca15\">\n",
       "    <div class=\"colab-df-container\">\n",
       "      <div>\n",
       "<style scoped>\n",
       "    .dataframe tbody tr th:only-of-type {\n",
       "        vertical-align: middle;\n",
       "    }\n",
       "\n",
       "    .dataframe tbody tr th {\n",
       "        vertical-align: top;\n",
       "    }\n",
       "\n",
       "    .dataframe thead th {\n",
       "        text-align: right;\n",
       "    }\n",
       "</style>\n",
       "<table border=\"1\" class=\"dataframe\">\n",
       "  <thead>\n",
       "    <tr style=\"text-align: right;\">\n",
       "      <th></th>\n",
       "      <th>tweet_id</th>\n",
       "      <th>retweet_count</th>\n",
       "      <th>favorite_count</th>\n",
       "      <th>followers_count</th>\n",
       "    </tr>\n",
       "  </thead>\n",
       "  <tbody>\n",
       "    <tr>\n",
       "      <th>0</th>\n",
       "      <td>892420643555336193</td>\n",
       "      <td>6955</td>\n",
       "      <td>33653</td>\n",
       "      <td>9372472</td>\n",
       "    </tr>\n",
       "    <tr>\n",
       "      <th>1</th>\n",
       "      <td>892177421306343426</td>\n",
       "      <td>5263</td>\n",
       "      <td>29183</td>\n",
       "      <td>9372472</td>\n",
       "    </tr>\n",
       "    <tr>\n",
       "      <th>2</th>\n",
       "      <td>891815181378084864</td>\n",
       "      <td>3463</td>\n",
       "      <td>21950</td>\n",
       "      <td>9372472</td>\n",
       "    </tr>\n",
       "    <tr>\n",
       "      <th>3</th>\n",
       "      <td>891689557279858688</td>\n",
       "      <td>7178</td>\n",
       "      <td>36726</td>\n",
       "      <td>9372472</td>\n",
       "    </tr>\n",
       "    <tr>\n",
       "      <th>4</th>\n",
       "      <td>891327558926688256</td>\n",
       "      <td>7706</td>\n",
       "      <td>35127</td>\n",
       "      <td>9372472</td>\n",
       "    </tr>\n",
       "  </tbody>\n",
       "</table>\n",
       "</div>\n",
       "      <button class=\"colab-df-convert\" onclick=\"convertToInteractive('df-edeaa275-96a6-4346-8c5f-b0f6eaf6ca15')\"\n",
       "              title=\"Convert this dataframe to an interactive table.\"\n",
       "              style=\"display:none;\">\n",
       "        \n",
       "  <svg xmlns=\"http://www.w3.org/2000/svg\" height=\"24px\"viewBox=\"0 0 24 24\"\n",
       "       width=\"24px\">\n",
       "    <path d=\"M0 0h24v24H0V0z\" fill=\"none\"/>\n",
       "    <path d=\"M18.56 5.44l.94 2.06.94-2.06 2.06-.94-2.06-.94-.94-2.06-.94 2.06-2.06.94zm-11 1L8.5 8.5l.94-2.06 2.06-.94-2.06-.94L8.5 2.5l-.94 2.06-2.06.94zm10 10l.94 2.06.94-2.06 2.06-.94-2.06-.94-.94-2.06-.94 2.06-2.06.94z\"/><path d=\"M17.41 7.96l-1.37-1.37c-.4-.4-.92-.59-1.43-.59-.52 0-1.04.2-1.43.59L10.3 9.45l-7.72 7.72c-.78.78-.78 2.05 0 2.83L4 21.41c.39.39.9.59 1.41.59.51 0 1.02-.2 1.41-.59l7.78-7.78 2.81-2.81c.8-.78.8-2.07 0-2.86zM5.41 20L4 18.59l7.72-7.72 1.47 1.35L5.41 20z\"/>\n",
       "  </svg>\n",
       "      </button>\n",
       "      \n",
       "  <style>\n",
       "    .colab-df-container {\n",
       "      display:flex;\n",
       "      flex-wrap:wrap;\n",
       "      gap: 12px;\n",
       "    }\n",
       "\n",
       "    .colab-df-convert {\n",
       "      background-color: #E8F0FE;\n",
       "      border: none;\n",
       "      border-radius: 50%;\n",
       "      cursor: pointer;\n",
       "      display: none;\n",
       "      fill: #1967D2;\n",
       "      height: 32px;\n",
       "      padding: 0 0 0 0;\n",
       "      width: 32px;\n",
       "    }\n",
       "\n",
       "    .colab-df-convert:hover {\n",
       "      background-color: #E2EBFA;\n",
       "      box-shadow: 0px 1px 2px rgba(60, 64, 67, 0.3), 0px 1px 3px 1px rgba(60, 64, 67, 0.15);\n",
       "      fill: #174EA6;\n",
       "    }\n",
       "\n",
       "    [theme=dark] .colab-df-convert {\n",
       "      background-color: #3B4455;\n",
       "      fill: #D2E3FC;\n",
       "    }\n",
       "\n",
       "    [theme=dark] .colab-df-convert:hover {\n",
       "      background-color: #434B5C;\n",
       "      box-shadow: 0px 1px 3px 1px rgba(0, 0, 0, 0.15);\n",
       "      filter: drop-shadow(0px 1px 2px rgba(0, 0, 0, 0.3));\n",
       "      fill: #FFFFFF;\n",
       "    }\n",
       "  </style>\n",
       "\n",
       "      <script>\n",
       "        const buttonEl =\n",
       "          document.querySelector('#df-edeaa275-96a6-4346-8c5f-b0f6eaf6ca15 button.colab-df-convert');\n",
       "        buttonEl.style.display =\n",
       "          google.colab.kernel.accessAllowed ? 'block' : 'none';\n",
       "\n",
       "        async function convertToInteractive(key) {\n",
       "          const element = document.querySelector('#df-edeaa275-96a6-4346-8c5f-b0f6eaf6ca15');\n",
       "          const dataTable =\n",
       "            await google.colab.kernel.invokeFunction('convertToInteractive',\n",
       "                                                     [key], {});\n",
       "          if (!dataTable) return;\n",
       "\n",
       "          const docLinkHtml = 'Like what you see? Visit the ' +\n",
       "            '<a target=\"_blank\" href=https://colab.research.google.com/notebooks/data_table.ipynb>data table notebook</a>'\n",
       "            + ' to learn more about interactive tables.';\n",
       "          element.innerHTML = '';\n",
       "          dataTable['output_type'] = 'display_data';\n",
       "          await google.colab.output.renderOutput(dataTable, element);\n",
       "          const docLink = document.createElement('div');\n",
       "          docLink.innerHTML = docLinkHtml;\n",
       "          element.appendChild(docLink);\n",
       "        }\n",
       "      </script>\n",
       "    </div>\n",
       "  </div>\n",
       "  "
      ],
      "text/plain": [
       "             tweet_id  retweet_count  favorite_count  followers_count\n",
       "0  892420643555336193           6955           33653          9372472\n",
       "1  892177421306343426           5263           29183          9372472\n",
       "2  891815181378084864           3463           21950          9372472\n",
       "3  891689557279858688           7178           36726          9372472\n",
       "4  891327558926688256           7706           35127          9372472"
      ]
     },
     "execution_count": 16,
     "metadata": {},
     "output_type": "execute_result"
    }
   ],
   "source": [
    "# Using DataFrame.head to print the first five rows of the dataframe.\n",
    "df_twitter_api.head()"
   ]
  },
  {
   "cell_type": "markdown",
   "metadata": {
    "id": "LTmIjHASQUF6"
   },
   "source": [
    "<a id=\"assess\"></a>\n",
    "# Step 2: Assessing Data"
   ]
  },
  {
   "cell_type": "markdown",
   "metadata": {
    "id": "NdhdBWFTXa07"
   },
   "source": [
    "### Assessing df_archive"
   ]
  },
  {
   "cell_type": "markdown",
   "metadata": {
    "id": "Iekh6R4XWK2b"
   },
   "source": [
    "Print a sample of the twitter-archieve sample using DataFrame.sample()"
   ]
  },
  {
   "cell_type": "code",
   "execution_count": 17,
   "metadata": {
    "colab": {
     "base_uri": "https://localhost:8080/",
     "height": 756
    },
    "id": "3dFHeBOfUq51",
    "outputId": "3808ad4c-e9f4-4520-a86a-1b165b76de59"
   },
   "outputs": [
    {
     "data": {
      "text/html": [
       "\n",
       "  <div id=\"df-09c8f920-af64-4505-b5ed-3d7e9da87c82\">\n",
       "    <div class=\"colab-df-container\">\n",
       "      <div>\n",
       "<style scoped>\n",
       "    .dataframe tbody tr th:only-of-type {\n",
       "        vertical-align: middle;\n",
       "    }\n",
       "\n",
       "    .dataframe tbody tr th {\n",
       "        vertical-align: top;\n",
       "    }\n",
       "\n",
       "    .dataframe thead th {\n",
       "        text-align: right;\n",
       "    }\n",
       "</style>\n",
       "<table border=\"1\" class=\"dataframe\">\n",
       "  <thead>\n",
       "    <tr style=\"text-align: right;\">\n",
       "      <th></th>\n",
       "      <th>tweet_id</th>\n",
       "      <th>in_reply_to_status_id</th>\n",
       "      <th>in_reply_to_user_id</th>\n",
       "      <th>timestamp</th>\n",
       "      <th>source</th>\n",
       "      <th>text</th>\n",
       "      <th>retweeted_status_id</th>\n",
       "      <th>retweeted_status_user_id</th>\n",
       "      <th>retweeted_status_timestamp</th>\n",
       "      <th>expanded_urls</th>\n",
       "      <th>rating_numerator</th>\n",
       "      <th>rating_denominator</th>\n",
       "      <th>name</th>\n",
       "      <th>doggo</th>\n",
       "      <th>floofer</th>\n",
       "      <th>pupper</th>\n",
       "      <th>puppo</th>\n",
       "    </tr>\n",
       "  </thead>\n",
       "  <tbody>\n",
       "    <tr>\n",
       "      <th>1984</th>\n",
       "      <td>672902681409806336</td>\n",
       "      <td>NaN</td>\n",
       "      <td>NaN</td>\n",
       "      <td>2015-12-04 22:17:55 +0000</td>\n",
       "      <td>&lt;a href=\"http://twitter.com/download/iphone\" r...</td>\n",
       "      <td>This is Jimison. He's stuck in a pot. Damn it ...</td>\n",
       "      <td>NaN</td>\n",
       "      <td>NaN</td>\n",
       "      <td>NaN</td>\n",
       "      <td>https://twitter.com/dog_rates/status/672902681...</td>\n",
       "      <td>9</td>\n",
       "      <td>10</td>\n",
       "      <td>Jimison</td>\n",
       "      <td>None</td>\n",
       "      <td>None</td>\n",
       "      <td>None</td>\n",
       "      <td>None</td>\n",
       "    </tr>\n",
       "    <tr>\n",
       "      <th>1453</th>\n",
       "      <td>695629776980148225</td>\n",
       "      <td>NaN</td>\n",
       "      <td>NaN</td>\n",
       "      <td>2016-02-05 15:27:17 +0000</td>\n",
       "      <td>&lt;a href=\"http://twitter.com/download/iphone\" r...</td>\n",
       "      <td>Meet Calvin. He's proof that degrees mean abso...</td>\n",
       "      <td>NaN</td>\n",
       "      <td>NaN</td>\n",
       "      <td>NaN</td>\n",
       "      <td>https://twitter.com/dog_rates/status/695629776...</td>\n",
       "      <td>8</td>\n",
       "      <td>10</td>\n",
       "      <td>Calvin</td>\n",
       "      <td>None</td>\n",
       "      <td>None</td>\n",
       "      <td>None</td>\n",
       "      <td>None</td>\n",
       "    </tr>\n",
       "    <tr>\n",
       "      <th>441</th>\n",
       "      <td>819711362133872643</td>\n",
       "      <td>NaN</td>\n",
       "      <td>NaN</td>\n",
       "      <td>2017-01-13 01:03:12 +0000</td>\n",
       "      <td>&lt;a href=\"http://twitter.com/download/iphone\" r...</td>\n",
       "      <td>This is Howie. He just bloomed. 11/10 revoluti...</td>\n",
       "      <td>NaN</td>\n",
       "      <td>NaN</td>\n",
       "      <td>NaN</td>\n",
       "      <td>https://twitter.com/dog_rates/status/819711362...</td>\n",
       "      <td>11</td>\n",
       "      <td>10</td>\n",
       "      <td>Howie</td>\n",
       "      <td>None</td>\n",
       "      <td>None</td>\n",
       "      <td>None</td>\n",
       "      <td>None</td>\n",
       "    </tr>\n",
       "    <tr>\n",
       "      <th>1138</th>\n",
       "      <td>728035342121635841</td>\n",
       "      <td>NaN</td>\n",
       "      <td>NaN</td>\n",
       "      <td>2016-05-05 01:35:26 +0000</td>\n",
       "      <td>&lt;a href=\"http://twitter.com/download/iphone\" r...</td>\n",
       "      <td>This is all I want in my life. 12/10 for super...</td>\n",
       "      <td>NaN</td>\n",
       "      <td>NaN</td>\n",
       "      <td>NaN</td>\n",
       "      <td>https://twitter.com/dog_rates/status/728035342...</td>\n",
       "      <td>12</td>\n",
       "      <td>10</td>\n",
       "      <td>all</td>\n",
       "      <td>None</td>\n",
       "      <td>None</td>\n",
       "      <td>pupper</td>\n",
       "      <td>None</td>\n",
       "    </tr>\n",
       "    <tr>\n",
       "      <th>1351</th>\n",
       "      <td>704054845121142784</td>\n",
       "      <td>NaN</td>\n",
       "      <td>NaN</td>\n",
       "      <td>2016-02-28 21:25:30 +0000</td>\n",
       "      <td>&lt;a href=\"http://twitter.com/download/iphone\" r...</td>\n",
       "      <td>Here is a whole flock of puppers.  60/50 I'll ...</td>\n",
       "      <td>NaN</td>\n",
       "      <td>NaN</td>\n",
       "      <td>NaN</td>\n",
       "      <td>https://twitter.com/dog_rates/status/704054845...</td>\n",
       "      <td>60</td>\n",
       "      <td>50</td>\n",
       "      <td>a</td>\n",
       "      <td>None</td>\n",
       "      <td>None</td>\n",
       "      <td>None</td>\n",
       "      <td>None</td>\n",
       "    </tr>\n",
       "  </tbody>\n",
       "</table>\n",
       "</div>\n",
       "      <button class=\"colab-df-convert\" onclick=\"convertToInteractive('df-09c8f920-af64-4505-b5ed-3d7e9da87c82')\"\n",
       "              title=\"Convert this dataframe to an interactive table.\"\n",
       "              style=\"display:none;\">\n",
       "        \n",
       "  <svg xmlns=\"http://www.w3.org/2000/svg\" height=\"24px\"viewBox=\"0 0 24 24\"\n",
       "       width=\"24px\">\n",
       "    <path d=\"M0 0h24v24H0V0z\" fill=\"none\"/>\n",
       "    <path d=\"M18.56 5.44l.94 2.06.94-2.06 2.06-.94-2.06-.94-.94-2.06-.94 2.06-2.06.94zm-11 1L8.5 8.5l.94-2.06 2.06-.94-2.06-.94L8.5 2.5l-.94 2.06-2.06.94zm10 10l.94 2.06.94-2.06 2.06-.94-2.06-.94-.94-2.06-.94 2.06-2.06.94z\"/><path d=\"M17.41 7.96l-1.37-1.37c-.4-.4-.92-.59-1.43-.59-.52 0-1.04.2-1.43.59L10.3 9.45l-7.72 7.72c-.78.78-.78 2.05 0 2.83L4 21.41c.39.39.9.59 1.41.59.51 0 1.02-.2 1.41-.59l7.78-7.78 2.81-2.81c.8-.78.8-2.07 0-2.86zM5.41 20L4 18.59l7.72-7.72 1.47 1.35L5.41 20z\"/>\n",
       "  </svg>\n",
       "      </button>\n",
       "      \n",
       "  <style>\n",
       "    .colab-df-container {\n",
       "      display:flex;\n",
       "      flex-wrap:wrap;\n",
       "      gap: 12px;\n",
       "    }\n",
       "\n",
       "    .colab-df-convert {\n",
       "      background-color: #E8F0FE;\n",
       "      border: none;\n",
       "      border-radius: 50%;\n",
       "      cursor: pointer;\n",
       "      display: none;\n",
       "      fill: #1967D2;\n",
       "      height: 32px;\n",
       "      padding: 0 0 0 0;\n",
       "      width: 32px;\n",
       "    }\n",
       "\n",
       "    .colab-df-convert:hover {\n",
       "      background-color: #E2EBFA;\n",
       "      box-shadow: 0px 1px 2px rgba(60, 64, 67, 0.3), 0px 1px 3px 1px rgba(60, 64, 67, 0.15);\n",
       "      fill: #174EA6;\n",
       "    }\n",
       "\n",
       "    [theme=dark] .colab-df-convert {\n",
       "      background-color: #3B4455;\n",
       "      fill: #D2E3FC;\n",
       "    }\n",
       "\n",
       "    [theme=dark] .colab-df-convert:hover {\n",
       "      background-color: #434B5C;\n",
       "      box-shadow: 0px 1px 3px 1px rgba(0, 0, 0, 0.15);\n",
       "      filter: drop-shadow(0px 1px 2px rgba(0, 0, 0, 0.3));\n",
       "      fill: #FFFFFF;\n",
       "    }\n",
       "  </style>\n",
       "\n",
       "      <script>\n",
       "        const buttonEl =\n",
       "          document.querySelector('#df-09c8f920-af64-4505-b5ed-3d7e9da87c82 button.colab-df-convert');\n",
       "        buttonEl.style.display =\n",
       "          google.colab.kernel.accessAllowed ? 'block' : 'none';\n",
       "\n",
       "        async function convertToInteractive(key) {\n",
       "          const element = document.querySelector('#df-09c8f920-af64-4505-b5ed-3d7e9da87c82');\n",
       "          const dataTable =\n",
       "            await google.colab.kernel.invokeFunction('convertToInteractive',\n",
       "                                                     [key], {});\n",
       "          if (!dataTable) return;\n",
       "\n",
       "          const docLinkHtml = 'Like what you see? Visit the ' +\n",
       "            '<a target=\"_blank\" href=https://colab.research.google.com/notebooks/data_table.ipynb>data table notebook</a>'\n",
       "            + ' to learn more about interactive tables.';\n",
       "          element.innerHTML = '';\n",
       "          dataTable['output_type'] = 'display_data';\n",
       "          await google.colab.output.renderOutput(dataTable, element);\n",
       "          const docLink = document.createElement('div');\n",
       "          docLink.innerHTML = docLinkHtml;\n",
       "          element.appendChild(docLink);\n",
       "        }\n",
       "      </script>\n",
       "    </div>\n",
       "  </div>\n",
       "  "
      ],
      "text/plain": [
       "                tweet_id  in_reply_to_status_id  in_reply_to_user_id  \\\n",
       "1984  672902681409806336                    NaN                  NaN   \n",
       "1453  695629776980148225                    NaN                  NaN   \n",
       "441   819711362133872643                    NaN                  NaN   \n",
       "1138  728035342121635841                    NaN                  NaN   \n",
       "1351  704054845121142784                    NaN                  NaN   \n",
       "\n",
       "                      timestamp  \\\n",
       "1984  2015-12-04 22:17:55 +0000   \n",
       "1453  2016-02-05 15:27:17 +0000   \n",
       "441   2017-01-13 01:03:12 +0000   \n",
       "1138  2016-05-05 01:35:26 +0000   \n",
       "1351  2016-02-28 21:25:30 +0000   \n",
       "\n",
       "                                                 source  \\\n",
       "1984  <a href=\"http://twitter.com/download/iphone\" r...   \n",
       "1453  <a href=\"http://twitter.com/download/iphone\" r...   \n",
       "441   <a href=\"http://twitter.com/download/iphone\" r...   \n",
       "1138  <a href=\"http://twitter.com/download/iphone\" r...   \n",
       "1351  <a href=\"http://twitter.com/download/iphone\" r...   \n",
       "\n",
       "                                                   text  retweeted_status_id  \\\n",
       "1984  This is Jimison. He's stuck in a pot. Damn it ...                  NaN   \n",
       "1453  Meet Calvin. He's proof that degrees mean abso...                  NaN   \n",
       "441   This is Howie. He just bloomed. 11/10 revoluti...                  NaN   \n",
       "1138  This is all I want in my life. 12/10 for super...                  NaN   \n",
       "1351  Here is a whole flock of puppers.  60/50 I'll ...                  NaN   \n",
       "\n",
       "      retweeted_status_user_id retweeted_status_timestamp  \\\n",
       "1984                       NaN                        NaN   \n",
       "1453                       NaN                        NaN   \n",
       "441                        NaN                        NaN   \n",
       "1138                       NaN                        NaN   \n",
       "1351                       NaN                        NaN   \n",
       "\n",
       "                                          expanded_urls  rating_numerator  \\\n",
       "1984  https://twitter.com/dog_rates/status/672902681...                 9   \n",
       "1453  https://twitter.com/dog_rates/status/695629776...                 8   \n",
       "441   https://twitter.com/dog_rates/status/819711362...                11   \n",
       "1138  https://twitter.com/dog_rates/status/728035342...                12   \n",
       "1351  https://twitter.com/dog_rates/status/704054845...                60   \n",
       "\n",
       "      rating_denominator     name doggo floofer  pupper puppo  \n",
       "1984                  10  Jimison  None    None    None  None  \n",
       "1453                  10   Calvin  None    None    None  None  \n",
       "441                   10    Howie  None    None    None  None  \n",
       "1138                  10      all  None    None  pupper  None  \n",
       "1351                  50        a  None    None    None  None  "
      ]
     },
     "execution_count": 17,
     "metadata": {},
     "output_type": "execute_result"
    }
   ],
   "source": [
    "# Show a sample of the twitter-archieve sample using DataFrame.sample\n",
    "# 5 is the number of items you want the sample size to be\n",
    "df_archive.sample(5)"
   ]
  },
  {
   "cell_type": "markdown",
   "metadata": {
    "id": "W2AjNGaMWK2c"
   },
   "source": [
    "Print a concise summary of the df_archive DatFrame using DataFrame.info()"
   ]
  },
  {
   "cell_type": "code",
   "execution_count": 18,
   "metadata": {
    "colab": {
     "base_uri": "https://localhost:8080/"
    },
    "id": "CyGGQFpGWK2c",
    "outputId": "cc4975f8-1c5a-4751-917d-70af4978daf9"
   },
   "outputs": [
    {
     "name": "stdout",
     "output_type": "stream",
     "text": [
      "<class 'pandas.core.frame.DataFrame'>\n",
      "RangeIndex: 2356 entries, 0 to 2355\n",
      "Data columns (total 17 columns):\n",
      " #   Column                      Non-Null Count  Dtype  \n",
      "---  ------                      --------------  -----  \n",
      " 0   tweet_id                    2356 non-null   int64  \n",
      " 1   in_reply_to_status_id       78 non-null     float64\n",
      " 2   in_reply_to_user_id         78 non-null     float64\n",
      " 3   timestamp                   2356 non-null   object \n",
      " 4   source                      2356 non-null   object \n",
      " 5   text                        2356 non-null   object \n",
      " 6   retweeted_status_id         181 non-null    float64\n",
      " 7   retweeted_status_user_id    181 non-null    float64\n",
      " 8   retweeted_status_timestamp  181 non-null    object \n",
      " 9   expanded_urls               2297 non-null   object \n",
      " 10  rating_numerator            2356 non-null   int64  \n",
      " 11  rating_denominator          2356 non-null   int64  \n",
      " 12  name                        2356 non-null   object \n",
      " 13  doggo                       2356 non-null   object \n",
      " 14  floofer                     2356 non-null   object \n",
      " 15  pupper                      2356 non-null   object \n",
      " 16  puppo                       2356 non-null   object \n",
      "dtypes: float64(4), int64(3), object(10)\n",
      "memory usage: 313.0+ KB\n"
     ]
    }
   ],
   "source": [
    "df_archive.info()"
   ]
  },
  {
   "cell_type": "markdown",
   "metadata": {
    "id": "Yv9LKgIVXGTq"
   },
   "source": [
    "The 'twitter-archive-enhanced.csv' DataFrame has 2356 rows and 17 columns."
   ]
  },
  {
   "cell_type": "code",
   "execution_count": 19,
   "metadata": {
    "colab": {
     "base_uri": "https://localhost:8080/"
    },
    "id": "J0_leNe6vhL9",
    "outputId": "669105c1-4947-4947-b4d6-1808115443c1"
   },
   "outputs": [
    {
     "data": {
      "text/plain": [
       "None       745\n",
       "a           55\n",
       "Charlie     12\n",
       "Cooper      11\n",
       "Lucy        11\n",
       "Oliver      11\n",
       "Tucker      10\n",
       "Penny       10\n",
       "Lola        10\n",
       "Winston      9\n",
       "Bo           9\n",
       "Sadie        8\n",
       "the          8\n",
       "Daisy        7\n",
       "Buddy        7\n",
       "Toby         7\n",
       "an           7\n",
       "Bailey       7\n",
       "Leo          6\n",
       "Oscar        6\n",
       "Stanley      6\n",
       "Rusty        6\n",
       "Bella        6\n",
       "Dave         6\n",
       "Jack         6\n",
       "Name: name, dtype: int64"
      ]
     },
     "execution_count": 19,
     "metadata": {},
     "output_type": "execute_result"
    }
   ],
   "source": [
    "df_archive.name.value_counts().head(25)"
   ]
  },
  {
   "cell_type": "markdown",
   "metadata": {
    "id": "84gU7UqpcfHU"
   },
   "source": [
    "All dogs mans start with a capital letters and this column contains some name with lower case and are even incorrect names."
   ]
  },
  {
   "cell_type": "code",
   "execution_count": 20,
   "metadata": {
    "colab": {
     "base_uri": "https://localhost:8080/"
    },
    "id": "ZJbmWLRpOJ4H",
    "outputId": "5267f831-cfd6-4d99-a782-2347068077e3"
   },
   "outputs": [
    {
     "data": {
      "text/plain": [
       "22       such\n",
       "56          a\n",
       "118     quite\n",
       "169     quite\n",
       "193     quite\n",
       "        ...  \n",
       "2349       an\n",
       "2350        a\n",
       "2352        a\n",
       "2353        a\n",
       "2354        a\n",
       "Name: name, Length: 109, dtype: object"
      ]
     },
     "execution_count": 20,
     "metadata": {},
     "output_type": "execute_result"
    }
   ],
   "source": [
    "df_archive.name.loc[df_archive.name.str.islower()]"
   ]
  },
  {
   "cell_type": "markdown",
   "metadata": {
    "id": "IkVWJXTbdUWM"
   },
   "source": [
    "The name column contains two tweet with dog names that went captured. The dog names are Loki and Bretagne."
   ]
  },
  {
   "cell_type": "code",
   "execution_count": 21,
   "metadata": {
    "colab": {
     "base_uri": "https://localhost:8080/"
    },
    "id": "N0K2N_fmdJ0O",
    "outputId": "9ab4b8a0-c73d-43eb-b68c-2b3dacb3423c"
   },
   "outputs": [
    {
     "data": {
      "text/plain": [
       "758     RIP Loki. Thank you for the good times. You wi...\n",
       "1068    After so many requests, this is Bretagne. She ...\n",
       "Name: text, dtype: object"
      ]
     },
     "execution_count": 21,
     "metadata": {},
     "output_type": "execute_result"
    }
   ],
   "source": [
    "df_archive.query(\"tweet_id==778408200802557953 | tweet_id==740373189193256964\")['text']"
   ]
  },
  {
   "cell_type": "markdown",
   "metadata": {
    "id": "xdLEvvzwfIN5"
   },
   "source": [
    "The a decimal numerator wasn't captured correctly."
   ]
  },
  {
   "cell_type": "code",
   "execution_count": 22,
   "metadata": {
    "colab": {
     "base_uri": "https://localhost:8080/"
    },
    "id": "bADjhigsd96s",
    "outputId": "0cfc1f74-0de5-42b4-ae8d-4b8b2e89b6ab"
   },
   "outputs": [
    {
     "data": {
      "text/plain": [
       "695    This is Logan, the Chow who lived. He solemnly...\n",
       "Name: text, dtype: object"
      ]
     },
     "execution_count": 22,
     "metadata": {},
     "output_type": "execute_result"
    }
   ],
   "source": [
    "df_archive.query(\"tweet_id==786709082849828864\")['text']"
   ]
  },
  {
   "cell_type": "markdown",
   "metadata": {
    "id": "EgH4A1-ujmNW"
   },
   "source": [
    "The source column contect is formatted wrong as HTML tags."
   ]
  },
  {
   "cell_type": "code",
   "execution_count": 23,
   "metadata": {
    "colab": {
     "base_uri": "https://localhost:8080/"
    },
    "id": "pN5WxHaTjmNW",
    "outputId": "3db66777-6a1b-4558-d881-7463ae621a7a"
   },
   "outputs": [
    {
     "data": {
      "text/plain": [
       "0    <a href=\"http://twitter.com/download/iphone\" r...\n",
       "1    <a href=\"http://twitter.com/download/iphone\" r...\n",
       "2    <a href=\"http://twitter.com/download/iphone\" r...\n",
       "3    <a href=\"http://twitter.com/download/iphone\" r...\n",
       "4    <a href=\"http://twitter.com/download/iphone\" r...\n",
       "5    <a href=\"http://twitter.com/download/iphone\" r...\n",
       "6    <a href=\"http://twitter.com/download/iphone\" r...\n",
       "7    <a href=\"http://twitter.com/download/iphone\" r...\n",
       "8    <a href=\"http://twitter.com/download/iphone\" r...\n",
       "9    <a href=\"http://twitter.com/download/iphone\" r...\n",
       "Name: source, dtype: object"
      ]
     },
     "execution_count": 23,
     "metadata": {},
     "output_type": "execute_result"
    }
   ],
   "source": [
    "df_archive.source.head(10)"
   ]
  },
  {
   "cell_type": "markdown",
   "metadata": {
    "id": "mAmFdg0-XqU2"
   },
   "source": [
    "## Assessing df_predictions"
   ]
  },
  {
   "cell_type": "markdown",
   "metadata": {
    "id": "4M_pgR6SWK2d"
   },
   "source": [
    "Print the 'image-predictions.tsv' dataframe using DataFrame.head()"
   ]
  },
  {
   "cell_type": "code",
   "execution_count": 24,
   "metadata": {
    "colab": {
     "base_uri": "https://localhost:8080/",
     "height": 363
    },
    "id": "c08_BHyQwGtP",
    "outputId": "09af2cf5-7cea-438a-bc78-3fd2a64085d0"
   },
   "outputs": [
    {
     "data": {
      "text/html": [
       "\n",
       "  <div id=\"df-e3ebc4dc-57c6-4926-89d4-2b166092c216\">\n",
       "    <div class=\"colab-df-container\">\n",
       "      <div>\n",
       "<style scoped>\n",
       "    .dataframe tbody tr th:only-of-type {\n",
       "        vertical-align: middle;\n",
       "    }\n",
       "\n",
       "    .dataframe tbody tr th {\n",
       "        vertical-align: top;\n",
       "    }\n",
       "\n",
       "    .dataframe thead th {\n",
       "        text-align: right;\n",
       "    }\n",
       "</style>\n",
       "<table border=\"1\" class=\"dataframe\">\n",
       "  <thead>\n",
       "    <tr style=\"text-align: right;\">\n",
       "      <th></th>\n",
       "      <th>tweet_id</th>\n",
       "      <th>jpg_url</th>\n",
       "      <th>img_num</th>\n",
       "      <th>p1</th>\n",
       "      <th>p1_conf</th>\n",
       "      <th>p1_dog</th>\n",
       "      <th>p2</th>\n",
       "      <th>p2_conf</th>\n",
       "      <th>p2_dog</th>\n",
       "      <th>p3</th>\n",
       "      <th>p3_conf</th>\n",
       "      <th>p3_dog</th>\n",
       "    </tr>\n",
       "  </thead>\n",
       "  <tbody>\n",
       "    <tr>\n",
       "      <th>0</th>\n",
       "      <td>666020888022790149</td>\n",
       "      <td>https://pbs.twimg.com/media/CT4udn0WwAA0aMy.jpg</td>\n",
       "      <td>1</td>\n",
       "      <td>Welsh_springer_spaniel</td>\n",
       "      <td>0.465074</td>\n",
       "      <td>True</td>\n",
       "      <td>collie</td>\n",
       "      <td>0.156665</td>\n",
       "      <td>True</td>\n",
       "      <td>Shetland_sheepdog</td>\n",
       "      <td>0.061428</td>\n",
       "      <td>True</td>\n",
       "    </tr>\n",
       "    <tr>\n",
       "      <th>1</th>\n",
       "      <td>666029285002620928</td>\n",
       "      <td>https://pbs.twimg.com/media/CT42GRgUYAA5iDo.jpg</td>\n",
       "      <td>1</td>\n",
       "      <td>redbone</td>\n",
       "      <td>0.506826</td>\n",
       "      <td>True</td>\n",
       "      <td>miniature_pinscher</td>\n",
       "      <td>0.074192</td>\n",
       "      <td>True</td>\n",
       "      <td>Rhodesian_ridgeback</td>\n",
       "      <td>0.072010</td>\n",
       "      <td>True</td>\n",
       "    </tr>\n",
       "    <tr>\n",
       "      <th>2</th>\n",
       "      <td>666033412701032449</td>\n",
       "      <td>https://pbs.twimg.com/media/CT4521TWwAEvMyu.jpg</td>\n",
       "      <td>1</td>\n",
       "      <td>German_shepherd</td>\n",
       "      <td>0.596461</td>\n",
       "      <td>True</td>\n",
       "      <td>malinois</td>\n",
       "      <td>0.138584</td>\n",
       "      <td>True</td>\n",
       "      <td>bloodhound</td>\n",
       "      <td>0.116197</td>\n",
       "      <td>True</td>\n",
       "    </tr>\n",
       "    <tr>\n",
       "      <th>3</th>\n",
       "      <td>666044226329800704</td>\n",
       "      <td>https://pbs.twimg.com/media/CT5Dr8HUEAA-lEu.jpg</td>\n",
       "      <td>1</td>\n",
       "      <td>Rhodesian_ridgeback</td>\n",
       "      <td>0.408143</td>\n",
       "      <td>True</td>\n",
       "      <td>redbone</td>\n",
       "      <td>0.360687</td>\n",
       "      <td>True</td>\n",
       "      <td>miniature_pinscher</td>\n",
       "      <td>0.222752</td>\n",
       "      <td>True</td>\n",
       "    </tr>\n",
       "    <tr>\n",
       "      <th>4</th>\n",
       "      <td>666049248165822465</td>\n",
       "      <td>https://pbs.twimg.com/media/CT5IQmsXIAAKY4A.jpg</td>\n",
       "      <td>1</td>\n",
       "      <td>miniature_pinscher</td>\n",
       "      <td>0.560311</td>\n",
       "      <td>True</td>\n",
       "      <td>Rottweiler</td>\n",
       "      <td>0.243682</td>\n",
       "      <td>True</td>\n",
       "      <td>Doberman</td>\n",
       "      <td>0.154629</td>\n",
       "      <td>True</td>\n",
       "    </tr>\n",
       "    <tr>\n",
       "      <th>5</th>\n",
       "      <td>666050758794694657</td>\n",
       "      <td>https://pbs.twimg.com/media/CT5Jof1WUAEuVxN.jpg</td>\n",
       "      <td>1</td>\n",
       "      <td>Bernese_mountain_dog</td>\n",
       "      <td>0.651137</td>\n",
       "      <td>True</td>\n",
       "      <td>English_springer</td>\n",
       "      <td>0.263788</td>\n",
       "      <td>True</td>\n",
       "      <td>Greater_Swiss_Mountain_dog</td>\n",
       "      <td>0.016199</td>\n",
       "      <td>True</td>\n",
       "    </tr>\n",
       "    <tr>\n",
       "      <th>6</th>\n",
       "      <td>666051853826850816</td>\n",
       "      <td>https://pbs.twimg.com/media/CT5KoJ1WoAAJash.jpg</td>\n",
       "      <td>1</td>\n",
       "      <td>box_turtle</td>\n",
       "      <td>0.933012</td>\n",
       "      <td>False</td>\n",
       "      <td>mud_turtle</td>\n",
       "      <td>0.045885</td>\n",
       "      <td>False</td>\n",
       "      <td>terrapin</td>\n",
       "      <td>0.017885</td>\n",
       "      <td>False</td>\n",
       "    </tr>\n",
       "    <tr>\n",
       "      <th>7</th>\n",
       "      <td>666055525042405380</td>\n",
       "      <td>https://pbs.twimg.com/media/CT5N9tpXIAAifs1.jpg</td>\n",
       "      <td>1</td>\n",
       "      <td>chow</td>\n",
       "      <td>0.692517</td>\n",
       "      <td>True</td>\n",
       "      <td>Tibetan_mastiff</td>\n",
       "      <td>0.058279</td>\n",
       "      <td>True</td>\n",
       "      <td>fur_coat</td>\n",
       "      <td>0.054449</td>\n",
       "      <td>False</td>\n",
       "    </tr>\n",
       "    <tr>\n",
       "      <th>8</th>\n",
       "      <td>666057090499244032</td>\n",
       "      <td>https://pbs.twimg.com/media/CT5PY90WoAAQGLo.jpg</td>\n",
       "      <td>1</td>\n",
       "      <td>shopping_cart</td>\n",
       "      <td>0.962465</td>\n",
       "      <td>False</td>\n",
       "      <td>shopping_basket</td>\n",
       "      <td>0.014594</td>\n",
       "      <td>False</td>\n",
       "      <td>golden_retriever</td>\n",
       "      <td>0.007959</td>\n",
       "      <td>True</td>\n",
       "    </tr>\n",
       "    <tr>\n",
       "      <th>9</th>\n",
       "      <td>666058600524156928</td>\n",
       "      <td>https://pbs.twimg.com/media/CT5Qw94XAAA_2dP.jpg</td>\n",
       "      <td>1</td>\n",
       "      <td>miniature_poodle</td>\n",
       "      <td>0.201493</td>\n",
       "      <td>True</td>\n",
       "      <td>komondor</td>\n",
       "      <td>0.192305</td>\n",
       "      <td>True</td>\n",
       "      <td>soft-coated_wheaten_terrier</td>\n",
       "      <td>0.082086</td>\n",
       "      <td>True</td>\n",
       "    </tr>\n",
       "  </tbody>\n",
       "</table>\n",
       "</div>\n",
       "      <button class=\"colab-df-convert\" onclick=\"convertToInteractive('df-e3ebc4dc-57c6-4926-89d4-2b166092c216')\"\n",
       "              title=\"Convert this dataframe to an interactive table.\"\n",
       "              style=\"display:none;\">\n",
       "        \n",
       "  <svg xmlns=\"http://www.w3.org/2000/svg\" height=\"24px\"viewBox=\"0 0 24 24\"\n",
       "       width=\"24px\">\n",
       "    <path d=\"M0 0h24v24H0V0z\" fill=\"none\"/>\n",
       "    <path d=\"M18.56 5.44l.94 2.06.94-2.06 2.06-.94-2.06-.94-.94-2.06-.94 2.06-2.06.94zm-11 1L8.5 8.5l.94-2.06 2.06-.94-2.06-.94L8.5 2.5l-.94 2.06-2.06.94zm10 10l.94 2.06.94-2.06 2.06-.94-2.06-.94-.94-2.06-.94 2.06-2.06.94z\"/><path d=\"M17.41 7.96l-1.37-1.37c-.4-.4-.92-.59-1.43-.59-.52 0-1.04.2-1.43.59L10.3 9.45l-7.72 7.72c-.78.78-.78 2.05 0 2.83L4 21.41c.39.39.9.59 1.41.59.51 0 1.02-.2 1.41-.59l7.78-7.78 2.81-2.81c.8-.78.8-2.07 0-2.86zM5.41 20L4 18.59l7.72-7.72 1.47 1.35L5.41 20z\"/>\n",
       "  </svg>\n",
       "      </button>\n",
       "      \n",
       "  <style>\n",
       "    .colab-df-container {\n",
       "      display:flex;\n",
       "      flex-wrap:wrap;\n",
       "      gap: 12px;\n",
       "    }\n",
       "\n",
       "    .colab-df-convert {\n",
       "      background-color: #E8F0FE;\n",
       "      border: none;\n",
       "      border-radius: 50%;\n",
       "      cursor: pointer;\n",
       "      display: none;\n",
       "      fill: #1967D2;\n",
       "      height: 32px;\n",
       "      padding: 0 0 0 0;\n",
       "      width: 32px;\n",
       "    }\n",
       "\n",
       "    .colab-df-convert:hover {\n",
       "      background-color: #E2EBFA;\n",
       "      box-shadow: 0px 1px 2px rgba(60, 64, 67, 0.3), 0px 1px 3px 1px rgba(60, 64, 67, 0.15);\n",
       "      fill: #174EA6;\n",
       "    }\n",
       "\n",
       "    [theme=dark] .colab-df-convert {\n",
       "      background-color: #3B4455;\n",
       "      fill: #D2E3FC;\n",
       "    }\n",
       "\n",
       "    [theme=dark] .colab-df-convert:hover {\n",
       "      background-color: #434B5C;\n",
       "      box-shadow: 0px 1px 3px 1px rgba(0, 0, 0, 0.15);\n",
       "      filter: drop-shadow(0px 1px 2px rgba(0, 0, 0, 0.3));\n",
       "      fill: #FFFFFF;\n",
       "    }\n",
       "  </style>\n",
       "\n",
       "      <script>\n",
       "        const buttonEl =\n",
       "          document.querySelector('#df-e3ebc4dc-57c6-4926-89d4-2b166092c216 button.colab-df-convert');\n",
       "        buttonEl.style.display =\n",
       "          google.colab.kernel.accessAllowed ? 'block' : 'none';\n",
       "\n",
       "        async function convertToInteractive(key) {\n",
       "          const element = document.querySelector('#df-e3ebc4dc-57c6-4926-89d4-2b166092c216');\n",
       "          const dataTable =\n",
       "            await google.colab.kernel.invokeFunction('convertToInteractive',\n",
       "                                                     [key], {});\n",
       "          if (!dataTable) return;\n",
       "\n",
       "          const docLinkHtml = 'Like what you see? Visit the ' +\n",
       "            '<a target=\"_blank\" href=https://colab.research.google.com/notebooks/data_table.ipynb>data table notebook</a>'\n",
       "            + ' to learn more about interactive tables.';\n",
       "          element.innerHTML = '';\n",
       "          dataTable['output_type'] = 'display_data';\n",
       "          await google.colab.output.renderOutput(dataTable, element);\n",
       "          const docLink = document.createElement('div');\n",
       "          docLink.innerHTML = docLinkHtml;\n",
       "          element.appendChild(docLink);\n",
       "        }\n",
       "      </script>\n",
       "    </div>\n",
       "  </div>\n",
       "  "
      ],
      "text/plain": [
       "             tweet_id                                          jpg_url  \\\n",
       "0  666020888022790149  https://pbs.twimg.com/media/CT4udn0WwAA0aMy.jpg   \n",
       "1  666029285002620928  https://pbs.twimg.com/media/CT42GRgUYAA5iDo.jpg   \n",
       "2  666033412701032449  https://pbs.twimg.com/media/CT4521TWwAEvMyu.jpg   \n",
       "3  666044226329800704  https://pbs.twimg.com/media/CT5Dr8HUEAA-lEu.jpg   \n",
       "4  666049248165822465  https://pbs.twimg.com/media/CT5IQmsXIAAKY4A.jpg   \n",
       "5  666050758794694657  https://pbs.twimg.com/media/CT5Jof1WUAEuVxN.jpg   \n",
       "6  666051853826850816  https://pbs.twimg.com/media/CT5KoJ1WoAAJash.jpg   \n",
       "7  666055525042405380  https://pbs.twimg.com/media/CT5N9tpXIAAifs1.jpg   \n",
       "8  666057090499244032  https://pbs.twimg.com/media/CT5PY90WoAAQGLo.jpg   \n",
       "9  666058600524156928  https://pbs.twimg.com/media/CT5Qw94XAAA_2dP.jpg   \n",
       "\n",
       "   img_num                      p1   p1_conf  p1_dog                  p2  \\\n",
       "0        1  Welsh_springer_spaniel  0.465074    True              collie   \n",
       "1        1                 redbone  0.506826    True  miniature_pinscher   \n",
       "2        1         German_shepherd  0.596461    True            malinois   \n",
       "3        1     Rhodesian_ridgeback  0.408143    True             redbone   \n",
       "4        1      miniature_pinscher  0.560311    True          Rottweiler   \n",
       "5        1    Bernese_mountain_dog  0.651137    True    English_springer   \n",
       "6        1              box_turtle  0.933012   False          mud_turtle   \n",
       "7        1                    chow  0.692517    True     Tibetan_mastiff   \n",
       "8        1           shopping_cart  0.962465   False     shopping_basket   \n",
       "9        1        miniature_poodle  0.201493    True            komondor   \n",
       "\n",
       "    p2_conf  p2_dog                           p3   p3_conf  p3_dog  \n",
       "0  0.156665    True            Shetland_sheepdog  0.061428    True  \n",
       "1  0.074192    True          Rhodesian_ridgeback  0.072010    True  \n",
       "2  0.138584    True                   bloodhound  0.116197    True  \n",
       "3  0.360687    True           miniature_pinscher  0.222752    True  \n",
       "4  0.243682    True                     Doberman  0.154629    True  \n",
       "5  0.263788    True   Greater_Swiss_Mountain_dog  0.016199    True  \n",
       "6  0.045885   False                     terrapin  0.017885   False  \n",
       "7  0.058279    True                     fur_coat  0.054449   False  \n",
       "8  0.014594   False             golden_retriever  0.007959    True  \n",
       "9  0.192305    True  soft-coated_wheaten_terrier  0.082086    True  "
      ]
     },
     "execution_count": 24,
     "metadata": {},
     "output_type": "execute_result"
    }
   ],
   "source": [
    "# Using DataFrame.head to print the first five rows of the dataframe.\n",
    "df_predictions.head(10)"
   ]
  },
  {
   "cell_type": "markdown",
   "metadata": {
    "id": "bYrpeAzsWK2d"
   },
   "source": [
    "Print a concise summary of the df_predictions DatFrame using DataFrame.info()"
   ]
  },
  {
   "cell_type": "code",
   "execution_count": 25,
   "metadata": {
    "colab": {
     "base_uri": "https://localhost:8080/",
     "height": 363
    },
    "id": "qy4gjOCEjmNX",
    "outputId": "337823c3-a8ee-462c-a249-fd93f61c52e3"
   },
   "outputs": [
    {
     "data": {
      "text/html": [
       "\n",
       "  <div id=\"df-7e7e961c-e471-4d14-b9bb-2e1268319bf0\">\n",
       "    <div class=\"colab-df-container\">\n",
       "      <div>\n",
       "<style scoped>\n",
       "    .dataframe tbody tr th:only-of-type {\n",
       "        vertical-align: middle;\n",
       "    }\n",
       "\n",
       "    .dataframe tbody tr th {\n",
       "        vertical-align: top;\n",
       "    }\n",
       "\n",
       "    .dataframe thead th {\n",
       "        text-align: right;\n",
       "    }\n",
       "</style>\n",
       "<table border=\"1\" class=\"dataframe\">\n",
       "  <thead>\n",
       "    <tr style=\"text-align: right;\">\n",
       "      <th></th>\n",
       "      <th>p1</th>\n",
       "      <th>p2</th>\n",
       "      <th>p3</th>\n",
       "    </tr>\n",
       "  </thead>\n",
       "  <tbody>\n",
       "    <tr>\n",
       "      <th>0</th>\n",
       "      <td>Welsh_springer_spaniel</td>\n",
       "      <td>collie</td>\n",
       "      <td>Shetland_sheepdog</td>\n",
       "    </tr>\n",
       "    <tr>\n",
       "      <th>1</th>\n",
       "      <td>redbone</td>\n",
       "      <td>miniature_pinscher</td>\n",
       "      <td>Rhodesian_ridgeback</td>\n",
       "    </tr>\n",
       "    <tr>\n",
       "      <th>2</th>\n",
       "      <td>German_shepherd</td>\n",
       "      <td>malinois</td>\n",
       "      <td>bloodhound</td>\n",
       "    </tr>\n",
       "    <tr>\n",
       "      <th>3</th>\n",
       "      <td>Rhodesian_ridgeback</td>\n",
       "      <td>redbone</td>\n",
       "      <td>miniature_pinscher</td>\n",
       "    </tr>\n",
       "    <tr>\n",
       "      <th>4</th>\n",
       "      <td>miniature_pinscher</td>\n",
       "      <td>Rottweiler</td>\n",
       "      <td>Doberman</td>\n",
       "    </tr>\n",
       "    <tr>\n",
       "      <th>5</th>\n",
       "      <td>Bernese_mountain_dog</td>\n",
       "      <td>English_springer</td>\n",
       "      <td>Greater_Swiss_Mountain_dog</td>\n",
       "    </tr>\n",
       "    <tr>\n",
       "      <th>6</th>\n",
       "      <td>box_turtle</td>\n",
       "      <td>mud_turtle</td>\n",
       "      <td>terrapin</td>\n",
       "    </tr>\n",
       "    <tr>\n",
       "      <th>7</th>\n",
       "      <td>chow</td>\n",
       "      <td>Tibetan_mastiff</td>\n",
       "      <td>fur_coat</td>\n",
       "    </tr>\n",
       "    <tr>\n",
       "      <th>8</th>\n",
       "      <td>shopping_cart</td>\n",
       "      <td>shopping_basket</td>\n",
       "      <td>golden_retriever</td>\n",
       "    </tr>\n",
       "    <tr>\n",
       "      <th>9</th>\n",
       "      <td>miniature_poodle</td>\n",
       "      <td>komondor</td>\n",
       "      <td>soft-coated_wheaten_terrier</td>\n",
       "    </tr>\n",
       "  </tbody>\n",
       "</table>\n",
       "</div>\n",
       "      <button class=\"colab-df-convert\" onclick=\"convertToInteractive('df-7e7e961c-e471-4d14-b9bb-2e1268319bf0')\"\n",
       "              title=\"Convert this dataframe to an interactive table.\"\n",
       "              style=\"display:none;\">\n",
       "        \n",
       "  <svg xmlns=\"http://www.w3.org/2000/svg\" height=\"24px\"viewBox=\"0 0 24 24\"\n",
       "       width=\"24px\">\n",
       "    <path d=\"M0 0h24v24H0V0z\" fill=\"none\"/>\n",
       "    <path d=\"M18.56 5.44l.94 2.06.94-2.06 2.06-.94-2.06-.94-.94-2.06-.94 2.06-2.06.94zm-11 1L8.5 8.5l.94-2.06 2.06-.94-2.06-.94L8.5 2.5l-.94 2.06-2.06.94zm10 10l.94 2.06.94-2.06 2.06-.94-2.06-.94-.94-2.06-.94 2.06-2.06.94z\"/><path d=\"M17.41 7.96l-1.37-1.37c-.4-.4-.92-.59-1.43-.59-.52 0-1.04.2-1.43.59L10.3 9.45l-7.72 7.72c-.78.78-.78 2.05 0 2.83L4 21.41c.39.39.9.59 1.41.59.51 0 1.02-.2 1.41-.59l7.78-7.78 2.81-2.81c.8-.78.8-2.07 0-2.86zM5.41 20L4 18.59l7.72-7.72 1.47 1.35L5.41 20z\"/>\n",
       "  </svg>\n",
       "      </button>\n",
       "      \n",
       "  <style>\n",
       "    .colab-df-container {\n",
       "      display:flex;\n",
       "      flex-wrap:wrap;\n",
       "      gap: 12px;\n",
       "    }\n",
       "\n",
       "    .colab-df-convert {\n",
       "      background-color: #E8F0FE;\n",
       "      border: none;\n",
       "      border-radius: 50%;\n",
       "      cursor: pointer;\n",
       "      display: none;\n",
       "      fill: #1967D2;\n",
       "      height: 32px;\n",
       "      padding: 0 0 0 0;\n",
       "      width: 32px;\n",
       "    }\n",
       "\n",
       "    .colab-df-convert:hover {\n",
       "      background-color: #E2EBFA;\n",
       "      box-shadow: 0px 1px 2px rgba(60, 64, 67, 0.3), 0px 1px 3px 1px rgba(60, 64, 67, 0.15);\n",
       "      fill: #174EA6;\n",
       "    }\n",
       "\n",
       "    [theme=dark] .colab-df-convert {\n",
       "      background-color: #3B4455;\n",
       "      fill: #D2E3FC;\n",
       "    }\n",
       "\n",
       "    [theme=dark] .colab-df-convert:hover {\n",
       "      background-color: #434B5C;\n",
       "      box-shadow: 0px 1px 3px 1px rgba(0, 0, 0, 0.15);\n",
       "      filter: drop-shadow(0px 1px 2px rgba(0, 0, 0, 0.3));\n",
       "      fill: #FFFFFF;\n",
       "    }\n",
       "  </style>\n",
       "\n",
       "      <script>\n",
       "        const buttonEl =\n",
       "          document.querySelector('#df-7e7e961c-e471-4d14-b9bb-2e1268319bf0 button.colab-df-convert');\n",
       "        buttonEl.style.display =\n",
       "          google.colab.kernel.accessAllowed ? 'block' : 'none';\n",
       "\n",
       "        async function convertToInteractive(key) {\n",
       "          const element = document.querySelector('#df-7e7e961c-e471-4d14-b9bb-2e1268319bf0');\n",
       "          const dataTable =\n",
       "            await google.colab.kernel.invokeFunction('convertToInteractive',\n",
       "                                                     [key], {});\n",
       "          if (!dataTable) return;\n",
       "\n",
       "          const docLinkHtml = 'Like what you see? Visit the ' +\n",
       "            '<a target=\"_blank\" href=https://colab.research.google.com/notebooks/data_table.ipynb>data table notebook</a>'\n",
       "            + ' to learn more about interactive tables.';\n",
       "          element.innerHTML = '';\n",
       "          dataTable['output_type'] = 'display_data';\n",
       "          await google.colab.output.renderOutput(dataTable, element);\n",
       "          const docLink = document.createElement('div');\n",
       "          docLink.innerHTML = docLinkHtml;\n",
       "          element.appendChild(docLink);\n",
       "        }\n",
       "      </script>\n",
       "    </div>\n",
       "  </div>\n",
       "  "
      ],
      "text/plain": [
       "                       p1                  p2                           p3\n",
       "0  Welsh_springer_spaniel              collie            Shetland_sheepdog\n",
       "1                 redbone  miniature_pinscher          Rhodesian_ridgeback\n",
       "2         German_shepherd            malinois                   bloodhound\n",
       "3     Rhodesian_ridgeback             redbone           miniature_pinscher\n",
       "4      miniature_pinscher          Rottweiler                     Doberman\n",
       "5    Bernese_mountain_dog    English_springer   Greater_Swiss_Mountain_dog\n",
       "6              box_turtle          mud_turtle                     terrapin\n",
       "7                    chow     Tibetan_mastiff                     fur_coat\n",
       "8           shopping_cart     shopping_basket             golden_retriever\n",
       "9        miniature_poodle            komondor  soft-coated_wheaten_terrier"
      ]
     },
     "execution_count": 25,
     "metadata": {},
     "output_type": "execute_result"
    }
   ],
   "source": [
    "df_predictions[['p1', 'p2', 'p3']].head(10)"
   ]
  },
  {
   "cell_type": "markdown",
   "metadata": {
    "id": "aYTDe7trjmNX"
   },
   "source": [
    "The 'p1', 'p2', and 'p3' contains entries with '-' and '_' between the predictions."
   ]
  },
  {
   "cell_type": "code",
   "execution_count": 26,
   "metadata": {
    "colab": {
     "base_uri": "https://localhost:8080/"
    },
    "id": "y2VyIdH1WK2d",
    "outputId": "332b1b81-479b-491c-f7a0-d2442ecb882b"
   },
   "outputs": [
    {
     "name": "stdout",
     "output_type": "stream",
     "text": [
      "<class 'pandas.core.frame.DataFrame'>\n",
      "RangeIndex: 2075 entries, 0 to 2074\n",
      "Data columns (total 12 columns):\n",
      " #   Column    Non-Null Count  Dtype  \n",
      "---  ------    --------------  -----  \n",
      " 0   tweet_id  2075 non-null   int64  \n",
      " 1   jpg_url   2075 non-null   object \n",
      " 2   img_num   2075 non-null   int64  \n",
      " 3   p1        2075 non-null   object \n",
      " 4   p1_conf   2075 non-null   float64\n",
      " 5   p1_dog    2075 non-null   bool   \n",
      " 6   p2        2075 non-null   object \n",
      " 7   p2_conf   2075 non-null   float64\n",
      " 8   p2_dog    2075 non-null   bool   \n",
      " 9   p3        2075 non-null   object \n",
      " 10  p3_conf   2075 non-null   float64\n",
      " 11  p3_dog    2075 non-null   bool   \n",
      "dtypes: bool(3), float64(3), int64(2), object(4)\n",
      "memory usage: 152.1+ KB\n"
     ]
    }
   ],
   "source": [
    "df_predictions.info()"
   ]
  },
  {
   "cell_type": "markdown",
   "metadata": {
    "id": "61-1nYc6jmNY"
   },
   "source": [
    "The dataset is complete overall."
   ]
  },
  {
   "cell_type": "markdown",
   "metadata": {
    "id": "pKMVLXC4YpSH"
   },
   "source": [
    "## Assessing df_twitter_api"
   ]
  },
  {
   "cell_type": "code",
   "execution_count": 27,
   "metadata": {
    "colab": {
     "base_uri": "https://localhost:8080/",
     "height": 206
    },
    "id": "NxrBlCiqYpjY",
    "outputId": "b9e67093-a741-4b46-d0e7-19c02f04bba6"
   },
   "outputs": [
    {
     "data": {
      "text/html": [
       "\n",
       "  <div id=\"df-66aabbe5-aca0-47c6-9d26-308a0b113559\">\n",
       "    <div class=\"colab-df-container\">\n",
       "      <div>\n",
       "<style scoped>\n",
       "    .dataframe tbody tr th:only-of-type {\n",
       "        vertical-align: middle;\n",
       "    }\n",
       "\n",
       "    .dataframe tbody tr th {\n",
       "        vertical-align: top;\n",
       "    }\n",
       "\n",
       "    .dataframe thead th {\n",
       "        text-align: right;\n",
       "    }\n",
       "</style>\n",
       "<table border=\"1\" class=\"dataframe\">\n",
       "  <thead>\n",
       "    <tr style=\"text-align: right;\">\n",
       "      <th></th>\n",
       "      <th>tweet_id</th>\n",
       "      <th>retweet_count</th>\n",
       "      <th>favorite_count</th>\n",
       "      <th>followers_count</th>\n",
       "    </tr>\n",
       "  </thead>\n",
       "  <tbody>\n",
       "    <tr>\n",
       "      <th>0</th>\n",
       "      <td>892420643555336193</td>\n",
       "      <td>6955</td>\n",
       "      <td>33653</td>\n",
       "      <td>9372472</td>\n",
       "    </tr>\n",
       "    <tr>\n",
       "      <th>1</th>\n",
       "      <td>892177421306343426</td>\n",
       "      <td>5263</td>\n",
       "      <td>29183</td>\n",
       "      <td>9372472</td>\n",
       "    </tr>\n",
       "    <tr>\n",
       "      <th>2</th>\n",
       "      <td>891815181378084864</td>\n",
       "      <td>3463</td>\n",
       "      <td>21950</td>\n",
       "      <td>9372472</td>\n",
       "    </tr>\n",
       "    <tr>\n",
       "      <th>3</th>\n",
       "      <td>891689557279858688</td>\n",
       "      <td>7178</td>\n",
       "      <td>36726</td>\n",
       "      <td>9372472</td>\n",
       "    </tr>\n",
       "    <tr>\n",
       "      <th>4</th>\n",
       "      <td>891327558926688256</td>\n",
       "      <td>7706</td>\n",
       "      <td>35127</td>\n",
       "      <td>9372472</td>\n",
       "    </tr>\n",
       "  </tbody>\n",
       "</table>\n",
       "</div>\n",
       "      <button class=\"colab-df-convert\" onclick=\"convertToInteractive('df-66aabbe5-aca0-47c6-9d26-308a0b113559')\"\n",
       "              title=\"Convert this dataframe to an interactive table.\"\n",
       "              style=\"display:none;\">\n",
       "        \n",
       "  <svg xmlns=\"http://www.w3.org/2000/svg\" height=\"24px\"viewBox=\"0 0 24 24\"\n",
       "       width=\"24px\">\n",
       "    <path d=\"M0 0h24v24H0V0z\" fill=\"none\"/>\n",
       "    <path d=\"M18.56 5.44l.94 2.06.94-2.06 2.06-.94-2.06-.94-.94-2.06-.94 2.06-2.06.94zm-11 1L8.5 8.5l.94-2.06 2.06-.94-2.06-.94L8.5 2.5l-.94 2.06-2.06.94zm10 10l.94 2.06.94-2.06 2.06-.94-2.06-.94-.94-2.06-.94 2.06-2.06.94z\"/><path d=\"M17.41 7.96l-1.37-1.37c-.4-.4-.92-.59-1.43-.59-.52 0-1.04.2-1.43.59L10.3 9.45l-7.72 7.72c-.78.78-.78 2.05 0 2.83L4 21.41c.39.39.9.59 1.41.59.51 0 1.02-.2 1.41-.59l7.78-7.78 2.81-2.81c.8-.78.8-2.07 0-2.86zM5.41 20L4 18.59l7.72-7.72 1.47 1.35L5.41 20z\"/>\n",
       "  </svg>\n",
       "      </button>\n",
       "      \n",
       "  <style>\n",
       "    .colab-df-container {\n",
       "      display:flex;\n",
       "      flex-wrap:wrap;\n",
       "      gap: 12px;\n",
       "    }\n",
       "\n",
       "    .colab-df-convert {\n",
       "      background-color: #E8F0FE;\n",
       "      border: none;\n",
       "      border-radius: 50%;\n",
       "      cursor: pointer;\n",
       "      display: none;\n",
       "      fill: #1967D2;\n",
       "      height: 32px;\n",
       "      padding: 0 0 0 0;\n",
       "      width: 32px;\n",
       "    }\n",
       "\n",
       "    .colab-df-convert:hover {\n",
       "      background-color: #E2EBFA;\n",
       "      box-shadow: 0px 1px 2px rgba(60, 64, 67, 0.3), 0px 1px 3px 1px rgba(60, 64, 67, 0.15);\n",
       "      fill: #174EA6;\n",
       "    }\n",
       "\n",
       "    [theme=dark] .colab-df-convert {\n",
       "      background-color: #3B4455;\n",
       "      fill: #D2E3FC;\n",
       "    }\n",
       "\n",
       "    [theme=dark] .colab-df-convert:hover {\n",
       "      background-color: #434B5C;\n",
       "      box-shadow: 0px 1px 3px 1px rgba(0, 0, 0, 0.15);\n",
       "      filter: drop-shadow(0px 1px 2px rgba(0, 0, 0, 0.3));\n",
       "      fill: #FFFFFF;\n",
       "    }\n",
       "  </style>\n",
       "\n",
       "      <script>\n",
       "        const buttonEl =\n",
       "          document.querySelector('#df-66aabbe5-aca0-47c6-9d26-308a0b113559 button.colab-df-convert');\n",
       "        buttonEl.style.display =\n",
       "          google.colab.kernel.accessAllowed ? 'block' : 'none';\n",
       "\n",
       "        async function convertToInteractive(key) {\n",
       "          const element = document.querySelector('#df-66aabbe5-aca0-47c6-9d26-308a0b113559');\n",
       "          const dataTable =\n",
       "            await google.colab.kernel.invokeFunction('convertToInteractive',\n",
       "                                                     [key], {});\n",
       "          if (!dataTable) return;\n",
       "\n",
       "          const docLinkHtml = 'Like what you see? Visit the ' +\n",
       "            '<a target=\"_blank\" href=https://colab.research.google.com/notebooks/data_table.ipynb>data table notebook</a>'\n",
       "            + ' to learn more about interactive tables.';\n",
       "          element.innerHTML = '';\n",
       "          dataTable['output_type'] = 'display_data';\n",
       "          await google.colab.output.renderOutput(dataTable, element);\n",
       "          const docLink = document.createElement('div');\n",
       "          docLink.innerHTML = docLinkHtml;\n",
       "          element.appendChild(docLink);\n",
       "        }\n",
       "      </script>\n",
       "    </div>\n",
       "  </div>\n",
       "  "
      ],
      "text/plain": [
       "             tweet_id  retweet_count  favorite_count  followers_count\n",
       "0  892420643555336193           6955           33653          9372472\n",
       "1  892177421306343426           5263           29183          9372472\n",
       "2  891815181378084864           3463           21950          9372472\n",
       "3  891689557279858688           7178           36726          9372472\n",
       "4  891327558926688256           7706           35127          9372472"
      ]
     },
     "execution_count": 27,
     "metadata": {},
     "output_type": "execute_result"
    }
   ],
   "source": [
    "df_twitter_api.head()"
   ]
  },
  {
   "cell_type": "code",
   "execution_count": 28,
   "metadata": {
    "colab": {
     "base_uri": "https://localhost:8080/"
    },
    "id": "sIiY4FPxY51J",
    "outputId": "eef4601f-ec7c-444b-d5df-3b792153b24e",
    "scrolled": true
   },
   "outputs": [
    {
     "name": "stdout",
     "output_type": "stream",
     "text": [
      "<class 'pandas.core.frame.DataFrame'>\n",
      "RangeIndex: 2326 entries, 0 to 2325\n",
      "Data columns (total 4 columns):\n",
      " #   Column           Non-Null Count  Dtype\n",
      "---  ------           --------------  -----\n",
      " 0   tweet_id         2326 non-null   int64\n",
      " 1   retweet_count    2326 non-null   int64\n",
      " 2   favorite_count   2326 non-null   int64\n",
      " 3   followers_count  2326 non-null   int64\n",
      "dtypes: int64(4)\n",
      "memory usage: 72.8 KB\n"
     ]
    }
   ],
   "source": [
    "df_twitter_api.info()"
   ]
  },
  {
   "cell_type": "markdown",
   "metadata": {
    "id": "QjnKqzE3jmNZ"
   },
   "source": [
    "No issues to be assessed on the df_twitter_api dataset."
   ]
  },
  {
   "cell_type": "markdown",
   "metadata": {
    "id": "t6KTSgUVWK2f"
   },
   "source": [
    "## Assessment Summary\n",
    "### Quality\n",
    "#### df_archive table\n",
    "1. df_archive containts rows for tweets, retweets and replies. We need only original tweets.\n",
    "2. 'in_reply_to_status_id', 'in_reply_to_user_id', 'retweeted_status_id', 'retweeted_status_user_id', and 'retweeted_status_timestamp' are redundant columns (Remove after getting original tweets).\n",
    "3. The dataset contains tweets with no media. We need tweets with media.\n",
    "4. The source column has html formatted text as entries.\n",
    "5. The ratings with decimal values are incorrectly extracted\n",
    "6. 'Dog names not fully extracted. tweet_id 778408200802557953 and 740373189193256964 have different structure for the tweet.\n",
    "7. The name column contains 'None', 'a', 'the', 'an', 'very', 'quite', 'my', etc as dog names.\n",
    "8. The timestamp column is stored as a string object.\n",
    "9. Need a year_month columns from the timestamp column (for ease analysis and virsualization).\n",
    "\n",
    "#### df_predictions table\n",
    "10. ''p1', 'p2', and 'p3' columns contain entries with '-' and '_' symbols between the predictions.\n",
    "\n",
    "### Tideness\n",
    "1. 'doggo', 'floofer', 'pupper', 'puppo' columns are contain dog stages\n",
    "2. Multiple DataFrames were created for each datasets. Merge all into a single dataset."
   ]
  },
  {
   "cell_type": "markdown",
   "metadata": {
    "id": "yh9qIdGAvhL-"
   },
   "source": [
    "<a id=\"clean\"></a>\n",
    "# Step 3: Cleaning Data"
   ]
  },
  {
   "cell_type": "markdown",
   "metadata": {
    "id": "OtmhIpdasqra"
   },
   "source": [
    "### Quality"
   ]
  },
  {
   "cell_type": "markdown",
   "metadata": {
    "id": "Ds3m25t-vhL-"
   },
   "source": [
    "Create a copy for dataframes using Dataframe.copy() "
   ]
  },
  {
   "cell_type": "code",
   "execution_count": 29,
   "metadata": {
    "id": "qwe7AjPzC5kX"
   },
   "outputs": [],
   "source": [
    "# creating a dataframe copy for all dataframes\n",
    "df_archive_clean = df_archive.copy()\n",
    "df_predictions_clean = df_predictions.copy()\n",
    "df_twitter_api_clean = df_twitter_api.copy()"
   ]
  },
  {
   "cell_type": "markdown",
   "metadata": {
    "id": "5eIMzcqKvhL-"
   },
   "source": [
    "#### Cleaning df_archive_clean\n"
   ]
  },
  {
   "cell_type": "markdown",
   "metadata": {
    "id": "e_0vqnYJp96H"
   },
   "source": [
    "#### Issue 1\n",
    "**Define**"
   ]
  },
  {
   "cell_type": "markdown",
   "metadata": {
    "id": "BActJ-glqENg"
   },
   "source": [
    "\n",
    "df_archive containts rows for tweets, retweets and replies. **Delete or filter only rows where retweeted_status_id and in_reply_to_user_id equal null.**"
   ]
  },
  {
   "cell_type": "markdown",
   "metadata": {
    "id": "b3mM_qKSqFBB"
   },
   "source": [
    "**Code**"
   ]
  },
  {
   "cell_type": "code",
   "execution_count": 30,
   "metadata": {
    "id": "LOyIy3RFC5ni"
   },
   "outputs": [],
   "source": [
    "df_archive_clean = df_archive_clean.loc[df_archive_clean.retweeted_status_id.isnull(), :]\n",
    "df_archive_clean = df_archive_clean.loc[df_archive_clean.in_reply_to_user_id.isnull(), :]"
   ]
  },
  {
   "cell_type": "markdown",
   "metadata": {
    "id": "p5hSGWfLqIuZ"
   },
   "source": [
    "**Test**"
   ]
  },
  {
   "cell_type": "code",
   "execution_count": 31,
   "metadata": {
    "colab": {
     "base_uri": "https://localhost:8080/"
    },
    "id": "y37hdd0ivhL-",
    "outputId": "0e13fda7-c95e-4937-cdf6-98b6c1f266de"
   },
   "outputs": [
    {
     "name": "stdout",
     "output_type": "stream",
     "text": [
      "<class 'pandas.core.frame.DataFrame'>\n",
      "Int64Index: 2097 entries, 0 to 2355\n",
      "Data columns (total 17 columns):\n",
      " #   Column                      Non-Null Count  Dtype  \n",
      "---  ------                      --------------  -----  \n",
      " 0   tweet_id                    2097 non-null   int64  \n",
      " 1   in_reply_to_status_id       0 non-null      float64\n",
      " 2   in_reply_to_user_id         0 non-null      float64\n",
      " 3   timestamp                   2097 non-null   object \n",
      " 4   source                      2097 non-null   object \n",
      " 5   text                        2097 non-null   object \n",
      " 6   retweeted_status_id         0 non-null      float64\n",
      " 7   retweeted_status_user_id    0 non-null      float64\n",
      " 8   retweeted_status_timestamp  0 non-null      object \n",
      " 9   expanded_urls               2094 non-null   object \n",
      " 10  rating_numerator            2097 non-null   int64  \n",
      " 11  rating_denominator          2097 non-null   int64  \n",
      " 12  name                        2097 non-null   object \n",
      " 13  doggo                       2097 non-null   object \n",
      " 14  floofer                     2097 non-null   object \n",
      " 15  pupper                      2097 non-null   object \n",
      " 16  puppo                       2097 non-null   object \n",
      "dtypes: float64(4), int64(3), object(10)\n",
      "memory usage: 294.9+ KB\n"
     ]
    }
   ],
   "source": [
    "df_archive_clean.info()"
   ]
  },
  {
   "cell_type": "markdown",
   "metadata": {
    "id": "znrpSm9AqQaU"
   },
   "source": [
    "#### Issue 2\n",
    "**Define**"
   ]
  },
  {
   "cell_type": "markdown",
   "metadata": {
    "id": "n_9lj3ACvhL_"
   },
   "source": [
    "**Drop redundant columns** ('in_reply_to_status_id', 'in_reply_to_user_id', 'retweeted_status_id', 'retweeted_status_user_id', 'retweeted_status_timestamp') using `pd.DataFrame.drop `"
   ]
  },
  {
   "cell_type": "markdown",
   "metadata": {
    "id": "DBrs0zUOqQd5"
   },
   "source": [
    "**Code**"
   ]
  },
  {
   "cell_type": "code",
   "execution_count": 32,
   "metadata": {
    "id": "Vtp3GWtOvhL_"
   },
   "outputs": [],
   "source": [
    "# drop redundant columns using DataFrame.drop\n",
    "df_archive_clean.drop(['in_reply_to_status_id', 'in_reply_to_user_id', 'retweeted_status_id',\n",
    "                      'retweeted_status_user_id', 'retweeted_status_timestamp'], axis=1, inplace=True)"
   ]
  },
  {
   "cell_type": "markdown",
   "metadata": {
    "id": "LPZ9Yv_vqXOY"
   },
   "source": [
    "**Test**"
   ]
  },
  {
   "cell_type": "code",
   "execution_count": 33,
   "metadata": {
    "colab": {
     "base_uri": "https://localhost:8080/"
    },
    "id": "C0d8SJaxvhL_",
    "outputId": "c159a061-46bf-459d-9c27-1dfb4e9c616b"
   },
   "outputs": [
    {
     "data": {
      "text/plain": [
       "Index(['tweet_id', 'timestamp', 'source', 'text', 'expanded_urls',\n",
       "       'rating_numerator', 'rating_denominator', 'name', 'doggo', 'floofer',\n",
       "       'pupper', 'puppo'],\n",
       "      dtype='object')"
      ]
     },
     "execution_count": 33,
     "metadata": {},
     "output_type": "execute_result"
    }
   ],
   "source": [
    "# Test using DataFrame.columns\n",
    "df_archive_clean.columns"
   ]
  },
  {
   "cell_type": "markdown",
   "metadata": {
    "id": "mVUx2DJFs6h4"
   },
   "source": [
    "#### Issue 3\n",
    "**Define**"
   ]
  },
  {
   "cell_type": "markdown",
   "metadata": {
    "id": "Ttqq1rMwyjEd"
   },
   "source": [
    "Filter out all tweets that have no media files. Use the expanded_urls column to filter out all rows where expanded_urls uquals Nan."
   ]
  },
  {
   "cell_type": "markdown",
   "metadata": {
    "id": "KrqLXj81tAqU"
   },
   "source": [
    "**Code**"
   ]
  },
  {
   "cell_type": "code",
   "execution_count": 34,
   "metadata": {
    "id": "BAxSk89tvhL_"
   },
   "outputs": [],
   "source": [
    "# filter out all tweets using pd.Series.isna == False\n",
    "df_archive_clean = df_archive_clean[df_archive_clean.expanded_urls.isna() == False]"
   ]
  },
  {
   "cell_type": "markdown",
   "metadata": {
    "id": "bK02UOKTtBG0"
   },
   "source": [
    "**Test**"
   ]
  },
  {
   "cell_type": "code",
   "execution_count": 35,
   "metadata": {
    "colab": {
     "base_uri": "https://localhost:8080/"
    },
    "id": "nToMsBLvvhMA",
    "outputId": "e5a02ef1-23f9-4374-c1be-6c39931c2f2f"
   },
   "outputs": [
    {
     "name": "stdout",
     "output_type": "stream",
     "text": [
      "<class 'pandas.core.frame.DataFrame'>\n",
      "Int64Index: 2094 entries, 0 to 2355\n",
      "Data columns (total 12 columns):\n",
      " #   Column              Non-Null Count  Dtype \n",
      "---  ------              --------------  ----- \n",
      " 0   tweet_id            2094 non-null   int64 \n",
      " 1   timestamp           2094 non-null   object\n",
      " 2   source              2094 non-null   object\n",
      " 3   text                2094 non-null   object\n",
      " 4   expanded_urls       2094 non-null   object\n",
      " 5   rating_numerator    2094 non-null   int64 \n",
      " 6   rating_denominator  2094 non-null   int64 \n",
      " 7   name                2094 non-null   object\n",
      " 8   doggo               2094 non-null   object\n",
      " 9   floofer             2094 non-null   object\n",
      " 10  pupper              2094 non-null   object\n",
      " 11  puppo               2094 non-null   object\n",
      "dtypes: int64(3), object(9)\n",
      "memory usage: 212.7+ KB\n"
     ]
    }
   ],
   "source": [
    "# Test using DataFrame.info \n",
    "df_archive_clean.info()"
   ]
  },
  {
   "cell_type": "markdown",
   "metadata": {
    "id": "zFKLpv3lrBCE"
   },
   "source": [
    "#### Issue 4\n",
    "**Define**"
   ]
  },
  {
   "cell_type": "markdown",
   "metadata": {
    "id": "520b27RVreU1"
   },
   "source": [
    "The source column has html formatted text as entries. Use `str.extract` to extract the source device for each tweet."
   ]
  },
  {
   "cell_type": "markdown",
   "metadata": {
    "id": "JMZVTS7GrBF6"
   },
   "source": [
    "**Code**"
   ]
  },
  {
   "cell_type": "code",
   "execution_count": 36,
   "metadata": {
    "id": "1-xjG-HjrBns"
   },
   "outputs": [],
   "source": [
    "df_archive_clean.source =  df_archive_clean.source.str.extract(r'>(.+)<', expand=True)"
   ]
  },
  {
   "cell_type": "markdown",
   "metadata": {
    "id": "IWI3ZU2OrBJ6"
   },
   "source": [
    "**Test**"
   ]
  },
  {
   "cell_type": "code",
   "execution_count": 37,
   "metadata": {
    "colab": {
     "base_uri": "https://localhost:8080/"
    },
    "id": "gSNFbxBxrBr3",
    "outputId": "a44fe623-92fb-4b9c-d68f-11998285c9fc"
   },
   "outputs": [
    {
     "data": {
      "text/plain": [
       "array(['Twitter for iPhone', 'Twitter Web Client', 'Vine - Make a Scene',\n",
       "       'TweetDeck'], dtype=object)"
      ]
     },
     "execution_count": 37,
     "metadata": {},
     "output_type": "execute_result"
    }
   ],
   "source": [
    "df_archive_clean.source.unique()"
   ]
  },
  {
   "cell_type": "markdown",
   "metadata": {
    "id": "CcMgJppIcdz3"
   },
   "source": [
    "#### Issue 5\n",
    "**Define**"
   ]
  },
  {
   "cell_type": "markdown",
   "metadata": {
    "id": "xmpaMu3Tcd2o"
   },
   "source": [
    "The ratings with decimal values are incorrectly extracted. Re-extract both the numerator and denominator from the text column using pd.Series.str.extract using `(\\d+\\.?\\d*/\\d+\\.?\\d*)` regex pattern and convert the columns from `object` type to a `float`."
   ]
  },
  {
   "cell_type": "markdown",
   "metadata": {
    "id": "eFgziTvscgtg"
   },
   "source": [
    "**Code**"
   ]
  },
  {
   "cell_type": "code",
   "execution_count": 38,
   "metadata": {
    "id": "TyG6i67zvBWu"
   },
   "outputs": [],
   "source": [
    "rating_columns = ['rating_numerator', 'rating_denominator']\n",
    "\n",
    "df_archive_clean[rating_columns] = df_archive_clean.text.str.extract(r'(\\d+\\.?\\d*/\\d+\\.?\\d*)', expand=True)[0].str.split(\"/\", 1, expand=True)\n",
    "\n",
    "for item in rating_columns:\n",
    "  df_archive_clean[item] = df_archive_clean[item].astype(float)"
   ]
  },
  {
   "cell_type": "markdown",
   "metadata": {
    "id": "jqagpgGKcibO"
   },
   "source": [
    "**Test**"
   ]
  },
  {
   "cell_type": "code",
   "execution_count": 39,
   "metadata": {
    "colab": {
     "base_uri": "https://localhost:8080/",
     "height": 81
    },
    "id": "00zvV5XPgR08",
    "outputId": "2261c428-204a-4ee4-e4d2-a07d6b0cb919"
   },
   "outputs": [
    {
     "data": {
      "text/html": [
       "\n",
       "  <div id=\"df-3598a733-6969-435f-86aa-54ba701f03a7\">\n",
       "    <div class=\"colab-df-container\">\n",
       "      <div>\n",
       "<style scoped>\n",
       "    .dataframe tbody tr th:only-of-type {\n",
       "        vertical-align: middle;\n",
       "    }\n",
       "\n",
       "    .dataframe tbody tr th {\n",
       "        vertical-align: top;\n",
       "    }\n",
       "\n",
       "    .dataframe thead th {\n",
       "        text-align: right;\n",
       "    }\n",
       "</style>\n",
       "<table border=\"1\" class=\"dataframe\">\n",
       "  <thead>\n",
       "    <tr style=\"text-align: right;\">\n",
       "      <th></th>\n",
       "      <th>tweet_id</th>\n",
       "      <th>timestamp</th>\n",
       "      <th>source</th>\n",
       "      <th>text</th>\n",
       "      <th>expanded_urls</th>\n",
       "      <th>rating_numerator</th>\n",
       "      <th>rating_denominator</th>\n",
       "      <th>name</th>\n",
       "      <th>doggo</th>\n",
       "      <th>floofer</th>\n",
       "      <th>pupper</th>\n",
       "      <th>puppo</th>\n",
       "    </tr>\n",
       "  </thead>\n",
       "  <tbody>\n",
       "    <tr>\n",
       "      <th>695</th>\n",
       "      <td>786709082849828864</td>\n",
       "      <td>2016-10-13 23:23:56 +0000</td>\n",
       "      <td>Twitter for iPhone</td>\n",
       "      <td>This is Logan, the Chow who lived. He solemnly...</td>\n",
       "      <td>https://twitter.com/dog_rates/status/786709082...</td>\n",
       "      <td>9.75</td>\n",
       "      <td>10.0</td>\n",
       "      <td>Logan</td>\n",
       "      <td>None</td>\n",
       "      <td>None</td>\n",
       "      <td>None</td>\n",
       "      <td>None</td>\n",
       "    </tr>\n",
       "  </tbody>\n",
       "</table>\n",
       "</div>\n",
       "      <button class=\"colab-df-convert\" onclick=\"convertToInteractive('df-3598a733-6969-435f-86aa-54ba701f03a7')\"\n",
       "              title=\"Convert this dataframe to an interactive table.\"\n",
       "              style=\"display:none;\">\n",
       "        \n",
       "  <svg xmlns=\"http://www.w3.org/2000/svg\" height=\"24px\"viewBox=\"0 0 24 24\"\n",
       "       width=\"24px\">\n",
       "    <path d=\"M0 0h24v24H0V0z\" fill=\"none\"/>\n",
       "    <path d=\"M18.56 5.44l.94 2.06.94-2.06 2.06-.94-2.06-.94-.94-2.06-.94 2.06-2.06.94zm-11 1L8.5 8.5l.94-2.06 2.06-.94-2.06-.94L8.5 2.5l-.94 2.06-2.06.94zm10 10l.94 2.06.94-2.06 2.06-.94-2.06-.94-.94-2.06-.94 2.06-2.06.94z\"/><path d=\"M17.41 7.96l-1.37-1.37c-.4-.4-.92-.59-1.43-.59-.52 0-1.04.2-1.43.59L10.3 9.45l-7.72 7.72c-.78.78-.78 2.05 0 2.83L4 21.41c.39.39.9.59 1.41.59.51 0 1.02-.2 1.41-.59l7.78-7.78 2.81-2.81c.8-.78.8-2.07 0-2.86zM5.41 20L4 18.59l7.72-7.72 1.47 1.35L5.41 20z\"/>\n",
       "  </svg>\n",
       "      </button>\n",
       "      \n",
       "  <style>\n",
       "    .colab-df-container {\n",
       "      display:flex;\n",
       "      flex-wrap:wrap;\n",
       "      gap: 12px;\n",
       "    }\n",
       "\n",
       "    .colab-df-convert {\n",
       "      background-color: #E8F0FE;\n",
       "      border: none;\n",
       "      border-radius: 50%;\n",
       "      cursor: pointer;\n",
       "      display: none;\n",
       "      fill: #1967D2;\n",
       "      height: 32px;\n",
       "      padding: 0 0 0 0;\n",
       "      width: 32px;\n",
       "    }\n",
       "\n",
       "    .colab-df-convert:hover {\n",
       "      background-color: #E2EBFA;\n",
       "      box-shadow: 0px 1px 2px rgba(60, 64, 67, 0.3), 0px 1px 3px 1px rgba(60, 64, 67, 0.15);\n",
       "      fill: #174EA6;\n",
       "    }\n",
       "\n",
       "    [theme=dark] .colab-df-convert {\n",
       "      background-color: #3B4455;\n",
       "      fill: #D2E3FC;\n",
       "    }\n",
       "\n",
       "    [theme=dark] .colab-df-convert:hover {\n",
       "      background-color: #434B5C;\n",
       "      box-shadow: 0px 1px 3px 1px rgba(0, 0, 0, 0.15);\n",
       "      filter: drop-shadow(0px 1px 2px rgba(0, 0, 0, 0.3));\n",
       "      fill: #FFFFFF;\n",
       "    }\n",
       "  </style>\n",
       "\n",
       "      <script>\n",
       "        const buttonEl =\n",
       "          document.querySelector('#df-3598a733-6969-435f-86aa-54ba701f03a7 button.colab-df-convert');\n",
       "        buttonEl.style.display =\n",
       "          google.colab.kernel.accessAllowed ? 'block' : 'none';\n",
       "\n",
       "        async function convertToInteractive(key) {\n",
       "          const element = document.querySelector('#df-3598a733-6969-435f-86aa-54ba701f03a7');\n",
       "          const dataTable =\n",
       "            await google.colab.kernel.invokeFunction('convertToInteractive',\n",
       "                                                     [key], {});\n",
       "          if (!dataTable) return;\n",
       "\n",
       "          const docLinkHtml = 'Like what you see? Visit the ' +\n",
       "            '<a target=\"_blank\" href=https://colab.research.google.com/notebooks/data_table.ipynb>data table notebook</a>'\n",
       "            + ' to learn more about interactive tables.';\n",
       "          element.innerHTML = '';\n",
       "          dataTable['output_type'] = 'display_data';\n",
       "          await google.colab.output.renderOutput(dataTable, element);\n",
       "          const docLink = document.createElement('div');\n",
       "          docLink.innerHTML = docLinkHtml;\n",
       "          element.appendChild(docLink);\n",
       "        }\n",
       "      </script>\n",
       "    </div>\n",
       "  </div>\n",
       "  "
      ],
      "text/plain": [
       "               tweet_id                  timestamp              source  \\\n",
       "695  786709082849828864  2016-10-13 23:23:56 +0000  Twitter for iPhone   \n",
       "\n",
       "                                                  text  \\\n",
       "695  This is Logan, the Chow who lived. He solemnly...   \n",
       "\n",
       "                                         expanded_urls  rating_numerator  \\\n",
       "695  https://twitter.com/dog_rates/status/786709082...              9.75   \n",
       "\n",
       "     rating_denominator   name doggo floofer pupper puppo  \n",
       "695                10.0  Logan  None    None   None  None  "
      ]
     },
     "execution_count": 39,
     "metadata": {},
     "output_type": "execute_result"
    }
   ],
   "source": [
    "df_archive_clean.query(\"tweet_id==786709082849828864\")"
   ]
  },
  {
   "cell_type": "code",
   "execution_count": 40,
   "metadata": {
    "colab": {
     "base_uri": "https://localhost:8080/"
    },
    "id": "STcypLiKvBi6",
    "outputId": "22a1e286-9d31-48f4-f2f4-43edf5fa5f44"
   },
   "outputs": [
    {
     "name": "stdout",
     "output_type": "stream",
     "text": [
      "<class 'pandas.core.frame.DataFrame'>\n",
      "Int64Index: 2094 entries, 0 to 2355\n",
      "Data columns (total 2 columns):\n",
      " #   Column              Non-Null Count  Dtype  \n",
      "---  ------              --------------  -----  \n",
      " 0   rating_numerator    2094 non-null   float64\n",
      " 1   rating_denominator  2094 non-null   float64\n",
      "dtypes: float64(2)\n",
      "memory usage: 49.1 KB\n"
     ]
    }
   ],
   "source": [
    "df_archive_clean.loc[:, rating_columns].info()"
   ]
  },
  {
   "cell_type": "markdown",
   "metadata": {
    "id": "CXB2GJdKYZ3k"
   },
   "source": [
    "#### Issue 6\n",
    "**Define**"
   ]
  },
  {
   "cell_type": "markdown",
   "metadata": {
    "id": "dj_84fOHW7m4"
   },
   "source": [
    "Dog names not fully extracted. `tweet_id 778408200802557953 and 740373189193256964` have different structures for the tweet. Manually set the names for the two dogs in their respective rows using `pd.DataFrame.loc`"
   ]
  },
  {
   "cell_type": "code",
   "execution_count": 41,
   "metadata": {
    "colab": {
     "base_uri": "https://localhost:8080/"
    },
    "id": "av7GX1anOJ4L",
    "outputId": "9f75990f-2b9f-4301-87f8-1384cd2c19d4"
   },
   "outputs": [
    {
     "data": {
      "text/plain": [
       "758     RIP Loki. Thank you for the good times. You wi...\n",
       "1068    After so many requests, this is Bretagne. She ...\n",
       "Name: text, dtype: object"
      ]
     },
     "execution_count": 41,
     "metadata": {},
     "output_type": "execute_result"
    }
   ],
   "source": [
    "df_archive_clean.query(\"tweet_id==778408200802557953 | tweet_id==740373189193256964\")['text']"
   ]
  },
  {
   "cell_type": "markdown",
   "metadata": {
    "id": "OJ__djgUYcCW"
   },
   "source": [
    "**Code**"
   ]
  },
  {
   "cell_type": "code",
   "execution_count": 42,
   "metadata": {
    "id": "xXuV1QhoOJ4L"
   },
   "outputs": [],
   "source": [
    "df_archive_clean.loc[df_archive_clean.tweet_id == 778408200802557953, 'name'] = 'Loki'\n",
    "df_archive_clean.loc[df_archive_clean.tweet_id == 740373189193256964, 'name'] = 'Bretagne'"
   ]
  },
  {
   "cell_type": "markdown",
   "metadata": {
    "id": "I0MdnZMJcEfB"
   },
   "source": [
    "**Test**"
   ]
  },
  {
   "cell_type": "code",
   "execution_count": 43,
   "metadata": {
    "colab": {
     "base_uri": "https://localhost:8080/"
    },
    "id": "xY5ezuvFOJ4M",
    "outputId": "8d9d799d-06a4-43e7-ba74-f1569f3310c4"
   },
   "outputs": [
    {
     "data": {
      "text/plain": [
       "758         Loki\n",
       "1068    Bretagne\n",
       "Name: name, dtype: object"
      ]
     },
     "execution_count": 43,
     "metadata": {},
     "output_type": "execute_result"
    }
   ],
   "source": [
    "df_archive_clean.query(\"tweet_id==778408200802557953 | tweet_id==740373189193256964\")['name']"
   ]
  },
  {
   "cell_type": "markdown",
   "metadata": {
    "id": "NitAlEBDVCXF"
   },
   "source": [
    "#### Issue 7\n",
    "**Define**"
   ]
  },
  {
   "cell_type": "markdown",
   "metadata": {
    "id": "YjruzLyDrAFY"
   },
   "source": [
    "The name column contains names like 'None', 'incredibly', 'a', 'the', 'an', 'very', 'quite', 'my', etc as dog names. Select all the rows with lower case and assign using `'.loc[row_indexer, col_indexer] = np.nan'` and Replace None with `np.nan` using Nan using `pd.Series.replace` "
   ]
  },
  {
   "cell_type": "markdown",
   "metadata": {
    "id": "DAxJAHjaV3ce"
   },
   "source": [
    "\n",
    "**Code**"
   ]
  },
  {
   "cell_type": "code",
   "execution_count": 44,
   "metadata": {
    "id": "ZxP7wp-CKJ9w"
   },
   "outputs": [],
   "source": [
    "df_archive_clean.loc[df_archive_clean.name.str.islower(), 'name'] = np.nan\n",
    "df_archive_clean.name.replace('None', np.nan, inplace=True)"
   ]
  },
  {
   "cell_type": "markdown",
   "metadata": {
    "id": "g3mwiqiMV5PP"
   },
   "source": [
    "**Test**"
   ]
  },
  {
   "cell_type": "code",
   "execution_count": 45,
   "metadata": {
    "colab": {
     "base_uri": "https://localhost:8080/"
    },
    "id": "bqZiQc8IJBZR",
    "outputId": "6e64a1b7-60f6-43a0-9166-5612b7b07257"
   },
   "outputs": [
    {
     "data": {
      "text/plain": [
       "Charlie       11\n",
       "Lucy          11\n",
       "Cooper        10\n",
       "Oliver        10\n",
       "Penny          9\n",
       "              ..\n",
       "Shiloh         1\n",
       "Gustav         1\n",
       "Arlen          1\n",
       "Lenox          1\n",
       "Christoper     1\n",
       "Name: name, Length: 930, dtype: int64"
      ]
     },
     "execution_count": 45,
     "metadata": {},
     "output_type": "execute_result"
    }
   ],
   "source": [
    "df_archive_clean.name.value_counts()"
   ]
  },
  {
   "cell_type": "markdown",
   "metadata": {
    "id": "d6lYAX1qvIUi"
   },
   "source": [
    "#### Issue 8\n",
    "**Define**"
   ]
  },
  {
   "cell_type": "markdown",
   "metadata": {
    "id": "RiJk_jvZd8vd"
   },
   "source": [
    "Convert the timestamp column from string to datetime object using `pd.to_datetime`\n"
   ]
  },
  {
   "cell_type": "markdown",
   "metadata": {
    "id": "aPtFB4plvT1N"
   },
   "source": [
    "**Code**"
   ]
  },
  {
   "cell_type": "code",
   "execution_count": 46,
   "metadata": {
    "id": "M27xwih-eUSo"
   },
   "outputs": [],
   "source": [
    "df_archive_clean.timestamp = pd.to_datetime(df_archive_clean.timestamp)"
   ]
  },
  {
   "cell_type": "markdown",
   "metadata": {
    "id": "Z3n9u65JvPgI"
   },
   "source": [
    "**Test**"
   ]
  },
  {
   "cell_type": "code",
   "execution_count": 47,
   "metadata": {
    "colab": {
     "base_uri": "https://localhost:8080/"
    },
    "id": "gq0VLBGjfRiw",
    "outputId": "6c2e444f-4d5f-49c6-fdaf-e36895ecceb9"
   },
   "outputs": [
    {
     "data": {
      "text/plain": [
       "datetime64[ns, UTC]"
      ]
     },
     "execution_count": 47,
     "metadata": {},
     "output_type": "execute_result"
    }
   ],
   "source": [
    "df_archive_clean.timestamp.dtype"
   ]
  },
  {
   "cell_type": "markdown",
   "metadata": {
    "id": "hMdyoZtVv5W2"
   },
   "source": [
    "#### Issue 9\n",
    "**Define**"
   ]
  },
  {
   "cell_type": "markdown",
   "metadata": {
    "id": "potVQgu0v-8v"
   },
   "source": [
    "Need a year_month columns from the timestamp column (for ease analysis and virsualization). Create the column using `pd.Series.apply` and use `strftime('%Y-%m')` as the format."
   ]
  },
  {
   "cell_type": "markdown",
   "metadata": {
    "id": "MRhu2okswAVm"
   },
   "source": [
    "**Code**"
   ]
  },
  {
   "cell_type": "code",
   "execution_count": 48,
   "metadata": {
    "id": "6_K2VfSQOJ4M"
   },
   "outputs": [],
   "source": [
    "df_archive_clean['year_month'] = df_archive_clean.timestamp.apply(lambda x: x.strftime('%Y-%m'))"
   ]
  },
  {
   "cell_type": "markdown",
   "metadata": {
    "id": "2lyAfbyCwCai"
   },
   "source": [
    "**Test**"
   ]
  },
  {
   "cell_type": "code",
   "execution_count": 49,
   "metadata": {
    "colab": {
     "base_uri": "https://localhost:8080/"
    },
    "id": "dw47NbBFwC5Z",
    "outputId": "0fd1bc74-75ec-4c7b-e94f-9262c8fdf132"
   },
   "outputs": [
    {
     "data": {
      "text/plain": [
       "0    2017-08\n",
       "1    2017-08\n",
       "2    2017-07\n",
       "3    2017-07\n",
       "4    2017-07\n",
       "5    2017-07\n",
       "Name: year_month, dtype: object"
      ]
     },
     "execution_count": 49,
     "metadata": {},
     "output_type": "execute_result"
    }
   ],
   "source": [
    "df_archive_clean['year_month'].loc[:5]"
   ]
  },
  {
   "cell_type": "markdown",
   "metadata": {
    "id": "WD1LZR_wYs6n"
   },
   "source": [
    "#### Cleaning df_predictions_clean"
   ]
  },
  {
   "cell_type": "markdown",
   "metadata": {
    "id": "Z09uumNDyi24"
   },
   "source": [
    "#### Issue 10\n",
    "**Define**"
   ]
  },
  {
   "cell_type": "markdown",
   "metadata": {
    "id": "3N6494dP92x2"
   },
   "source": [
    "'p1', 'p2', and 'p3' contains entries with '-' and '_' between the predictions. Remove the symbols using `str.replace`"
   ]
  },
  {
   "cell_type": "markdown",
   "metadata": {
    "id": "XAetfgwYyqsf"
   },
   "source": [
    "**Code**"
   ]
  },
  {
   "cell_type": "code",
   "execution_count": 50,
   "metadata": {
    "id": "bGSF1kd-shSs"
   },
   "outputs": [],
   "source": [
    "# Create a list of all the prediction columns\n",
    "predictions_list = ['p1', 'p2', 'p3']\n",
    "# alliterate over each list item to replace the symbols from the column entries.\n",
    "for item in predictions_list:\n",
    "    df_predictions_clean[item] = df_predictions_clean[item].str.replace('_', ' ').replace('-', ' ').str.title()"
   ]
  },
  {
   "cell_type": "markdown",
   "metadata": {
    "id": "I2wdhduwyskX"
   },
   "source": [
    "**Test**"
   ]
  },
  {
   "cell_type": "code",
   "execution_count": 51,
   "metadata": {
    "colab": {
     "base_uri": "https://localhost:8080/",
     "height": 833
    },
    "id": "YwyOb-pn92x2",
    "outputId": "fb187e62-a6e2-4ddd-eb41-2089e12829f9"
   },
   "outputs": [
    {
     "data": {
      "text/html": [
       "\n",
       "  <div id=\"df-c42c3350-7d4f-4aea-836b-3c51607bae3d\">\n",
       "    <div class=\"colab-df-container\">\n",
       "      <div>\n",
       "<style scoped>\n",
       "    .dataframe tbody tr th:only-of-type {\n",
       "        vertical-align: middle;\n",
       "    }\n",
       "\n",
       "    .dataframe tbody tr th {\n",
       "        vertical-align: top;\n",
       "    }\n",
       "\n",
       "    .dataframe thead th {\n",
       "        text-align: right;\n",
       "    }\n",
       "</style>\n",
       "<table border=\"1\" class=\"dataframe\">\n",
       "  <thead>\n",
       "    <tr style=\"text-align: right;\">\n",
       "      <th></th>\n",
       "      <th>p1</th>\n",
       "      <th>p2</th>\n",
       "      <th>p3</th>\n",
       "    </tr>\n",
       "  </thead>\n",
       "  <tbody>\n",
       "    <tr>\n",
       "      <th>0</th>\n",
       "      <td>Welsh Springer Spaniel</td>\n",
       "      <td>Collie</td>\n",
       "      <td>Shetland Sheepdog</td>\n",
       "    </tr>\n",
       "    <tr>\n",
       "      <th>1</th>\n",
       "      <td>Redbone</td>\n",
       "      <td>Miniature Pinscher</td>\n",
       "      <td>Rhodesian Ridgeback</td>\n",
       "    </tr>\n",
       "    <tr>\n",
       "      <th>2</th>\n",
       "      <td>German Shepherd</td>\n",
       "      <td>Malinois</td>\n",
       "      <td>Bloodhound</td>\n",
       "    </tr>\n",
       "    <tr>\n",
       "      <th>3</th>\n",
       "      <td>Rhodesian Ridgeback</td>\n",
       "      <td>Redbone</td>\n",
       "      <td>Miniature Pinscher</td>\n",
       "    </tr>\n",
       "    <tr>\n",
       "      <th>4</th>\n",
       "      <td>Miniature Pinscher</td>\n",
       "      <td>Rottweiler</td>\n",
       "      <td>Doberman</td>\n",
       "    </tr>\n",
       "    <tr>\n",
       "      <th>5</th>\n",
       "      <td>Bernese Mountain Dog</td>\n",
       "      <td>English Springer</td>\n",
       "      <td>Greater Swiss Mountain Dog</td>\n",
       "    </tr>\n",
       "    <tr>\n",
       "      <th>6</th>\n",
       "      <td>Box Turtle</td>\n",
       "      <td>Mud Turtle</td>\n",
       "      <td>Terrapin</td>\n",
       "    </tr>\n",
       "    <tr>\n",
       "      <th>7</th>\n",
       "      <td>Chow</td>\n",
       "      <td>Tibetan Mastiff</td>\n",
       "      <td>Fur Coat</td>\n",
       "    </tr>\n",
       "    <tr>\n",
       "      <th>8</th>\n",
       "      <td>Shopping Cart</td>\n",
       "      <td>Shopping Basket</td>\n",
       "      <td>Golden Retriever</td>\n",
       "    </tr>\n",
       "    <tr>\n",
       "      <th>9</th>\n",
       "      <td>Miniature Poodle</td>\n",
       "      <td>Komondor</td>\n",
       "      <td>Soft-Coated Wheaten Terrier</td>\n",
       "    </tr>\n",
       "    <tr>\n",
       "      <th>10</th>\n",
       "      <td>Golden Retriever</td>\n",
       "      <td>Tibetan Mastiff</td>\n",
       "      <td>Labrador Retriever</td>\n",
       "    </tr>\n",
       "    <tr>\n",
       "      <th>11</th>\n",
       "      <td>Gordon Setter</td>\n",
       "      <td>Yorkshire Terrier</td>\n",
       "      <td>Pekinese</td>\n",
       "    </tr>\n",
       "    <tr>\n",
       "      <th>12</th>\n",
       "      <td>Walker Hound</td>\n",
       "      <td>English Foxhound</td>\n",
       "      <td>Ibizan Hound</td>\n",
       "    </tr>\n",
       "    <tr>\n",
       "      <th>13</th>\n",
       "      <td>Pug</td>\n",
       "      <td>Bull Mastiff</td>\n",
       "      <td>French Bulldog</td>\n",
       "    </tr>\n",
       "    <tr>\n",
       "      <th>14</th>\n",
       "      <td>Bloodhound</td>\n",
       "      <td>German Shepherd</td>\n",
       "      <td>Malinois</td>\n",
       "    </tr>\n",
       "    <tr>\n",
       "      <th>15</th>\n",
       "      <td>Lhasa</td>\n",
       "      <td>Shih-Tzu</td>\n",
       "      <td>Dandie Dinmont</td>\n",
       "    </tr>\n",
       "    <tr>\n",
       "      <th>16</th>\n",
       "      <td>English Setter</td>\n",
       "      <td>Newfoundland</td>\n",
       "      <td>Borzoi</td>\n",
       "    </tr>\n",
       "    <tr>\n",
       "      <th>17</th>\n",
       "      <td>Hen</td>\n",
       "      <td>Cock</td>\n",
       "      <td>Partridge</td>\n",
       "    </tr>\n",
       "    <tr>\n",
       "      <th>18</th>\n",
       "      <td>Desktop Computer</td>\n",
       "      <td>Desk</td>\n",
       "      <td>Bookcase</td>\n",
       "    </tr>\n",
       "    <tr>\n",
       "      <th>19</th>\n",
       "      <td>Italian Greyhound</td>\n",
       "      <td>Toy Terrier</td>\n",
       "      <td>Basenji</td>\n",
       "    </tr>\n",
       "    <tr>\n",
       "      <th>20</th>\n",
       "      <td>Maltese Dog</td>\n",
       "      <td>Toy Poodle</td>\n",
       "      <td>Miniature Poodle</td>\n",
       "    </tr>\n",
       "    <tr>\n",
       "      <th>21</th>\n",
       "      <td>Three-Toed Sloth</td>\n",
       "      <td>Otter</td>\n",
       "      <td>Great Grey Owl</td>\n",
       "    </tr>\n",
       "    <tr>\n",
       "      <th>22</th>\n",
       "      <td>Ox</td>\n",
       "      <td>Newfoundland</td>\n",
       "      <td>Groenendael</td>\n",
       "    </tr>\n",
       "    <tr>\n",
       "      <th>23</th>\n",
       "      <td>Golden Retriever</td>\n",
       "      <td>Chesapeake Bay Retriever</td>\n",
       "      <td>Labrador Retriever</td>\n",
       "    </tr>\n",
       "    <tr>\n",
       "      <th>24</th>\n",
       "      <td>Malamute</td>\n",
       "      <td>Siberian Husky</td>\n",
       "      <td>Eskimo Dog</td>\n",
       "    </tr>\n",
       "  </tbody>\n",
       "</table>\n",
       "</div>\n",
       "      <button class=\"colab-df-convert\" onclick=\"convertToInteractive('df-c42c3350-7d4f-4aea-836b-3c51607bae3d')\"\n",
       "              title=\"Convert this dataframe to an interactive table.\"\n",
       "              style=\"display:none;\">\n",
       "        \n",
       "  <svg xmlns=\"http://www.w3.org/2000/svg\" height=\"24px\"viewBox=\"0 0 24 24\"\n",
       "       width=\"24px\">\n",
       "    <path d=\"M0 0h24v24H0V0z\" fill=\"none\"/>\n",
       "    <path d=\"M18.56 5.44l.94 2.06.94-2.06 2.06-.94-2.06-.94-.94-2.06-.94 2.06-2.06.94zm-11 1L8.5 8.5l.94-2.06 2.06-.94-2.06-.94L8.5 2.5l-.94 2.06-2.06.94zm10 10l.94 2.06.94-2.06 2.06-.94-2.06-.94-.94-2.06-.94 2.06-2.06.94z\"/><path d=\"M17.41 7.96l-1.37-1.37c-.4-.4-.92-.59-1.43-.59-.52 0-1.04.2-1.43.59L10.3 9.45l-7.72 7.72c-.78.78-.78 2.05 0 2.83L4 21.41c.39.39.9.59 1.41.59.51 0 1.02-.2 1.41-.59l7.78-7.78 2.81-2.81c.8-.78.8-2.07 0-2.86zM5.41 20L4 18.59l7.72-7.72 1.47 1.35L5.41 20z\"/>\n",
       "  </svg>\n",
       "      </button>\n",
       "      \n",
       "  <style>\n",
       "    .colab-df-container {\n",
       "      display:flex;\n",
       "      flex-wrap:wrap;\n",
       "      gap: 12px;\n",
       "    }\n",
       "\n",
       "    .colab-df-convert {\n",
       "      background-color: #E8F0FE;\n",
       "      border: none;\n",
       "      border-radius: 50%;\n",
       "      cursor: pointer;\n",
       "      display: none;\n",
       "      fill: #1967D2;\n",
       "      height: 32px;\n",
       "      padding: 0 0 0 0;\n",
       "      width: 32px;\n",
       "    }\n",
       "\n",
       "    .colab-df-convert:hover {\n",
       "      background-color: #E2EBFA;\n",
       "      box-shadow: 0px 1px 2px rgba(60, 64, 67, 0.3), 0px 1px 3px 1px rgba(60, 64, 67, 0.15);\n",
       "      fill: #174EA6;\n",
       "    }\n",
       "\n",
       "    [theme=dark] .colab-df-convert {\n",
       "      background-color: #3B4455;\n",
       "      fill: #D2E3FC;\n",
       "    }\n",
       "\n",
       "    [theme=dark] .colab-df-convert:hover {\n",
       "      background-color: #434B5C;\n",
       "      box-shadow: 0px 1px 3px 1px rgba(0, 0, 0, 0.15);\n",
       "      filter: drop-shadow(0px 1px 2px rgba(0, 0, 0, 0.3));\n",
       "      fill: #FFFFFF;\n",
       "    }\n",
       "  </style>\n",
       "\n",
       "      <script>\n",
       "        const buttonEl =\n",
       "          document.querySelector('#df-c42c3350-7d4f-4aea-836b-3c51607bae3d button.colab-df-convert');\n",
       "        buttonEl.style.display =\n",
       "          google.colab.kernel.accessAllowed ? 'block' : 'none';\n",
       "\n",
       "        async function convertToInteractive(key) {\n",
       "          const element = document.querySelector('#df-c42c3350-7d4f-4aea-836b-3c51607bae3d');\n",
       "          const dataTable =\n",
       "            await google.colab.kernel.invokeFunction('convertToInteractive',\n",
       "                                                     [key], {});\n",
       "          if (!dataTable) return;\n",
       "\n",
       "          const docLinkHtml = 'Like what you see? Visit the ' +\n",
       "            '<a target=\"_blank\" href=https://colab.research.google.com/notebooks/data_table.ipynb>data table notebook</a>'\n",
       "            + ' to learn more about interactive tables.';\n",
       "          element.innerHTML = '';\n",
       "          dataTable['output_type'] = 'display_data';\n",
       "          await google.colab.output.renderOutput(dataTable, element);\n",
       "          const docLink = document.createElement('div');\n",
       "          docLink.innerHTML = docLinkHtml;\n",
       "          element.appendChild(docLink);\n",
       "        }\n",
       "      </script>\n",
       "    </div>\n",
       "  </div>\n",
       "  "
      ],
      "text/plain": [
       "                        p1                        p2  \\\n",
       "0   Welsh Springer Spaniel                    Collie   \n",
       "1                  Redbone        Miniature Pinscher   \n",
       "2          German Shepherd                  Malinois   \n",
       "3      Rhodesian Ridgeback                   Redbone   \n",
       "4       Miniature Pinscher                Rottweiler   \n",
       "5     Bernese Mountain Dog          English Springer   \n",
       "6               Box Turtle                Mud Turtle   \n",
       "7                     Chow           Tibetan Mastiff   \n",
       "8            Shopping Cart           Shopping Basket   \n",
       "9         Miniature Poodle                  Komondor   \n",
       "10        Golden Retriever           Tibetan Mastiff   \n",
       "11           Gordon Setter         Yorkshire Terrier   \n",
       "12            Walker Hound          English Foxhound   \n",
       "13                     Pug              Bull Mastiff   \n",
       "14              Bloodhound           German Shepherd   \n",
       "15                   Lhasa                  Shih-Tzu   \n",
       "16          English Setter              Newfoundland   \n",
       "17                     Hen                      Cock   \n",
       "18        Desktop Computer                      Desk   \n",
       "19       Italian Greyhound               Toy Terrier   \n",
       "20             Maltese Dog                Toy Poodle   \n",
       "21        Three-Toed Sloth                     Otter   \n",
       "22                      Ox              Newfoundland   \n",
       "23        Golden Retriever  Chesapeake Bay Retriever   \n",
       "24                Malamute            Siberian Husky   \n",
       "\n",
       "                             p3  \n",
       "0             Shetland Sheepdog  \n",
       "1           Rhodesian Ridgeback  \n",
       "2                    Bloodhound  \n",
       "3            Miniature Pinscher  \n",
       "4                      Doberman  \n",
       "5    Greater Swiss Mountain Dog  \n",
       "6                      Terrapin  \n",
       "7                      Fur Coat  \n",
       "8              Golden Retriever  \n",
       "9   Soft-Coated Wheaten Terrier  \n",
       "10           Labrador Retriever  \n",
       "11                     Pekinese  \n",
       "12                 Ibizan Hound  \n",
       "13               French Bulldog  \n",
       "14                     Malinois  \n",
       "15               Dandie Dinmont  \n",
       "16                       Borzoi  \n",
       "17                    Partridge  \n",
       "18                     Bookcase  \n",
       "19                      Basenji  \n",
       "20             Miniature Poodle  \n",
       "21               Great Grey Owl  \n",
       "22                  Groenendael  \n",
       "23           Labrador Retriever  \n",
       "24                   Eskimo Dog  "
      ]
     },
     "execution_count": 51,
     "metadata": {},
     "output_type": "execute_result"
    }
   ],
   "source": [
    "df_predictions_clean.loc[:, predictions_list].head(25)"
   ]
  },
  {
   "cell_type": "markdown",
   "metadata": {
    "id": "Gg3OpH4EdqjY"
   },
   "source": [
    "### Tideness"
   ]
  },
  {
   "cell_type": "code",
   "execution_count": 52,
   "metadata": {
    "colab": {
     "base_uri": "https://localhost:8080/"
    },
    "id": "Vs7q3lZkOJ4N",
    "outputId": "67ff7d2d-96a1-4727-cf85-6f6f95225451"
   },
   "outputs": [
    {
     "name": "stdout",
     "output_type": "stream",
     "text": [
      "<class 'pandas.core.frame.DataFrame'>\n",
      "Int64Index: 2094 entries, 0 to 2355\n",
      "Data columns (total 13 columns):\n",
      " #   Column              Non-Null Count  Dtype              \n",
      "---  ------              --------------  -----              \n",
      " 0   tweet_id            2094 non-null   int64              \n",
      " 1   timestamp           2094 non-null   datetime64[ns, UTC]\n",
      " 2   source              2094 non-null   object             \n",
      " 3   text                2094 non-null   object             \n",
      " 4   expanded_urls       2094 non-null   object             \n",
      " 5   rating_numerator    2094 non-null   float64            \n",
      " 6   rating_denominator  2094 non-null   float64            \n",
      " 7   name                1392 non-null   object             \n",
      " 8   doggo               2094 non-null   object             \n",
      " 9   floofer             2094 non-null   object             \n",
      " 10  pupper              2094 non-null   object             \n",
      " 11  puppo               2094 non-null   object             \n",
      " 12  year_month          2094 non-null   object             \n",
      "dtypes: datetime64[ns, UTC](1), float64(2), int64(1), object(9)\n",
      "memory usage: 293.6+ KB\n"
     ]
    }
   ],
   "source": [
    "df_archive_clean.info()"
   ]
  },
  {
   "cell_type": "markdown",
   "metadata": {
    "id": "-_r3v0LEzGLd"
   },
   "source": [
    "#### Issue 1\n",
    "**Define**"
   ]
  },
  {
   "cell_type": "markdown",
   "metadata": {
    "id": "50_1g4Mxn9Lv"
   },
   "source": [
    "Create a single 'dog_stage' column using string concatenating on the columns ('doggo', 'floofer', 'pupper', 'puppo'). Replace 'None' with Nan `using pd.Series.replace` and finally Drop redundant columns using `pd.DataFrame.drop`"
   ]
  },
  {
   "cell_type": "markdown",
   "metadata": {
    "id": "2O6U3o8MzM-Q"
   },
   "source": [
    "**Code**"
   ]
  },
  {
   "cell_type": "code",
   "execution_count": 53,
   "metadata": {
    "id": "44ARanWkvhL_"
   },
   "outputs": [],
   "source": [
    "df_archive_clean['dog_stage'] = df_archive_clean.doggo + df_archive_clean.floofer + df_archive_clean.pupper + df_archive_clean.puppo\n",
    "df_archive_clean.dog_stage = df_archive_clean.dog_stage.str.replace('None', '').replace({'': np.nan})"
   ]
  },
  {
   "cell_type": "markdown",
   "metadata": {
    "id": "rDbvhcLQzRYu"
   },
   "source": [
    "Test"
   ]
  },
  {
   "cell_type": "code",
   "execution_count": 54,
   "metadata": {
    "colab": {
     "base_uri": "https://localhost:8080/"
    },
    "id": "_6y0EU3SoNma",
    "outputId": "8be90c2a-c5f3-4504-892c-60ea7c84c72f"
   },
   "outputs": [
    {
     "data": {
      "text/plain": [
       "pupper          220\n",
       "doggo            72\n",
       "puppo            23\n",
       "floofer           9\n",
       "doggopupper       9\n",
       "doggopuppo        1\n",
       "doggofloofer      1\n",
       "Name: dog_stage, dtype: int64"
      ]
     },
     "execution_count": 54,
     "metadata": {},
     "output_type": "execute_result"
    }
   ],
   "source": [
    "df_archive_clean.dog_stage.value_counts()"
   ]
  },
  {
   "cell_type": "markdown",
   "metadata": {
    "id": "aA090EWI08_E"
   },
   "source": [
    "**Code**\n",
    "\n",
    "Set all tweets with two more dog stages to Nan."
   ]
  },
  {
   "cell_type": "code",
   "execution_count": 55,
   "metadata": {
    "id": "TH_TfnKP09TW"
   },
   "outputs": [],
   "source": [
    "# Dict of key value pairs to find and replace with.\n",
    "dog_stage_to_replace = {'doggopupper': np.nan,\n",
    "                  'doggopuppo': np.nan,\n",
    "                  'doggofloofer': np.nan,\n",
    "                  'None': np.nan}\n",
    "# Iterate over all key-value pairs in dictionary\n",
    "for key, value in dog_stage_to_replace.items():\n",
    "    df_archive_clean.dog_stage = df_archive_clean.dog_stage.replace(key, value)"
   ]
  },
  {
   "cell_type": "markdown",
   "metadata": {
    "id": "gTMbVDwizskG"
   },
   "source": [
    "**Test**"
   ]
  },
  {
   "cell_type": "code",
   "execution_count": 56,
   "metadata": {
    "colab": {
     "base_uri": "https://localhost:8080/"
    },
    "id": "9knPDJ-w63YZ",
    "outputId": "bb78dff2-0e03-4c26-9566-187d2efc8a34"
   },
   "outputs": [
    {
     "data": {
      "text/plain": [
       "pupper     220\n",
       "doggo       72\n",
       "puppo       23\n",
       "floofer      9\n",
       "Name: dog_stage, dtype: int64"
      ]
     },
     "execution_count": 56,
     "metadata": {},
     "output_type": "execute_result"
    }
   ],
   "source": [
    "# Test using pd.Series.value_counts\n",
    "df_archive_clean.dog_stage.value_counts()"
   ]
  },
  {
   "cell_type": "markdown",
   "metadata": {
    "id": "Dc5baC_LsqPa"
   },
   "source": [
    "doggo', 'floofer', 'pupper', 'puppo' columns are redundant columns. Drop redundant columns using `pd.DataFrame.drop`"
   ]
  },
  {
   "cell_type": "code",
   "execution_count": 57,
   "metadata": {
    "id": "47kLNaNpvhL_"
   },
   "outputs": [],
   "source": [
    "# drop redundant columns using DataFrame.drop\n",
    "df_archive_clean.drop(['doggo', 'floofer', 'pupper', 'puppo'], axis=1, inplace=True)"
   ]
  },
  {
   "cell_type": "markdown",
   "metadata": {
    "id": "0thMzvN7z8bf"
   },
   "source": [
    "**Test**"
   ]
  },
  {
   "cell_type": "code",
   "execution_count": 58,
   "metadata": {
    "colab": {
     "base_uri": "https://localhost:8080/"
    },
    "id": "IXg67zCXpYYU",
    "outputId": "049ee2de-6298-42ee-92d6-43e0157a41ec"
   },
   "outputs": [
    {
     "name": "stdout",
     "output_type": "stream",
     "text": [
      "<class 'pandas.core.frame.DataFrame'>\n",
      "Int64Index: 2094 entries, 0 to 2355\n",
      "Data columns (total 10 columns):\n",
      " #   Column              Non-Null Count  Dtype              \n",
      "---  ------              --------------  -----              \n",
      " 0   tweet_id            2094 non-null   int64              \n",
      " 1   timestamp           2094 non-null   datetime64[ns, UTC]\n",
      " 2   source              2094 non-null   object             \n",
      " 3   text                2094 non-null   object             \n",
      " 4   expanded_urls       2094 non-null   object             \n",
      " 5   rating_numerator    2094 non-null   float64            \n",
      " 6   rating_denominator  2094 non-null   float64            \n",
      " 7   name                1392 non-null   object             \n",
      " 8   year_month          2094 non-null   object             \n",
      " 9   dog_stage           324 non-null    object             \n",
      "dtypes: datetime64[ns, UTC](1), float64(2), int64(1), object(6)\n",
      "memory usage: 244.5+ KB\n"
     ]
    }
   ],
   "source": [
    "# Test using DataFrame.info\n",
    "df_archive_clean.info()"
   ]
  },
  {
   "cell_type": "markdown",
   "metadata": {
    "id": "4CBhQsLc07Hk"
   },
   "source": [
    "#### Issue 2\n",
    "**Define**"
   ]
  },
  {
   "cell_type": "markdown",
   "metadata": {
    "id": "KpVvZQCfid--"
   },
   "source": [
    "Multiple DataFrames were created for each datasets. Merge all dataset into one single dataset called df_clean using `pd.DataFrame.merge`"
   ]
  },
  {
   "cell_type": "markdown",
   "metadata": {
    "id": "vQTfWURu0--s"
   },
   "source": [
    "**Code**"
   ]
  },
  {
   "cell_type": "code",
   "execution_count": 59,
   "metadata": {
    "id": "7COV-ASDdSJ4"
   },
   "outputs": [],
   "source": [
    "df_clean = df_archive_clean.merge(df_twitter_api_clean, on='tweet_id', how='inner').merge(df_predictions_clean, on='tweet_id', how='inner')"
   ]
  },
  {
   "cell_type": "markdown",
   "metadata": {
    "id": "f5ca3C0X1BL9"
   },
   "source": [
    "**Test**"
   ]
  },
  {
   "cell_type": "code",
   "execution_count": 60,
   "metadata": {
    "colab": {
     "base_uri": "https://localhost:8080/"
    },
    "id": "aRXUygZ5dRVk",
    "outputId": "79ec55a8-afb8-41ac-e0c5-d285422ea7b4"
   },
   "outputs": [
    {
     "name": "stdout",
     "output_type": "stream",
     "text": [
      "<class 'pandas.core.frame.DataFrame'>\n",
      "Int64Index: 1963 entries, 0 to 1962\n",
      "Data columns (total 24 columns):\n",
      " #   Column              Non-Null Count  Dtype              \n",
      "---  ------              --------------  -----              \n",
      " 0   tweet_id            1963 non-null   int64              \n",
      " 1   timestamp           1963 non-null   datetime64[ns, UTC]\n",
      " 2   source              1963 non-null   object             \n",
      " 3   text                1963 non-null   object             \n",
      " 4   expanded_urls       1963 non-null   object             \n",
      " 5   rating_numerator    1963 non-null   float64            \n",
      " 6   rating_denominator  1963 non-null   float64            \n",
      " 7   name                1344 non-null   object             \n",
      " 8   year_month          1963 non-null   object             \n",
      " 9   dog_stage           292 non-null    object             \n",
      " 10  retweet_count       1963 non-null   int64              \n",
      " 11  favorite_count      1963 non-null   int64              \n",
      " 12  followers_count     1963 non-null   int64              \n",
      " 13  jpg_url             1963 non-null   object             \n",
      " 14  img_num             1963 non-null   int64              \n",
      " 15  p1                  1963 non-null   object             \n",
      " 16  p1_conf             1963 non-null   float64            \n",
      " 17  p1_dog              1963 non-null   bool               \n",
      " 18  p2                  1963 non-null   object             \n",
      " 19  p2_conf             1963 non-null   float64            \n",
      " 20  p2_dog              1963 non-null   bool               \n",
      " 21  p3                  1963 non-null   object             \n",
      " 22  p3_conf             1963 non-null   float64            \n",
      " 23  p3_dog              1963 non-null   bool               \n",
      "dtypes: bool(3), datetime64[ns, UTC](1), float64(5), int64(5), object(10)\n",
      "memory usage: 343.1+ KB\n"
     ]
    }
   ],
   "source": [
    "df_clean.info()"
   ]
  },
  {
   "cell_type": "markdown",
   "metadata": {
    "id": "a_itFXeQjHHL"
   },
   "source": [
    "<a id=\"store\"></a>\n",
    "# Step 4: Storing Data\n",
    "Save df_clean as cvs file."
   ]
  },
  {
   "cell_type": "code",
   "execution_count": 61,
   "metadata": {
    "id": "nqmlI6I_jUaw"
   },
   "outputs": [],
   "source": [
    "df_clean.to_csv('twitter_archive_master.csv', index= False)"
   ]
  },
  {
   "cell_type": "markdown",
   "metadata": {
    "id": "G-B4R8nAl2U4"
   },
   "source": [
    "<a id=\"visualize\"></a>\n",
    "# Step 5: Analyzing and Visualizing Data"
   ]
  },
  {
   "cell_type": "markdown",
   "metadata": {
    "id": "CMjFpqGMJeIj"
   },
   "source": [
    "1. What is the average number of tweets per year?"
   ]
  },
  {
   "cell_type": "code",
   "execution_count": 62,
   "metadata": {
    "colab": {
     "base_uri": "https://localhost:8080/"
    },
    "id": "mh_CrdMftsXr",
    "outputId": "b1ad59fa-2746-45f9-9a19-d9b36c8b83a8"
   },
   "outputs": [
    {
     "data": {
      "text/plain": [
       "timestamp\n",
       "2015    54.500000\n",
       "2016    79.916667\n",
       "2017    29.166667\n",
       "dtype: float64"
      ]
     },
     "execution_count": 62,
     "metadata": {},
     "output_type": "execute_result"
    }
   ],
   "source": [
    "# Using the cross tabulation method to get the frequery of tweet and then calculate the mean.\n",
    "annual_num_tweets = pd.crosstab(df_clean.timestamp.dt.month, df_clean.timestamp.dt.year)\n",
    "annual_num_tweets.mean()"
   ]
  },
  {
   "cell_type": "markdown",
   "metadata": {
    "id": "71-NzGuaK1pR"
   },
   "source": [
    "We are limited with tweets for the year 2015 and 2017 as not not all months are represented, howerever, I found that on average the WeRateDogs page in the year 2016 tweeted **≈ 80 times every month**."
   ]
  },
  {
   "cell_type": "markdown",
   "metadata": {
    "id": "2ll8NtnZ92x4"
   },
   "source": [
    "2. What is the highest number of tweets ever tweeted?"
   ]
  },
  {
   "cell_type": "code",
   "execution_count": 63,
   "metadata": {
    "colab": {
     "base_uri": "https://localhost:8080/",
     "height": 457
    },
    "id": "udN1cNlE92x4",
    "outputId": "b0de140d-5b4d-4ae5-e2c8-6b3e709e252a"
   },
   "outputs": [
    {
     "data": {
      "text/html": [
       "\n",
       "  <div id=\"df-1c759f6c-96cf-4269-8659-523e88b02ab8\">\n",
       "    <div class=\"colab-df-container\">\n",
       "      <div>\n",
       "<style scoped>\n",
       "    .dataframe tbody tr th:only-of-type {\n",
       "        vertical-align: middle;\n",
       "    }\n",
       "\n",
       "    .dataframe tbody tr th {\n",
       "        vertical-align: top;\n",
       "    }\n",
       "\n",
       "    .dataframe thead th {\n",
       "        text-align: right;\n",
       "    }\n",
       "</style>\n",
       "<table border=\"1\" class=\"dataframe\">\n",
       "  <thead>\n",
       "    <tr style=\"text-align: right;\">\n",
       "      <th>timestamp</th>\n",
       "      <th>2015</th>\n",
       "      <th>2016</th>\n",
       "      <th>2017</th>\n",
       "    </tr>\n",
       "    <tr>\n",
       "      <th>timestamp</th>\n",
       "      <th></th>\n",
       "      <th></th>\n",
       "      <th></th>\n",
       "    </tr>\n",
       "  </thead>\n",
       "  <tbody>\n",
       "    <tr>\n",
       "      <th>1</th>\n",
       "      <td>0</td>\n",
       "      <td>166</td>\n",
       "      <td>66</td>\n",
       "    </tr>\n",
       "    <tr>\n",
       "      <th>2</th>\n",
       "      <td>0</td>\n",
       "      <td>108</td>\n",
       "      <td>63</td>\n",
       "    </tr>\n",
       "    <tr>\n",
       "      <th>3</th>\n",
       "      <td>0</td>\n",
       "      <td>118</td>\n",
       "      <td>45</td>\n",
       "    </tr>\n",
       "    <tr>\n",
       "      <th>4</th>\n",
       "      <td>0</td>\n",
       "      <td>54</td>\n",
       "      <td>40</td>\n",
       "    </tr>\n",
       "    <tr>\n",
       "      <th>5</th>\n",
       "      <td>0</td>\n",
       "      <td>56</td>\n",
       "      <td>42</td>\n",
       "    </tr>\n",
       "    <tr>\n",
       "      <th>6</th>\n",
       "      <td>0</td>\n",
       "      <td>79</td>\n",
       "      <td>43</td>\n",
       "    </tr>\n",
       "    <tr>\n",
       "      <th>7</th>\n",
       "      <td>0</td>\n",
       "      <td>87</td>\n",
       "      <td>49</td>\n",
       "    </tr>\n",
       "    <tr>\n",
       "      <th>8</th>\n",
       "      <td>0</td>\n",
       "      <td>58</td>\n",
       "      <td>2</td>\n",
       "    </tr>\n",
       "    <tr>\n",
       "      <th>9</th>\n",
       "      <td>0</td>\n",
       "      <td>62</td>\n",
       "      <td>0</td>\n",
       "    </tr>\n",
       "    <tr>\n",
       "      <th>10</th>\n",
       "      <td>0</td>\n",
       "      <td>65</td>\n",
       "      <td>0</td>\n",
       "    </tr>\n",
       "    <tr>\n",
       "      <th>11</th>\n",
       "      <td>295</td>\n",
       "      <td>52</td>\n",
       "      <td>0</td>\n",
       "    </tr>\n",
       "    <tr>\n",
       "      <th>12</th>\n",
       "      <td>359</td>\n",
       "      <td>54</td>\n",
       "      <td>0</td>\n",
       "    </tr>\n",
       "  </tbody>\n",
       "</table>\n",
       "</div>\n",
       "      <button class=\"colab-df-convert\" onclick=\"convertToInteractive('df-1c759f6c-96cf-4269-8659-523e88b02ab8')\"\n",
       "              title=\"Convert this dataframe to an interactive table.\"\n",
       "              style=\"display:none;\">\n",
       "        \n",
       "  <svg xmlns=\"http://www.w3.org/2000/svg\" height=\"24px\"viewBox=\"0 0 24 24\"\n",
       "       width=\"24px\">\n",
       "    <path d=\"M0 0h24v24H0V0z\" fill=\"none\"/>\n",
       "    <path d=\"M18.56 5.44l.94 2.06.94-2.06 2.06-.94-2.06-.94-.94-2.06-.94 2.06-2.06.94zm-11 1L8.5 8.5l.94-2.06 2.06-.94-2.06-.94L8.5 2.5l-.94 2.06-2.06.94zm10 10l.94 2.06.94-2.06 2.06-.94-2.06-.94-.94-2.06-.94 2.06-2.06.94z\"/><path d=\"M17.41 7.96l-1.37-1.37c-.4-.4-.92-.59-1.43-.59-.52 0-1.04.2-1.43.59L10.3 9.45l-7.72 7.72c-.78.78-.78 2.05 0 2.83L4 21.41c.39.39.9.59 1.41.59.51 0 1.02-.2 1.41-.59l7.78-7.78 2.81-2.81c.8-.78.8-2.07 0-2.86zM5.41 20L4 18.59l7.72-7.72 1.47 1.35L5.41 20z\"/>\n",
       "  </svg>\n",
       "      </button>\n",
       "      \n",
       "  <style>\n",
       "    .colab-df-container {\n",
       "      display:flex;\n",
       "      flex-wrap:wrap;\n",
       "      gap: 12px;\n",
       "    }\n",
       "\n",
       "    .colab-df-convert {\n",
       "      background-color: #E8F0FE;\n",
       "      border: none;\n",
       "      border-radius: 50%;\n",
       "      cursor: pointer;\n",
       "      display: none;\n",
       "      fill: #1967D2;\n",
       "      height: 32px;\n",
       "      padding: 0 0 0 0;\n",
       "      width: 32px;\n",
       "    }\n",
       "\n",
       "    .colab-df-convert:hover {\n",
       "      background-color: #E2EBFA;\n",
       "      box-shadow: 0px 1px 2px rgba(60, 64, 67, 0.3), 0px 1px 3px 1px rgba(60, 64, 67, 0.15);\n",
       "      fill: #174EA6;\n",
       "    }\n",
       "\n",
       "    [theme=dark] .colab-df-convert {\n",
       "      background-color: #3B4455;\n",
       "      fill: #D2E3FC;\n",
       "    }\n",
       "\n",
       "    [theme=dark] .colab-df-convert:hover {\n",
       "      background-color: #434B5C;\n",
       "      box-shadow: 0px 1px 3px 1px rgba(0, 0, 0, 0.15);\n",
       "      filter: drop-shadow(0px 1px 2px rgba(0, 0, 0, 0.3));\n",
       "      fill: #FFFFFF;\n",
       "    }\n",
       "  </style>\n",
       "\n",
       "      <script>\n",
       "        const buttonEl =\n",
       "          document.querySelector('#df-1c759f6c-96cf-4269-8659-523e88b02ab8 button.colab-df-convert');\n",
       "        buttonEl.style.display =\n",
       "          google.colab.kernel.accessAllowed ? 'block' : 'none';\n",
       "\n",
       "        async function convertToInteractive(key) {\n",
       "          const element = document.querySelector('#df-1c759f6c-96cf-4269-8659-523e88b02ab8');\n",
       "          const dataTable =\n",
       "            await google.colab.kernel.invokeFunction('convertToInteractive',\n",
       "                                                     [key], {});\n",
       "          if (!dataTable) return;\n",
       "\n",
       "          const docLinkHtml = 'Like what you see? Visit the ' +\n",
       "            '<a target=\"_blank\" href=https://colab.research.google.com/notebooks/data_table.ipynb>data table notebook</a>'\n",
       "            + ' to learn more about interactive tables.';\n",
       "          element.innerHTML = '';\n",
       "          dataTable['output_type'] = 'display_data';\n",
       "          await google.colab.output.renderOutput(dataTable, element);\n",
       "          const docLink = document.createElement('div');\n",
       "          docLink.innerHTML = docLinkHtml;\n",
       "          element.appendChild(docLink);\n",
       "        }\n",
       "      </script>\n",
       "    </div>\n",
       "  </div>\n",
       "  "
      ],
      "text/plain": [
       "timestamp  2015  2016  2017\n",
       "timestamp                  \n",
       "1             0   166    66\n",
       "2             0   108    63\n",
       "3             0   118    45\n",
       "4             0    54    40\n",
       "5             0    56    42\n",
       "6             0    79    43\n",
       "7             0    87    49\n",
       "8             0    58     2\n",
       "9             0    62     0\n",
       "10            0    65     0\n",
       "11          295    52     0\n",
       "12          359    54     0"
      ]
     },
     "execution_count": 63,
     "metadata": {},
     "output_type": "execute_result"
    }
   ],
   "source": [
    "# Number of tweets per year\n",
    "annual_num_tweets"
   ]
  },
  {
   "cell_type": "markdown",
   "metadata": {
    "id": "jcsWxe9k92x4"
   },
   "source": [
    "The highest number of tweets were sent back in 2015 with December month getting 359 tweets."
   ]
  },
  {
   "cell_type": "markdown",
   "metadata": {
    "id": "30wJ_rZ892x4"
   },
   "source": [
    "Using a line chart to virtualize the above"
   ]
  },
  {
   "cell_type": "code",
   "execution_count": 64,
   "metadata": {
    "colab": {
     "base_uri": "https://localhost:8080/",
     "height": 628
    },
    "id": "QmiQdKmo6WaI",
    "outputId": "565bb06f-288e-43d8-90dd-f29dbbeaf7d3"
   },
   "outputs": [
    {
     "data": {
      "image/png": "[encoded data removed]",
      "text/plain": [
       "<Figure size 1440x720 with 1 Axes>"
      ]
     },
     "metadata": {
      "needs_background": "light"
     },
     "output_type": "display_data"
    }
   ],
   "source": [
    "fig, ax = plt.subplots(figsize=(20, 10))\n",
    "annual_num_tweets.plot(kind='line', ax=ax, xlim=1, ylim=0, style='o-', use_index=True)\n",
    "ax.set_xlabel('Time (month)', fontsize=15)\n",
    "ax.set_ylabel('Counts', fontsize=15)\n",
    "ax.set_title(\"Number of tweets over 3 years\", fontsize=15)\n",
    "plt.legend(title='Year')\n",
    "plt.show()"
   ]
  },
  {
   "cell_type": "markdown",
   "metadata": {
    "id": "0_b21Yvn92x5"
   },
   "source": [
    "As expected both November and December 2015 have the highest number of tweets tweeted. Both 2016 and 2017 tweets were averaging between 45 and 80 tweets."
   ]
  },
  {
   "cell_type": "markdown",
   "metadata": {
    "id": "npBHQGky92x5"
   },
   "source": [
    "Extended analysis of the number of tweets but now using year_month to track the progress"
   ]
  },
  {
   "cell_type": "code",
   "execution_count": 65,
   "metadata": {
    "colab": {
     "base_uri": "https://localhost:8080/"
    },
    "id": "FDejBb2NY2JA",
    "outputId": "7d69dd2c-62e8-4a9d-f331-50ab4e8a4dd8"
   },
   "outputs": [
    {
     "data": {
      "text/plain": [
       "year_month\n",
       "2015-11    295\n",
       "2015-12    359\n",
       "2016-01    166\n",
       "2016-02    108\n",
       "2016-03    118\n",
       "2016-04     54\n",
       "2016-05     56\n",
       "2016-06     79\n",
       "2016-07     87\n",
       "2016-08     58\n",
       "2016-09     62\n",
       "2016-10     65\n",
       "2016-11     52\n",
       "2016-12     54\n",
       "2017-01     66\n",
       "2017-02     63\n",
       "2017-03     45\n",
       "2017-04     40\n",
       "2017-05     42\n",
       "2017-06     43\n",
       "2017-07     49\n",
       "2017-08      2\n",
       "Name: tweet_id, dtype: int64"
      ]
     },
     "execution_count": 65,
     "metadata": {},
     "output_type": "execute_result"
    }
   ],
   "source": [
    "standard_group_year_month = df_clean.groupby('year_month')\n",
    "num_of_tweet_per_month = standard_group_year_month['tweet_id'].count()\n",
    "num_of_tweet_per_month"
   ]
  },
  {
   "cell_type": "markdown",
   "metadata": {
    "id": "lN3ktk-n11nC"
   },
   "source": [
    "Using a line chart to virtualize the above"
   ]
  },
  {
   "cell_type": "code",
   "execution_count": 66,
   "metadata": {
    "colab": {
     "base_uri": "https://localhost:8080/",
     "height": 737
    },
    "id": "Uql7iM74Y2JA",
    "outputId": "b436100f-5107-4517-d3aa-9a452e2606db"
   },
   "outputs": [
    {
     "data": {
      "image/png": "[encoded data removed]",
      "text/plain": [
       "<Figure size 1440x864 with 1 Axes>"
      ]
     },
     "metadata": {
      "needs_background": "light"
     },
     "output_type": "display_data"
    }
   ],
   "source": [
    "fig, ax = plt.subplots(figsize=(20, 12))\n",
    "ax.plot(num_of_tweet_per_month.index, num_of_tweet_per_month, 'ro-', label='Tweets')\n",
    "ax.set_xlabel('Time', fontsize=15)\n",
    "ax.set_ylabel('Tweet Count', fontsize=15)\n",
    "ax.set_title('Number of Tweets over Time', fontsize=15)\n",
    "ax.legend(title='Counts')\n",
    "plt.show()"
   ]
  },
  {
   "cell_type": "markdown",
   "metadata": {
    "id": "NjzDgrRj92x5"
   },
   "source": [
    "There was a huge drop in the number of tweets tweeted from the year 2015 December to 2017 July."
   ]
  },
  {
   "cell_type": "markdown",
   "metadata": {
    "id": "v0vQ8QEOXR0g"
   },
   "source": [
    "3. What is the average retweet_count, favorite_count, and followers_count per month?"
   ]
  },
  {
   "cell_type": "code",
   "execution_count": 67,
   "metadata": {
    "colab": {
     "base_uri": "https://localhost:8080/",
     "height": 805
    },
    "id": "nbZtwZ0L6Wpo",
    "outputId": "35b86989-d4b2-4417-9aa5-0bbde691d41e"
   },
   "outputs": [
    {
     "name": "stderr",
     "output_type": "stream",
     "text": [
      "/usr/local/lib/python3.7/dist-packages/ipykernel_launcher.py:1: FutureWarning: Indexing with multiple keys (implicitly converted to a tuple of keys) will be deprecated, use a list instead.\n",
      "  \"\"\"Entry point for launching an IPython kernel.\n"
     ]
    },
    {
     "data": {
      "text/html": [
       "\n",
       "  <div id=\"df-7556e7dc-8746-469e-855e-a070c49a534e\">\n",
       "    <div class=\"colab-df-container\">\n",
       "      <div>\n",
       "<style scoped>\n",
       "    .dataframe tbody tr th:only-of-type {\n",
       "        vertical-align: middle;\n",
       "    }\n",
       "\n",
       "    .dataframe tbody tr th {\n",
       "        vertical-align: top;\n",
       "    }\n",
       "\n",
       "    .dataframe thead th {\n",
       "        text-align: right;\n",
       "    }\n",
       "</style>\n",
       "<table border=\"1\" class=\"dataframe\">\n",
       "  <thead>\n",
       "    <tr style=\"text-align: right;\">\n",
       "      <th></th>\n",
       "      <th>retweet_count</th>\n",
       "      <th>favorite_count</th>\n",
       "      <th>followers_count</th>\n",
       "    </tr>\n",
       "    <tr>\n",
       "      <th>year_month</th>\n",
       "      <th></th>\n",
       "      <th></th>\n",
       "      <th></th>\n",
       "    </tr>\n",
       "  </thead>\n",
       "  <tbody>\n",
       "    <tr>\n",
       "      <th>2015-11</th>\n",
       "      <td>439.169492</td>\n",
       "      <td>1083.942373</td>\n",
       "      <td>9.372626e+06</td>\n",
       "    </tr>\n",
       "    <tr>\n",
       "      <th>2015-12</th>\n",
       "      <td>1195.994429</td>\n",
       "      <td>2992.724234</td>\n",
       "      <td>9.372635e+06</td>\n",
       "    </tr>\n",
       "    <tr>\n",
       "      <th>2016-01</th>\n",
       "      <td>1221.716867</td>\n",
       "      <td>3415.963855</td>\n",
       "      <td>9.372663e+06</td>\n",
       "    </tr>\n",
       "    <tr>\n",
       "      <th>2016-02</th>\n",
       "      <td>1304.018519</td>\n",
       "      <td>3722.888889</td>\n",
       "      <td>9.372589e+06</td>\n",
       "    </tr>\n",
       "    <tr>\n",
       "      <th>2016-03</th>\n",
       "      <td>1316.669492</td>\n",
       "      <td>3900.923729</td>\n",
       "      <td>9.372589e+06</td>\n",
       "    </tr>\n",
       "    <tr>\n",
       "      <th>2016-04</th>\n",
       "      <td>1292.759259</td>\n",
       "      <td>4051.240741</td>\n",
       "      <td>9.372632e+06</td>\n",
       "    </tr>\n",
       "    <tr>\n",
       "      <th>2016-05</th>\n",
       "      <td>1784.535714</td>\n",
       "      <td>5386.000000</td>\n",
       "      <td>9.372607e+06</td>\n",
       "    </tr>\n",
       "    <tr>\n",
       "      <th>2016-06</th>\n",
       "      <td>3576.050633</td>\n",
       "      <td>9164.075949</td>\n",
       "      <td>9.372659e+06</td>\n",
       "    </tr>\n",
       "    <tr>\n",
       "      <th>2016-07</th>\n",
       "      <td>2017.517241</td>\n",
       "      <td>6046.862069</td>\n",
       "      <td>9.372608e+06</td>\n",
       "    </tr>\n",
       "    <tr>\n",
       "      <th>2016-08</th>\n",
       "      <td>2886.413793</td>\n",
       "      <td>8713.137931</td>\n",
       "      <td>9.372658e+06</td>\n",
       "    </tr>\n",
       "    <tr>\n",
       "      <th>2016-09</th>\n",
       "      <td>2920.306452</td>\n",
       "      <td>9607.177419</td>\n",
       "      <td>9.372565e+06</td>\n",
       "    </tr>\n",
       "    <tr>\n",
       "      <th>2016-10</th>\n",
       "      <td>3407.892308</td>\n",
       "      <td>11226.292308</td>\n",
       "      <td>9.372668e+06</td>\n",
       "    </tr>\n",
       "    <tr>\n",
       "      <th>2016-11</th>\n",
       "      <td>3928.865385</td>\n",
       "      <td>12575.846154</td>\n",
       "      <td>9.372586e+06</td>\n",
       "    </tr>\n",
       "    <tr>\n",
       "      <th>2016-12</th>\n",
       "      <td>4463.259259</td>\n",
       "      <td>14242.851852</td>\n",
       "      <td>9.372623e+06</td>\n",
       "    </tr>\n",
       "    <tr>\n",
       "      <th>2017-01</th>\n",
       "      <td>5171.818182</td>\n",
       "      <td>17024.787879</td>\n",
       "      <td>9.372589e+06</td>\n",
       "    </tr>\n",
       "    <tr>\n",
       "      <th>2017-02</th>\n",
       "      <td>3485.650794</td>\n",
       "      <td>15848.873016</td>\n",
       "      <td>9.372575e+06</td>\n",
       "    </tr>\n",
       "    <tr>\n",
       "      <th>2017-03</th>\n",
       "      <td>3765.066667</td>\n",
       "      <td>17094.044444</td>\n",
       "      <td>9.372561e+06</td>\n",
       "    </tr>\n",
       "    <tr>\n",
       "      <th>2017-04</th>\n",
       "      <td>4753.625000</td>\n",
       "      <td>20175.750000</td>\n",
       "      <td>9.372612e+06</td>\n",
       "    </tr>\n",
       "    <tr>\n",
       "      <th>2017-05</th>\n",
       "      <td>6363.690476</td>\n",
       "      <td>26055.428571</td>\n",
       "      <td>9.372651e+06</td>\n",
       "    </tr>\n",
       "    <tr>\n",
       "      <th>2017-06</th>\n",
       "      <td>5315.069767</td>\n",
       "      <td>25075.558140</td>\n",
       "      <td>9.372608e+06</td>\n",
       "    </tr>\n",
       "    <tr>\n",
       "      <th>2017-07</th>\n",
       "      <td>5574.224490</td>\n",
       "      <td>27777.632653</td>\n",
       "      <td>9.372536e+06</td>\n",
       "    </tr>\n",
       "    <tr>\n",
       "      <th>2017-08</th>\n",
       "      <td>6109.000000</td>\n",
       "      <td>31418.000000</td>\n",
       "      <td>9.372472e+06</td>\n",
       "    </tr>\n",
       "  </tbody>\n",
       "</table>\n",
       "</div>\n",
       "      <button class=\"colab-df-convert\" onclick=\"convertToInteractive('df-7556e7dc-8746-469e-855e-a070c49a534e')\"\n",
       "              title=\"Convert this dataframe to an interactive table.\"\n",
       "              style=\"display:none;\">\n",
       "        \n",
       "  <svg xmlns=\"http://www.w3.org/2000/svg\" height=\"24px\"viewBox=\"0 0 24 24\"\n",
       "       width=\"24px\">\n",
       "    <path d=\"M0 0h24v24H0V0z\" fill=\"none\"/>\n",
       "    <path d=\"M18.56 5.44l.94 2.06.94-2.06 2.06-.94-2.06-.94-.94-2.06-.94 2.06-2.06.94zm-11 1L8.5 8.5l.94-2.06 2.06-.94-2.06-.94L8.5 2.5l-.94 2.06-2.06.94zm10 10l.94 2.06.94-2.06 2.06-.94-2.06-.94-.94-2.06-.94 2.06-2.06.94z\"/><path d=\"M17.41 7.96l-1.37-1.37c-.4-.4-.92-.59-1.43-.59-.52 0-1.04.2-1.43.59L10.3 9.45l-7.72 7.72c-.78.78-.78 2.05 0 2.83L4 21.41c.39.39.9.59 1.41.59.51 0 1.02-.2 1.41-.59l7.78-7.78 2.81-2.81c.8-.78.8-2.07 0-2.86zM5.41 20L4 18.59l7.72-7.72 1.47 1.35L5.41 20z\"/>\n",
       "  </svg>\n",
       "      </button>\n",
       "      \n",
       "  <style>\n",
       "    .colab-df-container {\n",
       "      display:flex;\n",
       "      flex-wrap:wrap;\n",
       "      gap: 12px;\n",
       "    }\n",
       "\n",
       "    .colab-df-convert {\n",
       "      background-color: #E8F0FE;\n",
       "      border: none;\n",
       "      border-radius: 50%;\n",
       "      cursor: pointer;\n",
       "      display: none;\n",
       "      fill: #1967D2;\n",
       "      height: 32px;\n",
       "      padding: 0 0 0 0;\n",
       "      width: 32px;\n",
       "    }\n",
       "\n",
       "    .colab-df-convert:hover {\n",
       "      background-color: #E2EBFA;\n",
       "      box-shadow: 0px 1px 2px rgba(60, 64, 67, 0.3), 0px 1px 3px 1px rgba(60, 64, 67, 0.15);\n",
       "      fill: #174EA6;\n",
       "    }\n",
       "\n",
       "    [theme=dark] .colab-df-convert {\n",
       "      background-color: #3B4455;\n",
       "      fill: #D2E3FC;\n",
       "    }\n",
       "\n",
       "    [theme=dark] .colab-df-convert:hover {\n",
       "      background-color: #434B5C;\n",
       "      box-shadow: 0px 1px 3px 1px rgba(0, 0, 0, 0.15);\n",
       "      filter: drop-shadow(0px 1px 2px rgba(0, 0, 0, 0.3));\n",
       "      fill: #FFFFFF;\n",
       "    }\n",
       "  </style>\n",
       "\n",
       "      <script>\n",
       "        const buttonEl =\n",
       "          document.querySelector('#df-7556e7dc-8746-469e-855e-a070c49a534e button.colab-df-convert');\n",
       "        buttonEl.style.display =\n",
       "          google.colab.kernel.accessAllowed ? 'block' : 'none';\n",
       "\n",
       "        async function convertToInteractive(key) {\n",
       "          const element = document.querySelector('#df-7556e7dc-8746-469e-855e-a070c49a534e');\n",
       "          const dataTable =\n",
       "            await google.colab.kernel.invokeFunction('convertToInteractive',\n",
       "                                                     [key], {});\n",
       "          if (!dataTable) return;\n",
       "\n",
       "          const docLinkHtml = 'Like what you see? Visit the ' +\n",
       "            '<a target=\"_blank\" href=https://colab.research.google.com/notebooks/data_table.ipynb>data table notebook</a>'\n",
       "            + ' to learn more about interactive tables.';\n",
       "          element.innerHTML = '';\n",
       "          dataTable['output_type'] = 'display_data';\n",
       "          await google.colab.output.renderOutput(dataTable, element);\n",
       "          const docLink = document.createElement('div');\n",
       "          docLink.innerHTML = docLinkHtml;\n",
       "          element.appendChild(docLink);\n",
       "        }\n",
       "      </script>\n",
       "    </div>\n",
       "  </div>\n",
       "  "
      ],
      "text/plain": [
       "            retweet_count  favorite_count  followers_count\n",
       "year_month                                                \n",
       "2015-11        439.169492     1083.942373     9.372626e+06\n",
       "2015-12       1195.994429     2992.724234     9.372635e+06\n",
       "2016-01       1221.716867     3415.963855     9.372663e+06\n",
       "2016-02       1304.018519     3722.888889     9.372589e+06\n",
       "2016-03       1316.669492     3900.923729     9.372589e+06\n",
       "2016-04       1292.759259     4051.240741     9.372632e+06\n",
       "2016-05       1784.535714     5386.000000     9.372607e+06\n",
       "2016-06       3576.050633     9164.075949     9.372659e+06\n",
       "2016-07       2017.517241     6046.862069     9.372608e+06\n",
       "2016-08       2886.413793     8713.137931     9.372658e+06\n",
       "2016-09       2920.306452     9607.177419     9.372565e+06\n",
       "2016-10       3407.892308    11226.292308     9.372668e+06\n",
       "2016-11       3928.865385    12575.846154     9.372586e+06\n",
       "2016-12       4463.259259    14242.851852     9.372623e+06\n",
       "2017-01       5171.818182    17024.787879     9.372589e+06\n",
       "2017-02       3485.650794    15848.873016     9.372575e+06\n",
       "2017-03       3765.066667    17094.044444     9.372561e+06\n",
       "2017-04       4753.625000    20175.750000     9.372612e+06\n",
       "2017-05       6363.690476    26055.428571     9.372651e+06\n",
       "2017-06       5315.069767    25075.558140     9.372608e+06\n",
       "2017-07       5574.224490    27777.632653     9.372536e+06\n",
       "2017-08       6109.000000    31418.000000     9.372472e+06"
      ]
     },
     "execution_count": 67,
     "metadata": {},
     "output_type": "execute_result"
    }
   ],
   "source": [
    "engagement_per_month = standard_group_year_month['retweet_count', 'favorite_count', 'followers_count'].mean()\n",
    "engagement_per_month"
   ]
  },
  {
   "cell_type": "markdown",
   "metadata": {
    "id": "LBZasTC5XR0g"
   },
   "source": [
    "The numbers are trending upwards and not showing signs of stopping. The WeRateDogs page found their niche."
   ]
  },
  {
   "cell_type": "markdown",
   "metadata": {
    "id": "BUDiDHfVXR0h"
   },
   "source": [
    "Visualising average number of retweets over time."
   ]
  },
  {
   "cell_type": "code",
   "execution_count": 68,
   "metadata": {
    "colab": {
     "base_uri": "https://localhost:8080/",
     "height": 737
    },
    "id": "baCPInR026Jt",
    "outputId": "810adc58-9d68-4a76-dfb5-71f6f9a85ef2"
   },
   "outputs": [
    {
     "data": {
      "image/png": "[encoded data removed]",
      "text/plain": [
       "<Figure size 1440x864 with 2 Axes>"
      ]
     },
     "metadata": {
      "needs_background": "light"
     },
     "output_type": "display_data"
    }
   ],
   "source": [
    "def draw_two_lines(data:pd.DataFrame, label:str, style:str, ylabel:str, title:str):\n",
    "    fig, ax = plt.subplots(figsize=(20, 12))\n",
    "    ax2 = ax.twinx()\n",
    "    track_line, = ax.plot(num_of_tweet_per_month.index, data, style, label=label)\n",
    "    freq_line, = ax2.plot(num_of_tweet_per_month.index, num_of_tweet_per_month, 'o-', color='0.95',label='Tweets')\n",
    "    ax.set_xlabel('Time (year-month)', fontsize=15)\n",
    "    ax2.set_ylabel('Tweet Count', color='0.5', fontsize=15)\n",
    "    ax.set_ylabel(ylabel, fontsize=15)\n",
    "    ax2.set_title(title, fontsize=15)\n",
    "    ax.legend(handles=[freq_line, track_line], title='Counts')\n",
    "    plt.show()\n",
    "\n",
    "draw_two_lines(engagement_per_month.retweet_count, label='Retweets', style='bo-', ylabel='Retweet Count', title='Number of Retweets over Time')"
   ]
  },
  {
   "cell_type": "markdown",
   "metadata": {
    "id": "MxtNy0bTXR0h"
   },
   "source": [
    "April 2016 we see a sharp jump in the number of retweets followed by a sharp up momentum."
   ]
  },
  {
   "cell_type": "markdown",
   "metadata": {
    "id": "UdioUl0zXR0h"
   },
   "source": [
    "Visualising average number of Favorited tweets over time."
   ]
  },
  {
   "cell_type": "code",
   "execution_count": 69,
   "metadata": {
    "colab": {
     "base_uri": "https://localhost:8080/",
     "height": 737
    },
    "id": "i-qfIm3Y3NY9",
    "outputId": "44124e10-49bf-41c4-e193-1de71046a975"
   },
   "outputs": [
    {
     "data": {
      "image/png": "[encoded data removed]",
      "text/plain": [
       "<Figure size 1440x864 with 2 Axes>"
      ]
     },
     "metadata": {
      "needs_background": "light"
     },
     "output_type": "display_data"
    }
   ],
   "source": [
    "draw_two_lines(engagement_per_month.favorite_count, label='Favorites', style='go-', ylabel='Favorite Count', title='Number of Favorited Tweets over Time')"
   ]
  },
  {
   "cell_type": "markdown",
   "metadata": {
    "id": "sjxFu5-TXR0i"
   },
   "source": [
    "The number of favourited tweets are trending in a study uptrend. Showing huge momentum between 2016 April and June 2016."
   ]
  },
  {
   "cell_type": "markdown",
   "metadata": {
    "id": "XNX4ZKrq92x6"
   },
   "source": [
    "There's a positive correlation between the two. With the retweet count showing big spikes."
   ]
  },
  {
   "cell_type": "markdown",
   "metadata": {
    "id": "VanoMR7bXR0i"
   },
   "source": [
    "4. What is the correlation between retweet_count, and favorite_count."
   ]
  },
  {
   "cell_type": "code",
   "execution_count": 70,
   "metadata": {
    "colab": {
     "base_uri": "https://localhost:8080/",
     "height": 143
    },
    "id": "nvspT6skBQ51",
    "outputId": "a53a114d-5e78-4158-a44a-af0bb1fa735b"
   },
   "outputs": [
    {
     "data": {
      "text/html": [
       "\n",
       "  <div id=\"df-0e68b4ee-455b-4518-a56d-5e2c4849f6c3\">\n",
       "    <div class=\"colab-df-container\">\n",
       "      <div>\n",
       "<style scoped>\n",
       "    .dataframe tbody tr th:only-of-type {\n",
       "        vertical-align: middle;\n",
       "    }\n",
       "\n",
       "    .dataframe tbody tr th {\n",
       "        vertical-align: top;\n",
       "    }\n",
       "\n",
       "    .dataframe thead th {\n",
       "        text-align: right;\n",
       "    }\n",
       "</style>\n",
       "<table border=\"1\" class=\"dataframe\">\n",
       "  <thead>\n",
       "    <tr style=\"text-align: right;\">\n",
       "      <th></th>\n",
       "      <th>retweet_count</th>\n",
       "      <th>favorite_count</th>\n",
       "      <th>followers_count</th>\n",
       "    </tr>\n",
       "  </thead>\n",
       "  <tbody>\n",
       "    <tr>\n",
       "      <th>retweet_count</th>\n",
       "      <td>1.000000</td>\n",
       "      <td>0.954236</td>\n",
       "      <td>-0.368828</td>\n",
       "    </tr>\n",
       "    <tr>\n",
       "      <th>favorite_count</th>\n",
       "      <td>0.954236</td>\n",
       "      <td>1.000000</td>\n",
       "      <td>-0.519108</td>\n",
       "    </tr>\n",
       "    <tr>\n",
       "      <th>followers_count</th>\n",
       "      <td>-0.368828</td>\n",
       "      <td>-0.519108</td>\n",
       "      <td>1.000000</td>\n",
       "    </tr>\n",
       "  </tbody>\n",
       "</table>\n",
       "</div>\n",
       "      <button class=\"colab-df-convert\" onclick=\"convertToInteractive('df-0e68b4ee-455b-4518-a56d-5e2c4849f6c3')\"\n",
       "              title=\"Convert this dataframe to an interactive table.\"\n",
       "              style=\"display:none;\">\n",
       "        \n",
       "  <svg xmlns=\"http://www.w3.org/2000/svg\" height=\"24px\"viewBox=\"0 0 24 24\"\n",
       "       width=\"24px\">\n",
       "    <path d=\"M0 0h24v24H0V0z\" fill=\"none\"/>\n",
       "    <path d=\"M18.56 5.44l.94 2.06.94-2.06 2.06-.94-2.06-.94-.94-2.06-.94 2.06-2.06.94zm-11 1L8.5 8.5l.94-2.06 2.06-.94-2.06-.94L8.5 2.5l-.94 2.06-2.06.94zm10 10l.94 2.06.94-2.06 2.06-.94-2.06-.94-.94-2.06-.94 2.06-2.06.94z\"/><path d=\"M17.41 7.96l-1.37-1.37c-.4-.4-.92-.59-1.43-.59-.52 0-1.04.2-1.43.59L10.3 9.45l-7.72 7.72c-.78.78-.78 2.05 0 2.83L4 21.41c.39.39.9.59 1.41.59.51 0 1.02-.2 1.41-.59l7.78-7.78 2.81-2.81c.8-.78.8-2.07 0-2.86zM5.41 20L4 18.59l7.72-7.72 1.47 1.35L5.41 20z\"/>\n",
       "  </svg>\n",
       "      </button>\n",
       "      \n",
       "  <style>\n",
       "    .colab-df-container {\n",
       "      display:flex;\n",
       "      flex-wrap:wrap;\n",
       "      gap: 12px;\n",
       "    }\n",
       "\n",
       "    .colab-df-convert {\n",
       "      background-color: #E8F0FE;\n",
       "      border: none;\n",
       "      border-radius: 50%;\n",
       "      cursor: pointer;\n",
       "      display: none;\n",
       "      fill: #1967D2;\n",
       "      height: 32px;\n",
       "      padding: 0 0 0 0;\n",
       "      width: 32px;\n",
       "    }\n",
       "\n",
       "    .colab-df-convert:hover {\n",
       "      background-color: #E2EBFA;\n",
       "      box-shadow: 0px 1px 2px rgba(60, 64, 67, 0.3), 0px 1px 3px 1px rgba(60, 64, 67, 0.15);\n",
       "      fill: #174EA6;\n",
       "    }\n",
       "\n",
       "    [theme=dark] .colab-df-convert {\n",
       "      background-color: #3B4455;\n",
       "      fill: #D2E3FC;\n",
       "    }\n",
       "\n",
       "    [theme=dark] .colab-df-convert:hover {\n",
       "      background-color: #434B5C;\n",
       "      box-shadow: 0px 1px 3px 1px rgba(0, 0, 0, 0.15);\n",
       "      filter: drop-shadow(0px 1px 2px rgba(0, 0, 0, 0.3));\n",
       "      fill: #FFFFFF;\n",
       "    }\n",
       "  </style>\n",
       "\n",
       "      <script>\n",
       "        const buttonEl =\n",
       "          document.querySelector('#df-0e68b4ee-455b-4518-a56d-5e2c4849f6c3 button.colab-df-convert');\n",
       "        buttonEl.style.display =\n",
       "          google.colab.kernel.accessAllowed ? 'block' : 'none';\n",
       "\n",
       "        async function convertToInteractive(key) {\n",
       "          const element = document.querySelector('#df-0e68b4ee-455b-4518-a56d-5e2c4849f6c3');\n",
       "          const dataTable =\n",
       "            await google.colab.kernel.invokeFunction('convertToInteractive',\n",
       "                                                     [key], {});\n",
       "          if (!dataTable) return;\n",
       "\n",
       "          const docLinkHtml = 'Like what you see? Visit the ' +\n",
       "            '<a target=\"_blank\" href=https://colab.research.google.com/notebooks/data_table.ipynb>data table notebook</a>'\n",
       "            + ' to learn more about interactive tables.';\n",
       "          element.innerHTML = '';\n",
       "          dataTable['output_type'] = 'display_data';\n",
       "          await google.colab.output.renderOutput(dataTable, element);\n",
       "          const docLink = document.createElement('div');\n",
       "          docLink.innerHTML = docLinkHtml;\n",
       "          element.appendChild(docLink);\n",
       "        }\n",
       "      </script>\n",
       "    </div>\n",
       "  </div>\n",
       "  "
      ],
      "text/plain": [
       "                 retweet_count  favorite_count  followers_count\n",
       "retweet_count         1.000000        0.954236        -0.368828\n",
       "favorite_count        0.954236        1.000000        -0.519108\n",
       "followers_count      -0.368828       -0.519108         1.000000"
      ]
     },
     "execution_count": 70,
     "metadata": {},
     "output_type": "execute_result"
    }
   ],
   "source": [
    "df_clean_sliced = engagement_per_month.loc[: , ['retweet_count', 'favorite_count', 'followers_count']]\n",
    "corr = df_clean_sliced.corr()\n",
    "corr"
   ]
  },
  {
   "cell_type": "markdown",
   "metadata": {
    "id": "auWkA_b1XR0i"
   },
   "source": [
    "Using the Pearson method of correlation, I found that there is a positive 0.95 correlation between retweet_count, and the favorite_count meaning when one goes up..the other will too."
   ]
  },
  {
   "cell_type": "markdown",
   "metadata": {
    "id": "vAO_ukPWXR0i"
   },
   "source": [
    "Visualising Retweets vs Favourites."
   ]
  },
  {
   "cell_type": "code",
   "execution_count": 71,
   "metadata": {
    "colab": {
     "base_uri": "https://localhost:8080/",
     "height": 737
    },
    "id": "8CfJULQqXR0j",
    "outputId": "1b03624f-04bd-4791-fce5-ae1519056664"
   },
   "outputs": [
    {
     "data": {
      "image/png": "[encoded data removed]",
      "text/plain": [
       "<Figure size 1440x864 with 2 Axes>"
      ]
     },
     "metadata": {
      "needs_background": "light"
     },
     "output_type": "display_data"
    }
   ],
   "source": [
    "fig, ax = plt.subplots(figsize=(20, 12))\n",
    "retweeet_line, = ax.plot(num_of_tweet_per_month.index, engagement_per_month.retweet_count, 'bo-', label='Retweets')\n",
    "ax2 = ax.twinx()\n",
    "fav_line, = ax2.plot(num_of_tweet_per_month.index, engagement_per_month.favorite_count, 'go-', label='Favorites')\n",
    "ax.set_xlabel('Time (year-month)', fontsize=15)\n",
    "ax.set_ylabel('Retweet Count', fontsize=15)\n",
    "ax2.set_ylabel('Favourite Count', fontsize=15)\n",
    "ax.set_title('Retweets vs Favourites over Time', fontsize=15)\n",
    "ax.legend(handles=[retweeet_line, fav_line], title='Counts')\n",
    "plt.show()"
   ]
  },
  {
   "cell_type": "markdown",
   "metadata": {
    "id": "GNKVeWM2XR0j"
   },
   "source": [
    "Investigating Tweets on, before and after April 2016."
   ]
  },
  {
   "cell_type": "code",
   "execution_count": 72,
   "metadata": {
    "colab": {
     "base_uri": "https://localhost:8080/",
     "height": 453
    },
    "id": "HrgZNKDs92x6",
    "outputId": "976f3ab4-82af-4487-bf05-4db29b0a7672"
   },
   "outputs": [
    {
     "data": {
      "text/html": [
       "\n",
       "  <div id=\"df-f9f63cf3-d9a3-4598-9516-e3fa6dc3c875\">\n",
       "    <div class=\"colab-df-container\">\n",
       "      <div>\n",
       "<style scoped>\n",
       "    .dataframe tbody tr th:only-of-type {\n",
       "        vertical-align: middle;\n",
       "    }\n",
       "\n",
       "    .dataframe tbody tr th {\n",
       "        vertical-align: top;\n",
       "    }\n",
       "\n",
       "    .dataframe thead th {\n",
       "        text-align: right;\n",
       "    }\n",
       "</style>\n",
       "<table border=\"1\" class=\"dataframe\">\n",
       "  <thead>\n",
       "    <tr style=\"text-align: right;\">\n",
       "      <th></th>\n",
       "      <th>tweet_id</th>\n",
       "      <th>timestamp</th>\n",
       "      <th>source</th>\n",
       "      <th>text</th>\n",
       "      <th>expanded_urls</th>\n",
       "      <th>rating_numerator</th>\n",
       "      <th>rating_denominator</th>\n",
       "      <th>name</th>\n",
       "      <th>year_month</th>\n",
       "      <th>dog_stage</th>\n",
       "      <th>...</th>\n",
       "      <th>img_num</th>\n",
       "      <th>p1</th>\n",
       "      <th>p1_conf</th>\n",
       "      <th>p1_dog</th>\n",
       "      <th>p2</th>\n",
       "      <th>p2_conf</th>\n",
       "      <th>p2_dog</th>\n",
       "      <th>p3</th>\n",
       "      <th>p3_conf</th>\n",
       "      <th>p3_dog</th>\n",
       "    </tr>\n",
       "  </thead>\n",
       "  <tbody>\n",
       "    <tr>\n",
       "      <th>863</th>\n",
       "      <td>726224900189511680</td>\n",
       "      <td>2016-04-30 01:41:23+00:00</td>\n",
       "      <td>Twitter for iPhone</td>\n",
       "      <td>I'm getting super heckin frustrated with you a...</td>\n",
       "      <td>https://twitter.com/dog_rates/status/726224900...</td>\n",
       "      <td>9.0</td>\n",
       "      <td>10.0</td>\n",
       "      <td>NaN</td>\n",
       "      <td>2016-04</td>\n",
       "      <td>NaN</td>\n",
       "      <td>...</td>\n",
       "      <td>1</td>\n",
       "      <td>Standard Poodle</td>\n",
       "      <td>0.261112</td>\n",
       "      <td>True</td>\n",
       "      <td>Cocker Spaniel</td>\n",
       "      <td>0.094785</td>\n",
       "      <td>True</td>\n",
       "      <td>Bucket</td>\n",
       "      <td>0.069946</td>\n",
       "      <td>False</td>\n",
       "    </tr>\n",
       "    <tr>\n",
       "      <th>864</th>\n",
       "      <td>725842289046749185</td>\n",
       "      <td>2016-04-29 00:21:01+00:00</td>\n",
       "      <td>Twitter for iPhone</td>\n",
       "      <td>This is Colby. He's currently regretting all t...</td>\n",
       "      <td>https://twitter.com/dog_rates/status/725842289...</td>\n",
       "      <td>12.0</td>\n",
       "      <td>10.0</td>\n",
       "      <td>Colby</td>\n",
       "      <td>2016-04</td>\n",
       "      <td>NaN</td>\n",
       "      <td>...</td>\n",
       "      <td>1</td>\n",
       "      <td>Toy Poodle</td>\n",
       "      <td>0.420463</td>\n",
       "      <td>True</td>\n",
       "      <td>Miniature Poodle</td>\n",
       "      <td>0.132640</td>\n",
       "      <td>True</td>\n",
       "      <td>Chesapeake Bay Retriever</td>\n",
       "      <td>0.121523</td>\n",
       "      <td>True</td>\n",
       "    </tr>\n",
       "    <tr>\n",
       "      <th>865</th>\n",
       "      <td>725786712245440512</td>\n",
       "      <td>2016-04-28 20:40:11+00:00</td>\n",
       "      <td>Twitter for iPhone</td>\n",
       "      <td>Say hello to Lillie. She's a Rutabagan Floofem...</td>\n",
       "      <td>https://twitter.com/dog_rates/status/725786712...</td>\n",
       "      <td>11.0</td>\n",
       "      <td>10.0</td>\n",
       "      <td>Lillie</td>\n",
       "      <td>2016-04</td>\n",
       "      <td>pupper</td>\n",
       "      <td>...</td>\n",
       "      <td>1</td>\n",
       "      <td>Chow</td>\n",
       "      <td>0.335761</td>\n",
       "      <td>True</td>\n",
       "      <td>Samoyed</td>\n",
       "      <td>0.167173</td>\n",
       "      <td>True</td>\n",
       "      <td>Kuvasz</td>\n",
       "      <td>0.145715</td>\n",
       "      <td>True</td>\n",
       "    </tr>\n",
       "    <tr>\n",
       "      <th>866</th>\n",
       "      <td>725729321944506368</td>\n",
       "      <td>2016-04-28 16:52:08+00:00</td>\n",
       "      <td>Twitter for iPhone</td>\n",
       "      <td>This is Lola. She's a Butternut Splishnsplash....</td>\n",
       "      <td>https://twitter.com/dog_rates/status/725729321...</td>\n",
       "      <td>12.0</td>\n",
       "      <td>10.0</td>\n",
       "      <td>Lola</td>\n",
       "      <td>2016-04</td>\n",
       "      <td>NaN</td>\n",
       "      <td>...</td>\n",
       "      <td>1</td>\n",
       "      <td>Boxer</td>\n",
       "      <td>0.599076</td>\n",
       "      <td>True</td>\n",
       "      <td>Bull Mastiff</td>\n",
       "      <td>0.177318</td>\n",
       "      <td>True</td>\n",
       "      <td>French Bulldog</td>\n",
       "      <td>0.141461</td>\n",
       "      <td>True</td>\n",
       "    </tr>\n",
       "    <tr>\n",
       "      <th>867</th>\n",
       "      <td>724983749226668032</td>\n",
       "      <td>2016-04-26 15:29:30+00:00</td>\n",
       "      <td>Twitter for iPhone</td>\n",
       "      <td>This is Fred-Rick. He dabbles in parkour. The ...</td>\n",
       "      <td>https://twitter.com/dog_rates/status/724983749...</td>\n",
       "      <td>12.0</td>\n",
       "      <td>10.0</td>\n",
       "      <td>Fred</td>\n",
       "      <td>2016-04</td>\n",
       "      <td>NaN</td>\n",
       "      <td>...</td>\n",
       "      <td>1</td>\n",
       "      <td>Golden Retriever</td>\n",
       "      <td>0.675750</td>\n",
       "      <td>True</td>\n",
       "      <td>Great Pyrenees</td>\n",
       "      <td>0.095168</td>\n",
       "      <td>True</td>\n",
       "      <td>Cocker Spaniel</td>\n",
       "      <td>0.076043</td>\n",
       "      <td>True</td>\n",
       "    </tr>\n",
       "  </tbody>\n",
       "</table>\n",
       "<p>5 rows × 24 columns</p>\n",
       "</div>\n",
       "      <button class=\"colab-df-convert\" onclick=\"convertToInteractive('df-f9f63cf3-d9a3-4598-9516-e3fa6dc3c875')\"\n",
       "              title=\"Convert this dataframe to an interactive table.\"\n",
       "              style=\"display:none;\">\n",
       "        \n",
       "  <svg xmlns=\"http://www.w3.org/2000/svg\" height=\"24px\"viewBox=\"0 0 24 24\"\n",
       "       width=\"24px\">\n",
       "    <path d=\"M0 0h24v24H0V0z\" fill=\"none\"/>\n",
       "    <path d=\"M18.56 5.44l.94 2.06.94-2.06 2.06-.94-2.06-.94-.94-2.06-.94 2.06-2.06.94zm-11 1L8.5 8.5l.94-2.06 2.06-.94-2.06-.94L8.5 2.5l-.94 2.06-2.06.94zm10 10l.94 2.06.94-2.06 2.06-.94-2.06-.94-.94-2.06-.94 2.06-2.06.94z\"/><path d=\"M17.41 7.96l-1.37-1.37c-.4-.4-.92-.59-1.43-.59-.52 0-1.04.2-1.43.59L10.3 9.45l-7.72 7.72c-.78.78-.78 2.05 0 2.83L4 21.41c.39.39.9.59 1.41.59.51 0 1.02-.2 1.41-.59l7.78-7.78 2.81-2.81c.8-.78.8-2.07 0-2.86zM5.41 20L4 18.59l7.72-7.72 1.47 1.35L5.41 20z\"/>\n",
       "  </svg>\n",
       "      </button>\n",
       "      \n",
       "  <style>\n",
       "    .colab-df-container {\n",
       "      display:flex;\n",
       "      flex-wrap:wrap;\n",
       "      gap: 12px;\n",
       "    }\n",
       "\n",
       "    .colab-df-convert {\n",
       "      background-color: #E8F0FE;\n",
       "      border: none;\n",
       "      border-radius: 50%;\n",
       "      cursor: pointer;\n",
       "      display: none;\n",
       "      fill: #1967D2;\n",
       "      height: 32px;\n",
       "      padding: 0 0 0 0;\n",
       "      width: 32px;\n",
       "    }\n",
       "\n",
       "    .colab-df-convert:hover {\n",
       "      background-color: #E2EBFA;\n",
       "      box-shadow: 0px 1px 2px rgba(60, 64, 67, 0.3), 0px 1px 3px 1px rgba(60, 64, 67, 0.15);\n",
       "      fill: #174EA6;\n",
       "    }\n",
       "\n",
       "    [theme=dark] .colab-df-convert {\n",
       "      background-color: #3B4455;\n",
       "      fill: #D2E3FC;\n",
       "    }\n",
       "\n",
       "    [theme=dark] .colab-df-convert:hover {\n",
       "      background-color: #434B5C;\n",
       "      box-shadow: 0px 1px 3px 1px rgba(0, 0, 0, 0.15);\n",
       "      filter: drop-shadow(0px 1px 2px rgba(0, 0, 0, 0.3));\n",
       "      fill: #FFFFFF;\n",
       "    }\n",
       "  </style>\n",
       "\n",
       "      <script>\n",
       "        const buttonEl =\n",
       "          document.querySelector('#df-f9f63cf3-d9a3-4598-9516-e3fa6dc3c875 button.colab-df-convert');\n",
       "        buttonEl.style.display =\n",
       "          google.colab.kernel.accessAllowed ? 'block' : 'none';\n",
       "\n",
       "        async function convertToInteractive(key) {\n",
       "          const element = document.querySelector('#df-f9f63cf3-d9a3-4598-9516-e3fa6dc3c875');\n",
       "          const dataTable =\n",
       "            await google.colab.kernel.invokeFunction('convertToInteractive',\n",
       "                                                     [key], {});\n",
       "          if (!dataTable) return;\n",
       "\n",
       "          const docLinkHtml = 'Like what you see? Visit the ' +\n",
       "            '<a target=\"_blank\" href=https://colab.research.google.com/notebooks/data_table.ipynb>data table notebook</a>'\n",
       "            + ' to learn more about interactive tables.';\n",
       "          element.innerHTML = '';\n",
       "          dataTable['output_type'] = 'display_data';\n",
       "          await google.colab.output.renderOutput(dataTable, element);\n",
       "          const docLink = document.createElement('div');\n",
       "          docLink.innerHTML = docLinkHtml;\n",
       "          element.appendChild(docLink);\n",
       "        }\n",
       "      </script>\n",
       "    </div>\n",
       "  </div>\n",
       "  "
      ],
      "text/plain": [
       "               tweet_id                 timestamp              source  \\\n",
       "863  726224900189511680 2016-04-30 01:41:23+00:00  Twitter for iPhone   \n",
       "864  725842289046749185 2016-04-29 00:21:01+00:00  Twitter for iPhone   \n",
       "865  725786712245440512 2016-04-28 20:40:11+00:00  Twitter for iPhone   \n",
       "866  725729321944506368 2016-04-28 16:52:08+00:00  Twitter for iPhone   \n",
       "867  724983749226668032 2016-04-26 15:29:30+00:00  Twitter for iPhone   \n",
       "\n",
       "                                                  text  \\\n",
       "863  I'm getting super heckin frustrated with you a...   \n",
       "864  This is Colby. He's currently regretting all t...   \n",
       "865  Say hello to Lillie. She's a Rutabagan Floofem...   \n",
       "866  This is Lola. She's a Butternut Splishnsplash....   \n",
       "867  This is Fred-Rick. He dabbles in parkour. The ...   \n",
       "\n",
       "                                         expanded_urls  rating_numerator  \\\n",
       "863  https://twitter.com/dog_rates/status/726224900...               9.0   \n",
       "864  https://twitter.com/dog_rates/status/725842289...              12.0   \n",
       "865  https://twitter.com/dog_rates/status/725786712...              11.0   \n",
       "866  https://twitter.com/dog_rates/status/725729321...              12.0   \n",
       "867  https://twitter.com/dog_rates/status/724983749...              12.0   \n",
       "\n",
       "     rating_denominator    name year_month dog_stage  ...  img_num  \\\n",
       "863                10.0     NaN    2016-04       NaN  ...        1   \n",
       "864                10.0   Colby    2016-04       NaN  ...        1   \n",
       "865                10.0  Lillie    2016-04    pupper  ...        1   \n",
       "866                10.0    Lola    2016-04       NaN  ...        1   \n",
       "867                10.0    Fred    2016-04       NaN  ...        1   \n",
       "\n",
       "                   p1   p1_conf p1_dog                p2   p2_conf  p2_dog  \\\n",
       "863   Standard Poodle  0.261112   True    Cocker Spaniel  0.094785    True   \n",
       "864        Toy Poodle  0.420463   True  Miniature Poodle  0.132640    True   \n",
       "865              Chow  0.335761   True           Samoyed  0.167173    True   \n",
       "866             Boxer  0.599076   True      Bull Mastiff  0.177318    True   \n",
       "867  Golden Retriever  0.675750   True    Great Pyrenees  0.095168    True   \n",
       "\n",
       "                           p3   p3_conf  p3_dog  \n",
       "863                    Bucket  0.069946   False  \n",
       "864  Chesapeake Bay Retriever  0.121523    True  \n",
       "865                    Kuvasz  0.145715    True  \n",
       "866            French Bulldog  0.141461    True  \n",
       "867            Cocker Spaniel  0.076043    True  \n",
       "\n",
       "[5 rows x 24 columns]"
      ]
     },
     "execution_count": 72,
     "metadata": {},
     "output_type": "execute_result"
    }
   ],
   "source": [
    "df_april_2016 = df_clean.query(\"year_month == '2016-04' & p1_dog == True\")\n",
    "df_april_2016.head()"
   ]
  },
  {
   "cell_type": "markdown",
   "metadata": {
    "id": "hT8gQsPrXR0j"
   },
   "source": [
    "5. Which dog breed was posted the most on April 2016."
   ]
  },
  {
   "cell_type": "code",
   "execution_count": 73,
   "metadata": {
    "colab": {
     "base_uri": "https://localhost:8080/",
     "height": 865
    },
    "id": "G0XSWe0s92x6",
    "outputId": "1551d88c-ccb9-46bc-b239-e3efcce09f22"
   },
   "outputs": [
    {
     "data": {
      "text/html": [
       "\n",
       "  <div id=\"df-28225943-7a0a-4d92-9ea7-3dbc9f0aec87\">\n",
       "    <div class=\"colab-df-container\">\n",
       "      <div>\n",
       "<style scoped>\n",
       "    .dataframe tbody tr th:only-of-type {\n",
       "        vertical-align: middle;\n",
       "    }\n",
       "\n",
       "    .dataframe tbody tr th {\n",
       "        vertical-align: top;\n",
       "    }\n",
       "\n",
       "    .dataframe thead th {\n",
       "        text-align: right;\n",
       "    }\n",
       "</style>\n",
       "<table border=\"1\" class=\"dataframe\">\n",
       "  <thead>\n",
       "    <tr style=\"text-align: right;\">\n",
       "      <th></th>\n",
       "      <th>p1</th>\n",
       "    </tr>\n",
       "  </thead>\n",
       "  <tbody>\n",
       "    <tr>\n",
       "      <th>Golden Retriever</th>\n",
       "      <td>9</td>\n",
       "    </tr>\n",
       "    <tr>\n",
       "      <th>Pomeranian</th>\n",
       "      <td>3</td>\n",
       "    </tr>\n",
       "    <tr>\n",
       "      <th>Samoyed</th>\n",
       "      <td>3</td>\n",
       "    </tr>\n",
       "    <tr>\n",
       "      <th>Siberian Husky</th>\n",
       "      <td>2</td>\n",
       "    </tr>\n",
       "    <tr>\n",
       "      <th>Dandie Dinmont</th>\n",
       "      <td>2</td>\n",
       "    </tr>\n",
       "    <tr>\n",
       "      <th>Pembroke</th>\n",
       "      <td>2</td>\n",
       "    </tr>\n",
       "    <tr>\n",
       "      <th>Chihuahua</th>\n",
       "      <td>2</td>\n",
       "    </tr>\n",
       "    <tr>\n",
       "      <th>Labrador Retriever</th>\n",
       "      <td>2</td>\n",
       "    </tr>\n",
       "    <tr>\n",
       "      <th>Malamute</th>\n",
       "      <td>2</td>\n",
       "    </tr>\n",
       "    <tr>\n",
       "      <th>Boxer</th>\n",
       "      <td>2</td>\n",
       "    </tr>\n",
       "    <tr>\n",
       "      <th>Malinois</th>\n",
       "      <td>1</td>\n",
       "    </tr>\n",
       "    <tr>\n",
       "      <th>Yorkshire Terrier</th>\n",
       "      <td>1</td>\n",
       "    </tr>\n",
       "    <tr>\n",
       "      <th>Miniature Pinscher</th>\n",
       "      <td>1</td>\n",
       "    </tr>\n",
       "    <tr>\n",
       "      <th>Brittany Spaniel</th>\n",
       "      <td>1</td>\n",
       "    </tr>\n",
       "    <tr>\n",
       "      <th>Pug</th>\n",
       "      <td>1</td>\n",
       "    </tr>\n",
       "    <tr>\n",
       "      <th>Maltese Dog</th>\n",
       "      <td>1</td>\n",
       "    </tr>\n",
       "    <tr>\n",
       "      <th>Standard Poodle</th>\n",
       "      <td>1</td>\n",
       "    </tr>\n",
       "    <tr>\n",
       "      <th>Rottweiler</th>\n",
       "      <td>1</td>\n",
       "    </tr>\n",
       "    <tr>\n",
       "      <th>Mexican Hairless</th>\n",
       "      <td>1</td>\n",
       "    </tr>\n",
       "    <tr>\n",
       "      <th>Toy Poodle</th>\n",
       "      <td>1</td>\n",
       "    </tr>\n",
       "    <tr>\n",
       "      <th>Newfoundland</th>\n",
       "      <td>1</td>\n",
       "    </tr>\n",
       "    <tr>\n",
       "      <th>Great Dane</th>\n",
       "      <td>1</td>\n",
       "    </tr>\n",
       "    <tr>\n",
       "      <th>Border Collie</th>\n",
       "      <td>1</td>\n",
       "    </tr>\n",
       "    <tr>\n",
       "      <th>German Short-Haired Pointer</th>\n",
       "      <td>1</td>\n",
       "    </tr>\n",
       "    <tr>\n",
       "      <th>Chow</th>\n",
       "      <td>1</td>\n",
       "    </tr>\n",
       "    <tr>\n",
       "      <th>Staffordshire Bullterrier</th>\n",
       "      <td>1</td>\n",
       "    </tr>\n",
       "  </tbody>\n",
       "</table>\n",
       "</div>\n",
       "      <button class=\"colab-df-convert\" onclick=\"convertToInteractive('df-28225943-7a0a-4d92-9ea7-3dbc9f0aec87')\"\n",
       "              title=\"Convert this dataframe to an interactive table.\"\n",
       "              style=\"display:none;\">\n",
       "        \n",
       "  <svg xmlns=\"http://www.w3.org/2000/svg\" height=\"24px\"viewBox=\"0 0 24 24\"\n",
       "       width=\"24px\">\n",
       "    <path d=\"M0 0h24v24H0V0z\" fill=\"none\"/>\n",
       "    <path d=\"M18.56 5.44l.94 2.06.94-2.06 2.06-.94-2.06-.94-.94-2.06-.94 2.06-2.06.94zm-11 1L8.5 8.5l.94-2.06 2.06-.94-2.06-.94L8.5 2.5l-.94 2.06-2.06.94zm10 10l.94 2.06.94-2.06 2.06-.94-2.06-.94-.94-2.06-.94 2.06-2.06.94z\"/><path d=\"M17.41 7.96l-1.37-1.37c-.4-.4-.92-.59-1.43-.59-.52 0-1.04.2-1.43.59L10.3 9.45l-7.72 7.72c-.78.78-.78 2.05 0 2.83L4 21.41c.39.39.9.59 1.41.59.51 0 1.02-.2 1.41-.59l7.78-7.78 2.81-2.81c.8-.78.8-2.07 0-2.86zM5.41 20L4 18.59l7.72-7.72 1.47 1.35L5.41 20z\"/>\n",
       "  </svg>\n",
       "      </button>\n",
       "      \n",
       "  <style>\n",
       "    .colab-df-container {\n",
       "      display:flex;\n",
       "      flex-wrap:wrap;\n",
       "      gap: 12px;\n",
       "    }\n",
       "\n",
       "    .colab-df-convert {\n",
       "      background-color: #E8F0FE;\n",
       "      border: none;\n",
       "      border-radius: 50%;\n",
       "      cursor: pointer;\n",
       "      display: none;\n",
       "      fill: #1967D2;\n",
       "      height: 32px;\n",
       "      padding: 0 0 0 0;\n",
       "      width: 32px;\n",
       "    }\n",
       "\n",
       "    .colab-df-convert:hover {\n",
       "      background-color: #E2EBFA;\n",
       "      box-shadow: 0px 1px 2px rgba(60, 64, 67, 0.3), 0px 1px 3px 1px rgba(60, 64, 67, 0.15);\n",
       "      fill: #174EA6;\n",
       "    }\n",
       "\n",
       "    [theme=dark] .colab-df-convert {\n",
       "      background-color: #3B4455;\n",
       "      fill: #D2E3FC;\n",
       "    }\n",
       "\n",
       "    [theme=dark] .colab-df-convert:hover {\n",
       "      background-color: #434B5C;\n",
       "      box-shadow: 0px 1px 3px 1px rgba(0, 0, 0, 0.15);\n",
       "      filter: drop-shadow(0px 1px 2px rgba(0, 0, 0, 0.3));\n",
       "      fill: #FFFFFF;\n",
       "    }\n",
       "  </style>\n",
       "\n",
       "      <script>\n",
       "        const buttonEl =\n",
       "          document.querySelector('#df-28225943-7a0a-4d92-9ea7-3dbc9f0aec87 button.colab-df-convert');\n",
       "        buttonEl.style.display =\n",
       "          google.colab.kernel.accessAllowed ? 'block' : 'none';\n",
       "\n",
       "        async function convertToInteractive(key) {\n",
       "          const element = document.querySelector('#df-28225943-7a0a-4d92-9ea7-3dbc9f0aec87');\n",
       "          const dataTable =\n",
       "            await google.colab.kernel.invokeFunction('convertToInteractive',\n",
       "                                                     [key], {});\n",
       "          if (!dataTable) return;\n",
       "\n",
       "          const docLinkHtml = 'Like what you see? Visit the ' +\n",
       "            '<a target=\"_blank\" href=https://colab.research.google.com/notebooks/data_table.ipynb>data table notebook</a>'\n",
       "            + ' to learn more about interactive tables.';\n",
       "          element.innerHTML = '';\n",
       "          dataTable['output_type'] = 'display_data';\n",
       "          await google.colab.output.renderOutput(dataTable, element);\n",
       "          const docLink = document.createElement('div');\n",
       "          docLink.innerHTML = docLinkHtml;\n",
       "          element.appendChild(docLink);\n",
       "        }\n",
       "      </script>\n",
       "    </div>\n",
       "  </div>\n",
       "  "
      ],
      "text/plain": [
       "                             p1\n",
       "Golden Retriever              9\n",
       "Pomeranian                    3\n",
       "Samoyed                       3\n",
       "Siberian Husky                2\n",
       "Dandie Dinmont                2\n",
       "Pembroke                      2\n",
       "Chihuahua                     2\n",
       "Labrador Retriever            2\n",
       "Malamute                      2\n",
       "Boxer                         2\n",
       "Malinois                      1\n",
       "Yorkshire Terrier             1\n",
       "Miniature Pinscher            1\n",
       "Brittany Spaniel              1\n",
       "Pug                           1\n",
       "Maltese Dog                   1\n",
       "Standard Poodle               1\n",
       "Rottweiler                    1\n",
       "Mexican Hairless              1\n",
       "Toy Poodle                    1\n",
       "Newfoundland                  1\n",
       "Great Dane                    1\n",
       "Border Collie                 1\n",
       "German Short-Haired Pointer   1\n",
       "Chow                          1\n",
       "Staffordshire Bullterrier     1"
      ]
     },
     "execution_count": 73,
     "metadata": {},
     "output_type": "execute_result"
    }
   ],
   "source": [
    "df_april_2016.p1.value_counts().to_frame()"
   ]
  },
  {
   "cell_type": "code",
   "execution_count": 80,
   "metadata": {
    "colab": {
     "base_uri": "https://localhost:8080/"
    },
    "id": "wICoc8LPdOSA",
    "outputId": "0c95383a-621c-40dc-c32c-d6a1fdab70f9"
   },
   "outputs": [
    {
     "data": {
      "text/plain": [
       "p1    45\n",
       "dtype: int64"
      ]
     },
     "execution_count": 80,
     "metadata": {},
     "output_type": "execute_result"
    }
   ],
   "source": [
    "df_april_2016.p1.value_counts().to_frame().sum()"
   ]
  },
  {
   "cell_type": "markdown",
   "metadata": {
    "id": "VSwrb9tSXR0k"
   },
   "source": [
    "The Golden Retriever dog breed was the one most posted in April 2016 with a total of 9 tweets."
   ]
  },
  {
   "cell_type": "markdown",
   "metadata": {
    "id": "aohRT5WHXR0k"
   },
   "source": [
    "Visualising the findings."
   ]
  },
  {
   "cell_type": "code",
   "execution_count": 74,
   "metadata": {
    "colab": {
     "base_uri": "https://localhost:8080/",
     "height": 574
    },
    "id": "YO0u0aN192x6",
    "outputId": "46f4634b-ff93-4a35-ac45-9bf2d3568333"
   },
   "outputs": [
    {
     "data": {
      "image/png": "[encoded data removed]",
      "text/plain": [
       "<Figure size 1080x648 with 1 Axes>"
      ]
     },
     "metadata": {
      "needs_background": "light"
     },
     "output_type": "display_data"
    }
   ],
   "source": [
    "fig, ax = plt.subplots(figsize=(15, 9))\n",
    "track_line = df_april_2016.p1.value_counts().to_frame().sort_values('p1').plot(label='Dog Breeds',kind='barh', ax=ax, color=(0.2, 0.4, 0.6, 0.6))\n",
    "ax.set_xlabel('Breed Counts', fontsize=15)\n",
    "ax.set_ylabel('Dog Breeds', fontsize=15)\n",
    "ax.set_title('Tweets on April 2016', fontsize=15)\n",
    "# ax.legend(handles=[track_line])\n",
    "plt.show()"
   ]
  },
  {
   "cell_type": "markdown",
   "metadata": {
    "id": "KHW1pl8WXR0k"
   },
   "source": [
    "The Golden Retriever showed a high 9 total number of posts and with the Pomeranian and Samoyed breed being posted 6 times split between them."
   ]
  },
  {
   "cell_type": "markdown",
   "metadata": {
    "id": "Y1L3yVNXXR0k"
   },
   "source": [
    "Dog breed posted the most before April 2016."
   ]
  },
  {
   "cell_type": "code",
   "execution_count": 75,
   "metadata": {
    "colab": {
     "base_uri": "https://localhost:8080/",
     "height": 363
    },
    "id": "seHPBb2l92x6",
    "outputId": "6262e50d-8c9b-4d2c-e6b2-c548ba703f09"
   },
   "outputs": [
    {
     "data": {
      "text/html": [
       "\n",
       "  <div id=\"df-ec016d43-f269-4ca9-ab49-814e83d9b12c\">\n",
       "    <div class=\"colab-df-container\">\n",
       "      <div>\n",
       "<style scoped>\n",
       "    .dataframe tbody tr th:only-of-type {\n",
       "        vertical-align: middle;\n",
       "    }\n",
       "\n",
       "    .dataframe tbody tr th {\n",
       "        vertical-align: top;\n",
       "    }\n",
       "\n",
       "    .dataframe thead th {\n",
       "        text-align: right;\n",
       "    }\n",
       "</style>\n",
       "<table border=\"1\" class=\"dataframe\">\n",
       "  <thead>\n",
       "    <tr style=\"text-align: right;\">\n",
       "      <th></th>\n",
       "      <th>p1</th>\n",
       "    </tr>\n",
       "  </thead>\n",
       "  <tbody>\n",
       "    <tr>\n",
       "      <th>Chihuahua</th>\n",
       "      <td>54</td>\n",
       "    </tr>\n",
       "    <tr>\n",
       "      <th>Golden Retriever</th>\n",
       "      <td>48</td>\n",
       "    </tr>\n",
       "    <tr>\n",
       "      <th>Labrador Retriever</th>\n",
       "      <td>41</td>\n",
       "    </tr>\n",
       "    <tr>\n",
       "      <th>Pug</th>\n",
       "      <td>38</td>\n",
       "    </tr>\n",
       "    <tr>\n",
       "      <th>Pembroke</th>\n",
       "      <td>37</td>\n",
       "    </tr>\n",
       "    <tr>\n",
       "      <th>Pomeranian</th>\n",
       "      <td>23</td>\n",
       "    </tr>\n",
       "    <tr>\n",
       "      <th>Toy Poodle</th>\n",
       "      <td>22</td>\n",
       "    </tr>\n",
       "    <tr>\n",
       "      <th>Samoyed</th>\n",
       "      <td>17</td>\n",
       "    </tr>\n",
       "    <tr>\n",
       "      <th>Shih-Tzu</th>\n",
       "      <td>16</td>\n",
       "    </tr>\n",
       "    <tr>\n",
       "      <th>Maltese Dog</th>\n",
       "      <td>15</td>\n",
       "    </tr>\n",
       "  </tbody>\n",
       "</table>\n",
       "</div>\n",
       "      <button class=\"colab-df-convert\" onclick=\"convertToInteractive('df-ec016d43-f269-4ca9-ab49-814e83d9b12c')\"\n",
       "              title=\"Convert this dataframe to an interactive table.\"\n",
       "              style=\"display:none;\">\n",
       "        \n",
       "  <svg xmlns=\"http://www.w3.org/2000/svg\" height=\"24px\"viewBox=\"0 0 24 24\"\n",
       "       width=\"24px\">\n",
       "    <path d=\"M0 0h24v24H0V0z\" fill=\"none\"/>\n",
       "    <path d=\"M18.56 5.44l.94 2.06.94-2.06 2.06-.94-2.06-.94-.94-2.06-.94 2.06-2.06.94zm-11 1L8.5 8.5l.94-2.06 2.06-.94-2.06-.94L8.5 2.5l-.94 2.06-2.06.94zm10 10l.94 2.06.94-2.06 2.06-.94-2.06-.94-.94-2.06-.94 2.06-2.06.94z\"/><path d=\"M17.41 7.96l-1.37-1.37c-.4-.4-.92-.59-1.43-.59-.52 0-1.04.2-1.43.59L10.3 9.45l-7.72 7.72c-.78.78-.78 2.05 0 2.83L4 21.41c.39.39.9.59 1.41.59.51 0 1.02-.2 1.41-.59l7.78-7.78 2.81-2.81c.8-.78.8-2.07 0-2.86zM5.41 20L4 18.59l7.72-7.72 1.47 1.35L5.41 20z\"/>\n",
       "  </svg>\n",
       "      </button>\n",
       "      \n",
       "  <style>\n",
       "    .colab-df-container {\n",
       "      display:flex;\n",
       "      flex-wrap:wrap;\n",
       "      gap: 12px;\n",
       "    }\n",
       "\n",
       "    .colab-df-convert {\n",
       "      background-color: #E8F0FE;\n",
       "      border: none;\n",
       "      border-radius: 50%;\n",
       "      cursor: pointer;\n",
       "      display: none;\n",
       "      fill: #1967D2;\n",
       "      height: 32px;\n",
       "      padding: 0 0 0 0;\n",
       "      width: 32px;\n",
       "    }\n",
       "\n",
       "    .colab-df-convert:hover {\n",
       "      background-color: #E2EBFA;\n",
       "      box-shadow: 0px 1px 2px rgba(60, 64, 67, 0.3), 0px 1px 3px 1px rgba(60, 64, 67, 0.15);\n",
       "      fill: #174EA6;\n",
       "    }\n",
       "\n",
       "    [theme=dark] .colab-df-convert {\n",
       "      background-color: #3B4455;\n",
       "      fill: #D2E3FC;\n",
       "    }\n",
       "\n",
       "    [theme=dark] .colab-df-convert:hover {\n",
       "      background-color: #434B5C;\n",
       "      box-shadow: 0px 1px 3px 1px rgba(0, 0, 0, 0.15);\n",
       "      filter: drop-shadow(0px 1px 2px rgba(0, 0, 0, 0.3));\n",
       "      fill: #FFFFFF;\n",
       "    }\n",
       "  </style>\n",
       "\n",
       "      <script>\n",
       "        const buttonEl =\n",
       "          document.querySelector('#df-ec016d43-f269-4ca9-ab49-814e83d9b12c button.colab-df-convert');\n",
       "        buttonEl.style.display =\n",
       "          google.colab.kernel.accessAllowed ? 'block' : 'none';\n",
       "\n",
       "        async function convertToInteractive(key) {\n",
       "          const element = document.querySelector('#df-ec016d43-f269-4ca9-ab49-814e83d9b12c');\n",
       "          const dataTable =\n",
       "            await google.colab.kernel.invokeFunction('convertToInteractive',\n",
       "                                                     [key], {});\n",
       "          if (!dataTable) return;\n",
       "\n",
       "          const docLinkHtml = 'Like what you see? Visit the ' +\n",
       "            '<a target=\"_blank\" href=https://colab.research.google.com/notebooks/data_table.ipynb>data table notebook</a>'\n",
       "            + ' to learn more about interactive tables.';\n",
       "          element.innerHTML = '';\n",
       "          dataTable['output_type'] = 'display_data';\n",
       "          await google.colab.output.renderOutput(dataTable, element);\n",
       "          const docLink = document.createElement('div');\n",
       "          docLink.innerHTML = docLinkHtml;\n",
       "          element.appendChild(docLink);\n",
       "        }\n",
       "      </script>\n",
       "    </div>\n",
       "  </div>\n",
       "  "
      ],
      "text/plain": [
       "                    p1\n",
       "Chihuahua           54\n",
       "Golden Retriever    48\n",
       "Labrador Retriever  41\n",
       "Pug                 38\n",
       "Pembroke            37\n",
       "Pomeranian          23\n",
       "Toy Poodle          22\n",
       "Samoyed             17\n",
       "Shih-Tzu            16\n",
       "Maltese Dog         15"
      ]
     },
     "execution_count": 75,
     "metadata": {},
     "output_type": "execute_result"
    }
   ],
   "source": [
    "before = df_clean.query(\"year_month < '2016-04' & p1_dog == True\").p1.value_counts().to_frame()\n",
    "before.head(10)"
   ]
  },
  {
   "cell_type": "markdown",
   "metadata": {
    "id": "xxZe0wBZXR0k"
   },
   "source": [
    "I found that between 2015 December - 2016 March we found that the Chihuahua breed was most posted with 54 tweets and the Golden Retriever being second with 48 tweets. That's a 6 tweets difference."
   ]
  },
  {
   "cell_type": "markdown",
   "metadata": {
    "id": "kebDdL7yXR0l"
   },
   "source": [
    "Visualising the findings."
   ]
  },
  {
   "cell_type": "code",
   "execution_count": 76,
   "metadata": {
    "colab": {
     "base_uri": "https://localhost:8080/",
     "height": 574
    },
    "id": "cecnjqCa92x6",
    "outputId": "5c23cc40-fd08-4024-ff9d-55e72fecdbff"
   },
   "outputs": [
    {
     "data": {
      "image/png": "[encoded data removed]",
      "text/plain": [
       "<Figure size 1080x648 with 1 Axes>"
      ]
     },
     "metadata": {
      "needs_background": "light"
     },
     "output_type": "display_data"
    }
   ],
   "source": [
    "fig, ax = plt.subplots(figsize=(15, 9))\n",
    "track_line = before.query(\"p1 > 9\").sort_values('p1').plot(kind='barh', ax=ax, color=(0.2, 0.4, 0.6, 0.6), label='Dog Breeds')\n",
    "ax.set_xlabel('Breed Counts', fontsize=15)\n",
    "ax.set_ylabel('Dog Breeds', fontsize=15)\n",
    "ax.set_title('Tweets before April 2016', fontsize=15)\n",
    "plt.show()"
   ]
  },
  {
   "cell_type": "markdown",
   "metadata": {
    "id": "5m8rMZjxXR0l"
   },
   "source": [
    "The Golden Retriever follows closely to the number of tweets per month."
   ]
  },
  {
   "cell_type": "markdown",
   "metadata": {
    "id": "m3yC5ApjXR0l"
   },
   "source": [
    "Dog breed was posted the most after April 2016."
   ]
  },
  {
   "cell_type": "code",
   "execution_count": 77,
   "metadata": {
    "colab": {
     "base_uri": "https://localhost:8080/",
     "height": 363
    },
    "id": "xghxiicR92x6",
    "outputId": "2aafee9e-d30b-40b3-d1e4-c74fd0e90dcf"
   },
   "outputs": [
    {
     "data": {
      "text/html": [
       "\n",
       "  <div id=\"df-4e4e9afa-fdbe-4b16-9b8b-4c90ee792185\">\n",
       "    <div class=\"colab-df-container\">\n",
       "      <div>\n",
       "<style scoped>\n",
       "    .dataframe tbody tr th:only-of-type {\n",
       "        vertical-align: middle;\n",
       "    }\n",
       "\n",
       "    .dataframe tbody tr th {\n",
       "        vertical-align: top;\n",
       "    }\n",
       "\n",
       "    .dataframe thead th {\n",
       "        text-align: right;\n",
       "    }\n",
       "</style>\n",
       "<table border=\"1\" class=\"dataframe\">\n",
       "  <thead>\n",
       "    <tr style=\"text-align: right;\">\n",
       "      <th></th>\n",
       "      <th>p1</th>\n",
       "    </tr>\n",
       "  </thead>\n",
       "  <tbody>\n",
       "    <tr>\n",
       "      <th>Golden Retriever</th>\n",
       "      <td>80</td>\n",
       "    </tr>\n",
       "    <tr>\n",
       "      <th>Pembroke</th>\n",
       "      <td>49</td>\n",
       "    </tr>\n",
       "    <tr>\n",
       "      <th>Labrador Retriever</th>\n",
       "      <td>48</td>\n",
       "    </tr>\n",
       "    <tr>\n",
       "      <th>Chow</th>\n",
       "      <td>26</td>\n",
       "    </tr>\n",
       "    <tr>\n",
       "      <th>Chihuahua</th>\n",
       "      <td>22</td>\n",
       "    </tr>\n",
       "    <tr>\n",
       "      <th>Samoyed</th>\n",
       "      <td>19</td>\n",
       "    </tr>\n",
       "    <tr>\n",
       "      <th>Cocker Spaniel</th>\n",
       "      <td>17</td>\n",
       "    </tr>\n",
       "    <tr>\n",
       "      <th>Malamute</th>\n",
       "      <td>16</td>\n",
       "    </tr>\n",
       "    <tr>\n",
       "      <th>German Shepherd</th>\n",
       "      <td>15</td>\n",
       "    </tr>\n",
       "    <tr>\n",
       "      <th>French Bulldog</th>\n",
       "      <td>15</td>\n",
       "    </tr>\n",
       "  </tbody>\n",
       "</table>\n",
       "</div>\n",
       "      <button class=\"colab-df-convert\" onclick=\"convertToInteractive('df-4e4e9afa-fdbe-4b16-9b8b-4c90ee792185')\"\n",
       "              title=\"Convert this dataframe to an interactive table.\"\n",
       "              style=\"display:none;\">\n",
       "        \n",
       "  <svg xmlns=\"http://www.w3.org/2000/svg\" height=\"24px\"viewBox=\"0 0 24 24\"\n",
       "       width=\"24px\">\n",
       "    <path d=\"M0 0h24v24H0V0z\" fill=\"none\"/>\n",
       "    <path d=\"M18.56 5.44l.94 2.06.94-2.06 2.06-.94-2.06-.94-.94-2.06-.94 2.06-2.06.94zm-11 1L8.5 8.5l.94-2.06 2.06-.94-2.06-.94L8.5 2.5l-.94 2.06-2.06.94zm10 10l.94 2.06.94-2.06 2.06-.94-2.06-.94-.94-2.06-.94 2.06-2.06.94z\"/><path d=\"M17.41 7.96l-1.37-1.37c-.4-.4-.92-.59-1.43-.59-.52 0-1.04.2-1.43.59L10.3 9.45l-7.72 7.72c-.78.78-.78 2.05 0 2.83L4 21.41c.39.39.9.59 1.41.59.51 0 1.02-.2 1.41-.59l7.78-7.78 2.81-2.81c.8-.78.8-2.07 0-2.86zM5.41 20L4 18.59l7.72-7.72 1.47 1.35L5.41 20z\"/>\n",
       "  </svg>\n",
       "      </button>\n",
       "      \n",
       "  <style>\n",
       "    .colab-df-container {\n",
       "      display:flex;\n",
       "      flex-wrap:wrap;\n",
       "      gap: 12px;\n",
       "    }\n",
       "\n",
       "    .colab-df-convert {\n",
       "      background-color: #E8F0FE;\n",
       "      border: none;\n",
       "      border-radius: 50%;\n",
       "      cursor: pointer;\n",
       "      display: none;\n",
       "      fill: #1967D2;\n",
       "      height: 32px;\n",
       "      padding: 0 0 0 0;\n",
       "      width: 32px;\n",
       "    }\n",
       "\n",
       "    .colab-df-convert:hover {\n",
       "      background-color: #E2EBFA;\n",
       "      box-shadow: 0px 1px 2px rgba(60, 64, 67, 0.3), 0px 1px 3px 1px rgba(60, 64, 67, 0.15);\n",
       "      fill: #174EA6;\n",
       "    }\n",
       "\n",
       "    [theme=dark] .colab-df-convert {\n",
       "      background-color: #3B4455;\n",
       "      fill: #D2E3FC;\n",
       "    }\n",
       "\n",
       "    [theme=dark] .colab-df-convert:hover {\n",
       "      background-color: #434B5C;\n",
       "      box-shadow: 0px 1px 3px 1px rgba(0, 0, 0, 0.15);\n",
       "      filter: drop-shadow(0px 1px 2px rgba(0, 0, 0, 0.3));\n",
       "      fill: #FFFFFF;\n",
       "    }\n",
       "  </style>\n",
       "\n",
       "      <script>\n",
       "        const buttonEl =\n",
       "          document.querySelector('#df-4e4e9afa-fdbe-4b16-9b8b-4c90ee792185 button.colab-df-convert');\n",
       "        buttonEl.style.display =\n",
       "          google.colab.kernel.accessAllowed ? 'block' : 'none';\n",
       "\n",
       "        async function convertToInteractive(key) {\n",
       "          const element = document.querySelector('#df-4e4e9afa-fdbe-4b16-9b8b-4c90ee792185');\n",
       "          const dataTable =\n",
       "            await google.colab.kernel.invokeFunction('convertToInteractive',\n",
       "                                                     [key], {});\n",
       "          if (!dataTable) return;\n",
       "\n",
       "          const docLinkHtml = 'Like what you see? Visit the ' +\n",
       "            '<a target=\"_blank\" href=https://colab.research.google.com/notebooks/data_table.ipynb>data table notebook</a>'\n",
       "            + ' to learn more about interactive tables.';\n",
       "          element.innerHTML = '';\n",
       "          dataTable['output_type'] = 'display_data';\n",
       "          await google.colab.output.renderOutput(dataTable, element);\n",
       "          const docLink = document.createElement('div');\n",
       "          docLink.innerHTML = docLinkHtml;\n",
       "          element.appendChild(docLink);\n",
       "        }\n",
       "      </script>\n",
       "    </div>\n",
       "  </div>\n",
       "  "
      ],
      "text/plain": [
       "                    p1\n",
       "Golden Retriever    80\n",
       "Pembroke            49\n",
       "Labrador Retriever  48\n",
       "Chow                26\n",
       "Chihuahua           22\n",
       "Samoyed             19\n",
       "Cocker Spaniel      17\n",
       "Malamute            16\n",
       "German Shepherd     15\n",
       "French Bulldog      15"
      ]
     },
     "execution_count": 77,
     "metadata": {},
     "output_type": "execute_result"
    }
   ],
   "source": [
    "after = df_clean.query(\"year_month > '2016-04' & p1_dog == True\").p1.value_counts().to_frame()\n",
    "after.head(10)"
   ]
  },
  {
   "cell_type": "markdown",
   "metadata": {
    "id": "4-0xmVpRXR0l"
   },
   "source": [
    "The Golden Retriever was found to be tweeted 80 times after April 2016 with the previous lead Chihuahua being posted 22 times. The Pembroke breed was tweeted 49 times; 31 tweets behind the Golden Retriever."
   ]
  },
  {
   "cell_type": "markdown",
   "metadata": {
    "id": "K3h5NLS_XR0l"
   },
   "source": [
    "Visualising the findings."
   ]
  },
  {
   "cell_type": "code",
   "execution_count": 78,
   "metadata": {
    "colab": {
     "base_uri": "https://localhost:8080/",
     "height": 574
    },
    "id": "8_Rnfnyb6XLS",
    "outputId": "58243b52-7c93-49a4-b16a-5d5f300a95e8"
   },
   "outputs": [
    {
     "data": {
      "image/png": "[encoded data removed]",
      "text/plain": [
       "<Figure size 1080x648 with 1 Axes>"
      ]
     },
     "metadata": {
      "needs_background": "light"
     },
     "output_type": "display_data"
    }
   ],
   "source": [
    "fig, ax = plt.subplots(figsize=(15, 9))\n",
    "track_line = after.query(\"p1 > 9\").sort_values('p1').plot(label='Dog Breeds',kind='barh', ax=ax, color=(0.2, 0.4, 0.6, 0.6))\n",
    "ax.set_xlabel('Breed Counts', fontsize=15)\n",
    "ax.set_ylabel('Dog Breeds', fontsize=15)\n",
    "ax.set_title('Tweets after April 2016', fontsize=15)\n",
    "plt.show()"
   ]
  },
  {
   "cell_type": "markdown",
   "metadata": {
    "id": "UZrDbgqYXR0m"
   },
   "source": [
    "The Golden Retriever might have save the WeRateDogs twitter page as from the dataset we learned the from April 2016 the page posted a lot of tweets rating the Golden Retrieve breed and thus increasing the engagement with their followers as the number of retweet and favoured tweet kept rising since."
   ]
  }
 ],
 "metadata": {
  "colab": {
   "collapsed_sections": [],
   "provenance": []
  },
  "kernelspec": {
   "display_name": "Python 3 (ipykernel)",
   "language": "python",
   "name": "python3"
  },
  "language_info": {
   "codemirror_mode": {
    "name": "ipython",
    "version": 3
   },
   "file_extension": ".py",
   "mimetype": "text/x-python",
   "name": "python",
   "nbconvert_exporter": "python",
   "pygments_lexer": "ipython3",
   "version": "3.9.12"
  },
  "vscode": {
   "interpreter": {
    "hash": "369f2c481f4da34e4445cda3fffd2e751bd1c4d706f27375911949ba6bb62e1c"
   }
  }
 },
 "nbformat": 4,
 "nbformat_minor": 1
}
